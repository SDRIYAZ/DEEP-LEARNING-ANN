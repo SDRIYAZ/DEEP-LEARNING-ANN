{
  "nbformat": 4,
  "nbformat_minor": 0,
  "metadata": {
    "colab": {
      "name": "Deep Learning (YB).ipynb",
      "provenance": [],
      "authorship_tag": "ABX9TyOnmSVssbtm1bF7Ek19Qe8b",
      "include_colab_link": true
    },
    "kernelspec": {
      "name": "python3",
      "display_name": "Python 3"
    },
    "language_info": {
      "name": "python"
    }
  },
  "cells": [
    {
      "cell_type": "markdown",
      "metadata": {
        "id": "view-in-github",
        "colab_type": "text"
      },
      "source": [
        "<a href=\"https://colab.research.google.com/github/SDRIYAZ/DEEP-LEARNING-ANN/blob/main/Deep_Learning_(YB).ipynb\" target=\"_parent\"><img src=\"https://colab.research.google.com/assets/colab-badge.svg\" alt=\"Open In Colab\"/></a>"
      ]
    },
    {
      "cell_type": "code",
      "metadata": {
        "id": "YHNvZnJFtfp6"
      },
      "source": [
        ""
      ],
      "execution_count": 78,
      "outputs": []
    },
    {
      "cell_type": "markdown",
      "metadata": {
        "id": "gxdlUYwbtqS-"
      },
      "source": [
        "#ANN"
      ]
    },
    {
      "cell_type": "markdown",
      "metadata": {
        "id": "xficl0nw-05F"
      },
      "source": [
        "#How to Select Hidden Layers And Number of Hidden Neurons in ANN\n"
      ]
    },
    {
      "cell_type": "code",
      "metadata": {
        "id": "0mhXdZjhL20A"
      },
      "source": [
        "!pip install -q -U keras-tuner"
      ],
      "execution_count": 91,
      "outputs": []
    },
    {
      "cell_type": "code",
      "metadata": {
        "id": "s6elQAtntr_Y"
      },
      "source": [
        "import pandas as pd\n",
        "from tensorflow import keras\n",
        "from tensorflow.keras import layers\n",
        "from kerastuner.tuners import RandomSearch"
      ],
      "execution_count": 92,
      "outputs": []
    },
    {
      "cell_type": "code",
      "metadata": {
        "id": "aGGpdpMKOPVS"
      },
      "source": [
        "data=pd.read_csv('Real_Combine.csv')"
      ],
      "execution_count": 93,
      "outputs": []
    },
    {
      "cell_type": "code",
      "metadata": {
        "colab": {
          "base_uri": "https://localhost:8080/",
          "height": 328
        },
        "id": "khC45ATuWGeu",
        "outputId": "ba5e795c-e9cd-4158-e516-072f3ec20108"
      },
      "source": [
        "data.corr()"
      ],
      "execution_count": 94,
      "outputs": [
        {
          "output_type": "execute_result",
          "data": {
            "text/html": [
              "<div>\n",
              "<style scoped>\n",
              "    .dataframe tbody tr th:only-of-type {\n",
              "        vertical-align: middle;\n",
              "    }\n",
              "\n",
              "    .dataframe tbody tr th {\n",
              "        vertical-align: top;\n",
              "    }\n",
              "\n",
              "    .dataframe thead th {\n",
              "        text-align: right;\n",
              "    }\n",
              "</style>\n",
              "<table border=\"1\" class=\"dataframe\">\n",
              "  <thead>\n",
              "    <tr style=\"text-align: right;\">\n",
              "      <th></th>\n",
              "      <th>T</th>\n",
              "      <th>TM</th>\n",
              "      <th>Tm</th>\n",
              "      <th>SLP</th>\n",
              "      <th>H</th>\n",
              "      <th>VV</th>\n",
              "      <th>V</th>\n",
              "      <th>VM</th>\n",
              "      <th>PM 2.5</th>\n",
              "    </tr>\n",
              "  </thead>\n",
              "  <tbody>\n",
              "    <tr>\n",
              "      <th>T</th>\n",
              "      <td>1.000000</td>\n",
              "      <td>0.967570</td>\n",
              "      <td>0.953703</td>\n",
              "      <td>-0.881698</td>\n",
              "      <td>-0.510593</td>\n",
              "      <td>0.640738</td>\n",
              "      <td>0.302349</td>\n",
              "      <td>0.288292</td>\n",
              "      <td>-0.631462</td>\n",
              "    </tr>\n",
              "    <tr>\n",
              "      <th>TM</th>\n",
              "      <td>0.967570</td>\n",
              "      <td>1.000000</td>\n",
              "      <td>0.891970</td>\n",
              "      <td>-0.823447</td>\n",
              "      <td>-0.588017</td>\n",
              "      <td>0.606746</td>\n",
              "      <td>0.293309</td>\n",
              "      <td>0.297590</td>\n",
              "      <td>-0.568409</td>\n",
              "    </tr>\n",
              "    <tr>\n",
              "      <th>Tm</th>\n",
              "      <td>0.953703</td>\n",
              "      <td>0.891970</td>\n",
              "      <td>1.000000</td>\n",
              "      <td>-0.917557</td>\n",
              "      <td>-0.288647</td>\n",
              "      <td>0.577382</td>\n",
              "      <td>0.296546</td>\n",
              "      <td>0.267249</td>\n",
              "      <td>-0.673824</td>\n",
              "    </tr>\n",
              "    <tr>\n",
              "      <th>SLP</th>\n",
              "      <td>-0.881698</td>\n",
              "      <td>-0.823447</td>\n",
              "      <td>-0.917557</td>\n",
              "      <td>1.000000</td>\n",
              "      <td>0.242307</td>\n",
              "      <td>-0.518015</td>\n",
              "      <td>-0.330155</td>\n",
              "      <td>-0.311231</td>\n",
              "      <td>0.623187</td>\n",
              "    </tr>\n",
              "    <tr>\n",
              "      <th>H</th>\n",
              "      <td>-0.510593</td>\n",
              "      <td>-0.588017</td>\n",
              "      <td>-0.288647</td>\n",
              "      <td>0.242307</td>\n",
              "      <td>1.000000</td>\n",
              "      <td>-0.465514</td>\n",
              "      <td>-0.380805</td>\n",
              "      <td>-0.362632</td>\n",
              "      <td>0.138005</td>\n",
              "    </tr>\n",
              "    <tr>\n",
              "      <th>VV</th>\n",
              "      <td>0.640738</td>\n",
              "      <td>0.606746</td>\n",
              "      <td>0.577382</td>\n",
              "      <td>-0.518015</td>\n",
              "      <td>-0.465514</td>\n",
              "      <td>1.000000</td>\n",
              "      <td>0.377029</td>\n",
              "      <td>0.342650</td>\n",
              "      <td>-0.573941</td>\n",
              "    </tr>\n",
              "    <tr>\n",
              "      <th>V</th>\n",
              "      <td>0.302349</td>\n",
              "      <td>0.293309</td>\n",
              "      <td>0.296546</td>\n",
              "      <td>-0.330155</td>\n",
              "      <td>-0.380805</td>\n",
              "      <td>0.377029</td>\n",
              "      <td>1.000000</td>\n",
              "      <td>0.775715</td>\n",
              "      <td>-0.268530</td>\n",
              "    </tr>\n",
              "    <tr>\n",
              "      <th>VM</th>\n",
              "      <td>0.288292</td>\n",
              "      <td>0.297590</td>\n",
              "      <td>0.267249</td>\n",
              "      <td>-0.311231</td>\n",
              "      <td>-0.362632</td>\n",
              "      <td>0.342650</td>\n",
              "      <td>0.775715</td>\n",
              "      <td>1.000000</td>\n",
              "      <td>-0.215854</td>\n",
              "    </tr>\n",
              "    <tr>\n",
              "      <th>PM 2.5</th>\n",
              "      <td>-0.631462</td>\n",
              "      <td>-0.568409</td>\n",
              "      <td>-0.673824</td>\n",
              "      <td>0.623187</td>\n",
              "      <td>0.138005</td>\n",
              "      <td>-0.573941</td>\n",
              "      <td>-0.268530</td>\n",
              "      <td>-0.215854</td>\n",
              "      <td>1.000000</td>\n",
              "    </tr>\n",
              "  </tbody>\n",
              "</table>\n",
              "</div>"
            ],
            "text/plain": [
              "               T        TM        Tm  ...         V        VM    PM 2.5\n",
              "T       1.000000  0.967570  0.953703  ...  0.302349  0.288292 -0.631462\n",
              "TM      0.967570  1.000000  0.891970  ...  0.293309  0.297590 -0.568409\n",
              "Tm      0.953703  0.891970  1.000000  ...  0.296546  0.267249 -0.673824\n",
              "SLP    -0.881698 -0.823447 -0.917557  ... -0.330155 -0.311231  0.623187\n",
              "H      -0.510593 -0.588017 -0.288647  ... -0.380805 -0.362632  0.138005\n",
              "VV      0.640738  0.606746  0.577382  ...  0.377029  0.342650 -0.573941\n",
              "V       0.302349  0.293309  0.296546  ...  1.000000  0.775715 -0.268530\n",
              "VM      0.288292  0.297590  0.267249  ...  0.775715  1.000000 -0.215854\n",
              "PM 2.5 -0.631462 -0.568409 -0.673824  ... -0.268530 -0.215854  1.000000\n",
              "\n",
              "[9 rows x 9 columns]"
            ]
          },
          "metadata": {
            "tags": []
          },
          "execution_count": 94
        }
      ]
    },
    {
      "cell_type": "code",
      "metadata": {
        "id": "Ty8k1NVMWNOB"
      },
      "source": [
        "import seaborn as sns"
      ],
      "execution_count": 95,
      "outputs": []
    },
    {
      "cell_type": "code",
      "metadata": {
        "colab": {
          "base_uri": "https://localhost:8080/",
          "height": 287
        },
        "id": "k9FfTFEsWRRh",
        "outputId": "95235241-313b-46d0-b5cf-0ebd3232948f"
      },
      "source": [
        "sns.heatmap(data.corr())"
      ],
      "execution_count": 96,
      "outputs": [
        {
          "output_type": "execute_result",
          "data": {
            "text/plain": [
              "<matplotlib.axes._subplots.AxesSubplot at 0x7f3a890a80d0>"
            ]
          },
          "metadata": {
            "tags": []
          },
          "execution_count": 96
        },
        {
          "output_type": "display_data",
          "data": {
            "image/png": "[encoded data removed]",
            "text/plain": [
              "<Figure size 432x288 with 2 Axes>"
            ]
          },
          "metadata": {
            "tags": [],
            "needs_background": "light"
          }
        }
      ]
    },
    {
      "cell_type": "code",
      "metadata": {
        "colab": {
          "base_uri": "https://localhost:8080/",
          "height": 204
        },
        "id": "0Tgy3Qeg9tA_",
        "outputId": "ce4917ac-75c8-4148-9990-1c22aa262398"
      },
      "source": [
        "data.head()"
      ],
      "execution_count": 97,
      "outputs": [
        {
          "output_type": "execute_result",
          "data": {
            "text/html": [
              "<div>\n",
              "<style scoped>\n",
              "    .dataframe tbody tr th:only-of-type {\n",
              "        vertical-align: middle;\n",
              "    }\n",
              "\n",
              "    .dataframe tbody tr th {\n",
              "        vertical-align: top;\n",
              "    }\n",
              "\n",
              "    .dataframe thead th {\n",
              "        text-align: right;\n",
              "    }\n",
              "</style>\n",
              "<table border=\"1\" class=\"dataframe\">\n",
              "  <thead>\n",
              "    <tr style=\"text-align: right;\">\n",
              "      <th></th>\n",
              "      <th>T</th>\n",
              "      <th>TM</th>\n",
              "      <th>Tm</th>\n",
              "      <th>SLP</th>\n",
              "      <th>H</th>\n",
              "      <th>VV</th>\n",
              "      <th>V</th>\n",
              "      <th>VM</th>\n",
              "      <th>PM 2.5</th>\n",
              "    </tr>\n",
              "  </thead>\n",
              "  <tbody>\n",
              "    <tr>\n",
              "      <th>0</th>\n",
              "      <td>7.4</td>\n",
              "      <td>9.8</td>\n",
              "      <td>4.8</td>\n",
              "      <td>1017.6</td>\n",
              "      <td>93.0</td>\n",
              "      <td>0.5</td>\n",
              "      <td>4.3</td>\n",
              "      <td>9.4</td>\n",
              "      <td>219.720833</td>\n",
              "    </tr>\n",
              "    <tr>\n",
              "      <th>1</th>\n",
              "      <td>7.8</td>\n",
              "      <td>12.7</td>\n",
              "      <td>4.4</td>\n",
              "      <td>1018.5</td>\n",
              "      <td>87.0</td>\n",
              "      <td>0.6</td>\n",
              "      <td>4.4</td>\n",
              "      <td>11.1</td>\n",
              "      <td>182.187500</td>\n",
              "    </tr>\n",
              "    <tr>\n",
              "      <th>2</th>\n",
              "      <td>6.7</td>\n",
              "      <td>13.4</td>\n",
              "      <td>2.4</td>\n",
              "      <td>1019.4</td>\n",
              "      <td>82.0</td>\n",
              "      <td>0.6</td>\n",
              "      <td>4.8</td>\n",
              "      <td>11.1</td>\n",
              "      <td>154.037500</td>\n",
              "    </tr>\n",
              "    <tr>\n",
              "      <th>3</th>\n",
              "      <td>8.6</td>\n",
              "      <td>15.5</td>\n",
              "      <td>3.3</td>\n",
              "      <td>1018.7</td>\n",
              "      <td>72.0</td>\n",
              "      <td>0.8</td>\n",
              "      <td>8.1</td>\n",
              "      <td>20.6</td>\n",
              "      <td>223.208333</td>\n",
              "    </tr>\n",
              "    <tr>\n",
              "      <th>4</th>\n",
              "      <td>12.4</td>\n",
              "      <td>20.9</td>\n",
              "      <td>4.4</td>\n",
              "      <td>1017.3</td>\n",
              "      <td>61.0</td>\n",
              "      <td>1.3</td>\n",
              "      <td>8.7</td>\n",
              "      <td>22.2</td>\n",
              "      <td>200.645833</td>\n",
              "    </tr>\n",
              "  </tbody>\n",
              "</table>\n",
              "</div>"
            ],
            "text/plain": [
              "      T    TM   Tm     SLP     H   VV    V    VM      PM 2.5\n",
              "0   7.4   9.8  4.8  1017.6  93.0  0.5  4.3   9.4  219.720833\n",
              "1   7.8  12.7  4.4  1018.5  87.0  0.6  4.4  11.1  182.187500\n",
              "2   6.7  13.4  2.4  1019.4  82.0  0.6  4.8  11.1  154.037500\n",
              "3   8.6  15.5  3.3  1018.7  72.0  0.8  8.1  20.6  223.208333\n",
              "4  12.4  20.9  4.4  1017.3  61.0  1.3  8.7  22.2  200.645833"
            ]
          },
          "metadata": {
            "tags": []
          },
          "execution_count": 97
        }
      ]
    },
    {
      "cell_type": "code",
      "metadata": {
        "id": "gK-xx8VC9vqm"
      },
      "source": [
        "x=data.iloc[:,:-1] #independent features\n",
        "y=data.iloc[:,-1] #dependent features"
      ],
      "execution_count": 98,
      "outputs": []
    },
    {
      "cell_type": "markdown",
      "metadata": {
        "id": "RIHFJxdFDfrZ"
      },
      "source": [
        "#Hyperparameters\n",
        "  1.how many number of Hidden layers we should have?<br>\n",
        "  2.How many number of neurons we should have in Hidden layers?<br>\n",
        "  3.Learning Rate"
      ]
    },
    {
      "cell_type": "code",
      "metadata": {
        "id": "uq_SRuUY9796"
      },
      "source": [
        "def build_model(ap):\n",
        "    model = keras.Sequential()\n",
        "    for i in range(ap.Int('num_layers', 2, 20)):\n",
        "        model.add(layers.Dense(units=ap.Int('units_' + str(i),\n",
        "                                            min_value=32,\n",
        "                                            max_value=512,\n",
        "                                            step=32),\n",
        "                               activation='relu'))\n",
        "    model.add(layers.Dense(1, activation='linear'))\n",
        "    model.compile(\n",
        "        optimizer=keras.optimizers.Adam(\n",
        "            ap.Choice('learning_rate', [1e-2, 1e-3, 1e-4])),\n",
        "        loss='mean_absolute_error',\n",
        "        metrics=['mean_absolute_error'])\n",
        "    return model\n"
      ],
      "execution_count": 108,
      "outputs": []
    },
    {
      "cell_type": "code",
      "metadata": {
        "colab": {
          "base_uri": "https://localhost:8080/"
        },
        "id": "OwV_A0V0DeZw",
        "outputId": "9972a03a-7c97-4b30-ada5-5d2c956c8a24"
      },
      "source": [
        "tuner = RandomSearch(\n",
        "    build_model,\n",
        "    objective='val_mean_absolute_error',\n",
        "    max_trials=5,\n",
        "    executions_per_trial=3,\n",
        "    directory='project',\n",
        "    project_name='Air Quality Index')\n"
      ],
      "execution_count": 109,
      "outputs": [
        {
          "output_type": "stream",
          "text": [
            "INFO:tensorflow:Reloading Oracle from existing project project/Air Quality Index/oracle.json\n",
            "INFO:tensorflow:Reloading Tuner from project/Air Quality Index/tuner0.json\n"
          ],
          "name": "stdout"
        }
      ]
    },
    {
      "cell_type": "code",
      "metadata": {
        "colab": {
          "base_uri": "https://localhost:8080/"
        },
        "id": "4yUxO_0aHBgF",
        "outputId": "dcc58484-ff3a-4740-90a2-938c695b4955"
      },
      "source": [
        "tuner.search_space_summary()"
      ],
      "execution_count": 104,
      "outputs": [
        {
          "output_type": "stream",
          "text": [
            "Search space summary\n",
            "Default search space size: 21\n",
            "num_layers (Int)\n",
            "{'default': None, 'conditions': [], 'min_value': 2, 'max_value': 20, 'step': 1, 'sampling': None}\n",
            "units_0 (Int)\n",
            "{'default': None, 'conditions': [], 'min_value': 32, 'max_value': 512, 'step': 32, 'sampling': None}\n",
            "units_1 (Int)\n",
            "{'default': None, 'conditions': [], 'min_value': 32, 'max_value': 512, 'step': 32, 'sampling': None}\n",
            "learning_rate (Choice)\n",
            "{'default': 0.01, 'conditions': [], 'values': [0.01, 0.001, 0.0001], 'ordered': True}\n",
            "units_2 (Int)\n",
            "{'default': None, 'conditions': [], 'min_value': 32, 'max_value': 512, 'step': 32, 'sampling': None}\n",
            "units_3 (Int)\n",
            "{'default': None, 'conditions': [], 'min_value': 32, 'max_value': 512, 'step': 32, 'sampling': None}\n",
            "units_4 (Int)\n",
            "{'default': None, 'conditions': [], 'min_value': 32, 'max_value': 512, 'step': 32, 'sampling': None}\n",
            "units_5 (Int)\n",
            "{'default': None, 'conditions': [], 'min_value': 32, 'max_value': 512, 'step': 32, 'sampling': None}\n",
            "units_6 (Int)\n",
            "{'default': None, 'conditions': [], 'min_value': 32, 'max_value': 512, 'step': 32, 'sampling': None}\n",
            "units_7 (Int)\n",
            "{'default': None, 'conditions': [], 'min_value': 32, 'max_value': 512, 'step': 32, 'sampling': None}\n",
            "units_8 (Int)\n",
            "{'default': None, 'conditions': [], 'min_value': 32, 'max_value': 512, 'step': 32, 'sampling': None}\n",
            "units_9 (Int)\n",
            "{'default': None, 'conditions': [], 'min_value': 32, 'max_value': 512, 'step': 32, 'sampling': None}\n",
            "units_10 (Int)\n",
            "{'default': None, 'conditions': [], 'min_value': 32, 'max_value': 512, 'step': 32, 'sampling': None}\n",
            "units_11 (Int)\n",
            "{'default': None, 'conditions': [], 'min_value': 32, 'max_value': 512, 'step': 32, 'sampling': None}\n",
            "units_12 (Int)\n",
            "{'default': None, 'conditions': [], 'min_value': 32, 'max_value': 512, 'step': 32, 'sampling': None}\n",
            "units_13 (Int)\n",
            "{'default': None, 'conditions': [], 'min_value': 32, 'max_value': 512, 'step': 32, 'sampling': None}\n",
            "units_14 (Int)\n",
            "{'default': None, 'conditions': [], 'min_value': 32, 'max_value': 512, 'step': 32, 'sampling': None}\n",
            "units_15 (Int)\n",
            "{'default': None, 'conditions': [], 'min_value': 32, 'max_value': 512, 'step': 32, 'sampling': None}\n",
            "units_16 (Int)\n",
            "{'default': None, 'conditions': [], 'min_value': 32, 'max_value': 512, 'step': 32, 'sampling': None}\n",
            "units_17 (Int)\n",
            "{'default': None, 'conditions': [], 'min_value': 32, 'max_value': 512, 'step': 32, 'sampling': None}\n",
            "units_18 (Int)\n",
            "{'default': None, 'conditions': [], 'min_value': 32, 'max_value': 512, 'step': 32, 'sampling': None}\n"
          ],
          "name": "stdout"
        }
      ]
    },
    {
      "cell_type": "code",
      "metadata": {
        "id": "ktyWP5RbODc2"
      },
      "source": [
        "from sklearn.model_selection import train_test_split\n",
        "X_train,X_test,y_train,y_test = train_test_split(X,y,test_size=0.3,random_state=0)"
      ],
      "execution_count": 105,
      "outputs": []
    },
    {
      "cell_type": "code",
      "metadata": {
        "colab": {
          "base_uri": "https://localhost:8080/"
        },
        "id": "7czXpsX9R5rX",
        "outputId": "7cef35e4-94ed-437d-cff2-cfd1e20e4282"
      },
      "source": [
        "tuner.search(X_train,y_train,\n",
        "             epochs=5,\n",
        "             validation=(X_test,y_test))"
      ],
      "execution_count": 110,
      "outputs": [
        {
          "output_type": "stream",
          "text": [
            "INFO:tensorflow:Oracle triggered exit\n"
          ],
          "name": "stdout"
        }
      ]
    },
    {
      "cell_type": "code",
      "metadata": {
        "colab": {
          "base_uri": "https://localhost:8080/"
        },
        "id": "NbslskVFRXMJ",
        "outputId": "bb76ba38-8a5c-46da-d78c-e91551974c2c"
      },
      "source": [
        "tuner.results_summary()"
      ],
      "execution_count": 107,
      "outputs": [
        {
          "output_type": "stream",
          "text": [
            "Results summary\n",
            "Results in project/Air Quality Index\n",
            "Showing 10 best trials\n",
            "Objective(name='val_mean_absolute_error', direction='min')\n",
            "Trial summary\n",
            "Hyperparameters:\n",
            "num_layers: 9\n",
            "units_0: 288\n",
            "units_1: 64\n",
            "learning_rate: 0.01\n",
            "units_2: 32\n",
            "units_3: 32\n",
            "units_4: 32\n",
            "units_5: 32\n",
            "units_6: 32\n",
            "units_7: 32\n",
            "units_8: 32\n",
            "Score: nan\n",
            "Trial summary\n",
            "Hyperparameters:\n",
            "num_layers: 13\n",
            "units_0: 384\n",
            "units_1: 416\n",
            "learning_rate: 0.01\n",
            "units_2: 320\n",
            "units_3: 448\n",
            "units_4: 320\n",
            "units_5: 32\n",
            "units_6: 96\n",
            "units_7: 160\n",
            "units_8: 352\n",
            "units_9: 32\n",
            "units_10: 32\n",
            "units_11: 32\n",
            "units_12: 32\n",
            "Score: nan\n",
            "Trial summary\n",
            "Hyperparameters:\n",
            "num_layers: 16\n",
            "units_0: 416\n",
            "units_1: 448\n",
            "learning_rate: 0.001\n",
            "units_2: 480\n",
            "units_3: 64\n",
            "units_4: 32\n",
            "units_5: 480\n",
            "units_6: 384\n",
            "units_7: 224\n",
            "units_8: 256\n",
            "units_9: 320\n",
            "units_10: 448\n",
            "units_11: 160\n",
            "units_12: 32\n",
            "units_13: 256\n",
            "units_14: 160\n",
            "units_15: 480\n",
            "units_16: 64\n",
            "units_17: 448\n",
            "units_18: 160\n",
            "Score: nan\n",
            "Trial summary\n",
            "Hyperparameters:\n",
            "num_layers: 19\n",
            "units_0: 288\n",
            "units_1: 128\n",
            "learning_rate: 0.001\n",
            "units_2: 160\n",
            "units_3: 64\n",
            "units_4: 480\n",
            "units_5: 96\n",
            "units_6: 64\n",
            "units_7: 224\n",
            "units_8: 64\n",
            "units_9: 224\n",
            "units_10: 160\n",
            "units_11: 288\n",
            "units_12: 352\n",
            "units_13: 32\n",
            "units_14: 32\n",
            "units_15: 32\n",
            "units_16: 32\n",
            "units_17: 32\n",
            "units_18: 32\n",
            "Score: nan\n",
            "Trial summary\n",
            "Hyperparameters:\n",
            "num_layers: 8\n",
            "units_0: 64\n",
            "units_1: 416\n",
            "learning_rate: 0.01\n",
            "units_2: 192\n",
            "units_3: 352\n",
            "units_4: 160\n",
            "units_5: 160\n",
            "units_6: 224\n",
            "units_7: 192\n",
            "units_8: 192\n",
            "units_9: 448\n",
            "units_10: 320\n",
            "units_11: 480\n",
            "units_12: 480\n",
            "Score: nan\n"
          ],
          "name": "stdout"
        }
      ]
    },
    {
      "cell_type": "code",
      "metadata": {
        "id": "z54p1OuMSI-Z"
      },
      "source": [
        ""
      ],
      "execution_count": null,
      "outputs": []
    },
    {
      "cell_type": "code",
      "metadata": {
        "id": "zS_5T2nzUywC"
      },
      "source": [
        ""
      ],
      "execution_count": null,
      "outputs": []
    }
  ]
}