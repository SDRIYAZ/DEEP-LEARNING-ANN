{
  "nbformat": 4,
  "nbformat_minor": 0,
  "metadata": {
    "colab": {
      "name": "Deep Learning (YB).ipynb",
      "provenance": [],
      "collapsed_sections": [],
      "authorship_tag": "ABX9TyPGehG1SFXPJMF7+v4i37Ae",
      "include_colab_link": true
    },
    "kernelspec": {
      "name": "python3",
      "display_name": "Python 3"
    },
    "language_info": {
      "name": "python"
    }
  },
  "cells": [
    {
      "cell_type": "markdown",
      "metadata": {
        "id": "view-in-github",
        "colab_type": "text"
      },
      "source": [
        "<a href=\"https://colab.research.google.com/github/SDRIYAZ/DEEP-LEARNING-ANN/blob/main/Deep_Learning_(YB).ipynb\" target=\"_parent\"><img src=\"https://colab.research.google.com/assets/colab-badge.svg\" alt=\"Open In Colab\"/></a>"
      ]
    },
    {
      "cell_type": "markdown",
      "metadata": {
        "id": "gxdlUYwbtqS-"
      },
      "source": [
        "#ANN"
      ]
    },
    {
      "cell_type": "markdown",
      "metadata": {
        "id": "xficl0nw-05F"
      },
      "source": [
        "#How to Select Hidden Layers And Number of Hidden Neurons in ANN\n"
      ]
    },
    {
      "cell_type": "code",
      "metadata": {
        "id": "0mhXdZjhL20A"
      },
      "source": [
        "!pip install -q -U keras-tuner"
      ],
      "execution_count": null,
      "outputs": []
    },
    {
      "cell_type": "code",
      "metadata": {
        "id": "s6elQAtntr_Y"
      },
      "source": [
        "import pandas as pd\n",
        "from tensorflow import keras\n",
        "from tensorflow.keras import layers\n",
        "from kerastuner.tuners import RandomSearch"
      ],
      "execution_count": null,
      "outputs": []
    },
    {
      "cell_type": "code",
      "metadata": {
        "id": "aGGpdpMKOPVS"
      },
      "source": [
        "data=pd.read_csv('Real_Combine.csv')"
      ],
      "execution_count": null,
      "outputs": []
    },
    {
      "cell_type": "code",
      "metadata": {
        "colab": {
          "base_uri": "https://localhost:8080/",
          "height": 365
        },
        "id": "khC45ATuWGeu",
        "outputId": "a1fe1b97-0897-49ee-9e54-a528157f5446"
      },
      "source": [
        "data.corr()"
      ],
      "execution_count": null,
      "outputs": [
        {
          "output_type": "execute_result",
          "data": {
            "text/html": [
              "<div>\n",
              "<style scoped>\n",
              "    .dataframe tbody tr th:only-of-type {\n",
              "        vertical-align: middle;\n",
              "    }\n",
              "\n",
              "    .dataframe tbody tr th {\n",
              "        vertical-align: top;\n",
              "    }\n",
              "\n",
              "    .dataframe thead th {\n",
              "        text-align: right;\n",
              "    }\n",
              "</style>\n",
              "<table border=\"1\" class=\"dataframe\">\n",
              "  <thead>\n",
              "    <tr style=\"text-align: right;\">\n",
              "      <th></th>\n",
              "      <th>T</th>\n",
              "      <th>TM</th>\n",
              "      <th>Tm</th>\n",
              "      <th>SLP</th>\n",
              "      <th>H</th>\n",
              "      <th>VV</th>\n",
              "      <th>V</th>\n",
              "      <th>VM</th>\n",
              "      <th>PM 2.5</th>\n",
              "    </tr>\n",
              "  </thead>\n",
              "  <tbody>\n",
              "    <tr>\n",
              "      <th>T</th>\n",
              "      <td>1.000000</td>\n",
              "      <td>0.967570</td>\n",
              "      <td>0.953703</td>\n",
              "      <td>-0.881698</td>\n",
              "      <td>-0.510593</td>\n",
              "      <td>0.640738</td>\n",
              "      <td>0.302349</td>\n",
              "      <td>0.288292</td>\n",
              "      <td>-0.631462</td>\n",
              "    </tr>\n",
              "    <tr>\n",
              "      <th>TM</th>\n",
              "      <td>0.967570</td>\n",
              "      <td>1.000000</td>\n",
              "      <td>0.891970</td>\n",
              "      <td>-0.823447</td>\n",
              "      <td>-0.588017</td>\n",
              "      <td>0.606746</td>\n",
              "      <td>0.293309</td>\n",
              "      <td>0.297590</td>\n",
              "      <td>-0.568409</td>\n",
              "    </tr>\n",
              "    <tr>\n",
              "      <th>Tm</th>\n",
              "      <td>0.953703</td>\n",
              "      <td>0.891970</td>\n",
              "      <td>1.000000</td>\n",
              "      <td>-0.917557</td>\n",
              "      <td>-0.288647</td>\n",
              "      <td>0.577382</td>\n",
              "      <td>0.296546</td>\n",
              "      <td>0.267249</td>\n",
              "      <td>-0.673824</td>\n",
              "    </tr>\n",
              "    <tr>\n",
              "      <th>SLP</th>\n",
              "      <td>-0.881698</td>\n",
              "      <td>-0.823447</td>\n",
              "      <td>-0.917557</td>\n",
              "      <td>1.000000</td>\n",
              "      <td>0.242307</td>\n",
              "      <td>-0.518015</td>\n",
              "      <td>-0.330155</td>\n",
              "      <td>-0.311231</td>\n",
              "      <td>0.623187</td>\n",
              "    </tr>\n",
              "    <tr>\n",
              "      <th>H</th>\n",
              "      <td>-0.510593</td>\n",
              "      <td>-0.588017</td>\n",
              "      <td>-0.288647</td>\n",
              "      <td>0.242307</td>\n",
              "      <td>1.000000</td>\n",
              "      <td>-0.465514</td>\n",
              "      <td>-0.380805</td>\n",
              "      <td>-0.362632</td>\n",
              "      <td>0.138005</td>\n",
              "    </tr>\n",
              "    <tr>\n",
              "      <th>VV</th>\n",
              "      <td>0.640738</td>\n",
              "      <td>0.606746</td>\n",
              "      <td>0.577382</td>\n",
              "      <td>-0.518015</td>\n",
              "      <td>-0.465514</td>\n",
              "      <td>1.000000</td>\n",
              "      <td>0.377029</td>\n",
              "      <td>0.342650</td>\n",
              "      <td>-0.573941</td>\n",
              "    </tr>\n",
              "    <tr>\n",
              "      <th>V</th>\n",
              "      <td>0.302349</td>\n",
              "      <td>0.293309</td>\n",
              "      <td>0.296546</td>\n",
              "      <td>-0.330155</td>\n",
              "      <td>-0.380805</td>\n",
              "      <td>0.377029</td>\n",
              "      <td>1.000000</td>\n",
              "      <td>0.775715</td>\n",
              "      <td>-0.268530</td>\n",
              "    </tr>\n",
              "    <tr>\n",
              "      <th>VM</th>\n",
              "      <td>0.288292</td>\n",
              "      <td>0.297590</td>\n",
              "      <td>0.267249</td>\n",
              "      <td>-0.311231</td>\n",
              "      <td>-0.362632</td>\n",
              "      <td>0.342650</td>\n",
              "      <td>0.775715</td>\n",
              "      <td>1.000000</td>\n",
              "      <td>-0.215854</td>\n",
              "    </tr>\n",
              "    <tr>\n",
              "      <th>PM 2.5</th>\n",
              "      <td>-0.631462</td>\n",
              "      <td>-0.568409</td>\n",
              "      <td>-0.673824</td>\n",
              "      <td>0.623187</td>\n",
              "      <td>0.138005</td>\n",
              "      <td>-0.573941</td>\n",
              "      <td>-0.268530</td>\n",
              "      <td>-0.215854</td>\n",
              "      <td>1.000000</td>\n",
              "    </tr>\n",
              "  </tbody>\n",
              "</table>\n",
              "</div>"
            ],
            "text/plain": [
              "               T        TM        Tm  ...         V        VM    PM 2.5\n",
              "T       1.000000  0.967570  0.953703  ...  0.302349  0.288292 -0.631462\n",
              "TM      0.967570  1.000000  0.891970  ...  0.293309  0.297590 -0.568409\n",
              "Tm      0.953703  0.891970  1.000000  ...  0.296546  0.267249 -0.673824\n",
              "SLP    -0.881698 -0.823447 -0.917557  ... -0.330155 -0.311231  0.623187\n",
              "H      -0.510593 -0.588017 -0.288647  ... -0.380805 -0.362632  0.138005\n",
              "VV      0.640738  0.606746  0.577382  ...  0.377029  0.342650 -0.573941\n",
              "V       0.302349  0.293309  0.296546  ...  1.000000  0.775715 -0.268530\n",
              "VM      0.288292  0.297590  0.267249  ...  0.775715  1.000000 -0.215854\n",
              "PM 2.5 -0.631462 -0.568409 -0.673824  ... -0.268530 -0.215854  1.000000\n",
              "\n",
              "[9 rows x 9 columns]"
            ]
          },
          "metadata": {
            "tags": []
          },
          "execution_count": 21
        }
      ]
    },
    {
      "cell_type": "code",
      "metadata": {
        "id": "Ty8k1NVMWNOB"
      },
      "source": [
        "import seaborn as sns"
      ],
      "execution_count": null,
      "outputs": []
    },
    {
      "cell_type": "code",
      "metadata": {
        "colab": {
          "base_uri": "https://localhost:8080/",
          "height": 287
        },
        "id": "k9FfTFEsWRRh",
        "outputId": "1aa11285-ac43-42f1-88f4-b9f4031d7bc7"
      },
      "source": [
        "sns.heatmap(data.corr())"
      ],
      "execution_count": null,
      "outputs": [
        {
          "output_type": "execute_result",
          "data": {
            "text/plain": [
              "<matplotlib.axes._subplots.AxesSubplot at 0x7fb542268590>"
            ]
          },
          "metadata": {
            "tags": []
          },
          "execution_count": 23
        },
        {
          "output_type": "display_data",
          "data": {
            "image/png": "[encoded data removed]",
            "text/plain": [
              "<Figure size 432x288 with 2 Axes>"
            ]
          },
          "metadata": {
            "tags": [],
            "needs_background": "light"
          }
        }
      ]
    },
    {
      "cell_type": "code",
      "metadata": {
        "colab": {
          "base_uri": "https://localhost:8080/",
          "height": 204
        },
        "id": "0Tgy3Qeg9tA_",
        "outputId": "943b26a0-8324-4e91-8dc7-f96b08b1d493"
      },
      "source": [
        "data.head()"
      ],
      "execution_count": null,
      "outputs": [
        {
          "output_type": "execute_result",
          "data": {
            "text/html": [
              "<div>\n",
              "<style scoped>\n",
              "    .dataframe tbody tr th:only-of-type {\n",
              "        vertical-align: middle;\n",
              "    }\n",
              "\n",
              "    .dataframe tbody tr th {\n",
              "        vertical-align: top;\n",
              "    }\n",
              "\n",
              "    .dataframe thead th {\n",
              "        text-align: right;\n",
              "    }\n",
              "</style>\n",
              "<table border=\"1\" class=\"dataframe\">\n",
              "  <thead>\n",
              "    <tr style=\"text-align: right;\">\n",
              "      <th></th>\n",
              "      <th>T</th>\n",
              "      <th>TM</th>\n",
              "      <th>Tm</th>\n",
              "      <th>SLP</th>\n",
              "      <th>H</th>\n",
              "      <th>VV</th>\n",
              "      <th>V</th>\n",
              "      <th>VM</th>\n",
              "      <th>PM 2.5</th>\n",
              "    </tr>\n",
              "  </thead>\n",
              "  <tbody>\n",
              "    <tr>\n",
              "      <th>0</th>\n",
              "      <td>7.4</td>\n",
              "      <td>9.8</td>\n",
              "      <td>4.8</td>\n",
              "      <td>1017.6</td>\n",
              "      <td>93.0</td>\n",
              "      <td>0.5</td>\n",
              "      <td>4.3</td>\n",
              "      <td>9.4</td>\n",
              "      <td>219.720833</td>\n",
              "    </tr>\n",
              "    <tr>\n",
              "      <th>1</th>\n",
              "      <td>7.8</td>\n",
              "      <td>12.7</td>\n",
              "      <td>4.4</td>\n",
              "      <td>1018.5</td>\n",
              "      <td>87.0</td>\n",
              "      <td>0.6</td>\n",
              "      <td>4.4</td>\n",
              "      <td>11.1</td>\n",
              "      <td>182.187500</td>\n",
              "    </tr>\n",
              "    <tr>\n",
              "      <th>2</th>\n",
              "      <td>6.7</td>\n",
              "      <td>13.4</td>\n",
              "      <td>2.4</td>\n",
              "      <td>1019.4</td>\n",
              "      <td>82.0</td>\n",
              "      <td>0.6</td>\n",
              "      <td>4.8</td>\n",
              "      <td>11.1</td>\n",
              "      <td>154.037500</td>\n",
              "    </tr>\n",
              "    <tr>\n",
              "      <th>3</th>\n",
              "      <td>8.6</td>\n",
              "      <td>15.5</td>\n",
              "      <td>3.3</td>\n",
              "      <td>1018.7</td>\n",
              "      <td>72.0</td>\n",
              "      <td>0.8</td>\n",
              "      <td>8.1</td>\n",
              "      <td>20.6</td>\n",
              "      <td>223.208333</td>\n",
              "    </tr>\n",
              "    <tr>\n",
              "      <th>4</th>\n",
              "      <td>12.4</td>\n",
              "      <td>20.9</td>\n",
              "      <td>4.4</td>\n",
              "      <td>1017.3</td>\n",
              "      <td>61.0</td>\n",
              "      <td>1.3</td>\n",
              "      <td>8.7</td>\n",
              "      <td>22.2</td>\n",
              "      <td>200.645833</td>\n",
              "    </tr>\n",
              "  </tbody>\n",
              "</table>\n",
              "</div>"
            ],
            "text/plain": [
              "      T    TM   Tm     SLP     H   VV    V    VM      PM 2.5\n",
              "0   7.4   9.8  4.8  1017.6  93.0  0.5  4.3   9.4  219.720833\n",
              "1   7.8  12.7  4.4  1018.5  87.0  0.6  4.4  11.1  182.187500\n",
              "2   6.7  13.4  2.4  1019.4  82.0  0.6  4.8  11.1  154.037500\n",
              "3   8.6  15.5  3.3  1018.7  72.0  0.8  8.1  20.6  223.208333\n",
              "4  12.4  20.9  4.4  1017.3  61.0  1.3  8.7  22.2  200.645833"
            ]
          },
          "metadata": {
            "tags": []
          },
          "execution_count": 24
        }
      ]
    },
    {
      "cell_type": "code",
      "metadata": {
        "id": "gK-xx8VC9vqm"
      },
      "source": [
        "x=data.iloc[:,:-1] #independent features\n",
        "y=data.iloc[:,-1] #dependent features"
      ],
      "execution_count": null,
      "outputs": []
    },
    {
      "cell_type": "markdown",
      "metadata": {
        "id": "RIHFJxdFDfrZ"
      },
      "source": [
        "#Hyperparameters\n",
        "  1.how many number of Hidden layers we should have?<br>\n",
        "  2.How many number of neurons we should have in Hidden layers?<br>\n",
        "  3.Learning Rate"
      ]
    },
    {
      "cell_type": "code",
      "metadata": {
        "id": "uq_SRuUY9796"
      },
      "source": [
        "def build_model(ap):\n",
        "    model = keras.Sequential()\n",
        "    for i in range(ap.Int('num_layers', 2, 20)):\n",
        "        model.add(layers.Dense(units=ap.Int('units_' + str(i),\n",
        "                                            min_value=32,\n",
        "                                            max_value=512,\n",
        "                                            step=32),\n",
        "                               activation='relu'))\n",
        "    model.add(layers.Dense(1, activation='linear'))\n",
        "    model.compile(\n",
        "        optimizer=keras.optimizers.Adam(\n",
        "            ap.Choice('learning_rate', [1e-2, 1e-3, 1e-4])),\n",
        "        loss='mean_absolute_error',\n",
        "        metrics=['mean_absolute_error'])\n",
        "    return model\n"
      ],
      "execution_count": null,
      "outputs": []
    },
    {
      "cell_type": "code",
      "metadata": {
        "id": "OwV_A0V0DeZw"
      },
      "source": [
        "tuner = RandomSearch(\n",
        "    build_model,\n",
        "    objective='val_mean_absolute_error',\n",
        "    max_trials=5,\n",
        "    executions_per_trial=3,\n",
        "    directory='project',\n",
        "    project_name='Air Quality Index')\n"
      ],
      "execution_count": null,
      "outputs": []
    },
    {
      "cell_type": "code",
      "metadata": {
        "colab": {
          "base_uri": "https://localhost:8080/"
        },
        "id": "4yUxO_0aHBgF",
        "outputId": "a5d81e4b-1077-41de-de25-fcdc88e35662"
      },
      "source": [
        "tuner.search_space_summary()"
      ],
      "execution_count": null,
      "outputs": [
        {
          "output_type": "stream",
          "text": [
            "Search space summary\n",
            "Default search space size: 4\n",
            "num_layers (Int)\n",
            "{'default': None, 'conditions': [], 'min_value': 2, 'max_value': 20, 'step': 1, 'sampling': None}\n",
            "units_0 (Int)\n",
            "{'default': None, 'conditions': [], 'min_value': 32, 'max_value': 512, 'step': 32, 'sampling': None}\n",
            "units_1 (Int)\n",
            "{'default': None, 'conditions': [], 'min_value': 32, 'max_value': 512, 'step': 32, 'sampling': None}\n",
            "learning_rate (Choice)\n",
            "{'default': 0.01, 'conditions': [], 'values': [0.01, 0.001, 0.0001], 'ordered': True}\n"
          ],
          "name": "stdout"
        }
      ]
    },
    {
      "cell_type": "code",
      "metadata": {
        "id": "ktyWP5RbODc2"
      },
      "source": [
        "from sklearn.model_selection import train_test_split\n",
        "x_train,x_test,y_train,y_test = train_test_split(x,y,test_size=0.3,random_state=0)"
      ],
      "execution_count": null,
      "outputs": []
    },
    {
      "cell_type": "code",
      "metadata": {
        "colab": {
          "base_uri": "https://localhost:8080/"
        },
        "id": "7czXpsX9R5rX",
        "outputId": "b572c976-5677-4fa3-8834-27d67f68ba10"
      },
      "source": [
        "tuner.search(x_train,y_train,\n",
        "             epochs=5,\n",
        "             validation_data=(x_test,y_test))"
      ],
      "execution_count": null,
      "outputs": [
        {
          "output_type": "stream",
          "text": [
            "Trial 5 Complete [00h 00m 04s]\n",
            "val_mean_absolute_error: nan\n",
            "\n",
            "Best val_mean_absolute_error So Far: nan\n",
            "Total elapsed time: 00h 00m 27s\n",
            "INFO:tensorflow:Oracle triggered exit\n"
          ],
          "name": "stdout"
        }
      ]
    },
    {
      "cell_type": "code",
      "metadata": {
        "colab": {
          "base_uri": "https://localhost:8080/"
        },
        "id": "NbslskVFRXMJ",
        "outputId": "dcbfb848-efd2-4ddb-c3c9-10484764102b"
      },
      "source": [
        "tuner.results_summary()"
      ],
      "execution_count": null,
      "outputs": [
        {
          "output_type": "stream",
          "text": [
            "Results summary\n",
            "Results in project/Air Quality Index\n",
            "Showing 10 best trials\n",
            "Objective(name='val_mean_absolute_error', direction='min')\n",
            "Trial summary\n",
            "Hyperparameters:\n",
            "num_layers: 11\n",
            "units_0: 416\n",
            "units_1: 96\n",
            "learning_rate: 0.001\n",
            "units_2: 32\n",
            "units_3: 32\n",
            "units_4: 32\n",
            "units_5: 32\n",
            "units_6: 32\n",
            "units_7: 32\n",
            "units_8: 32\n",
            "units_9: 32\n",
            "units_10: 32\n",
            "Score: nan\n",
            "Trial summary\n",
            "Hyperparameters:\n",
            "num_layers: 16\n",
            "units_0: 256\n",
            "units_1: 320\n",
            "learning_rate: 0.0001\n",
            "units_2: 320\n",
            "units_3: 416\n",
            "units_4: 224\n",
            "units_5: 352\n",
            "units_6: 480\n",
            "units_7: 416\n",
            "units_8: 448\n",
            "units_9: 128\n",
            "units_10: 416\n",
            "units_11: 32\n",
            "units_12: 32\n",
            "units_13: 32\n",
            "units_14: 32\n",
            "units_15: 32\n",
            "Score: nan\n",
            "Trial summary\n",
            "Hyperparameters:\n",
            "num_layers: 18\n",
            "units_0: 224\n",
            "units_1: 480\n",
            "learning_rate: 0.0001\n",
            "units_2: 352\n",
            "units_3: 64\n",
            "units_4: 320\n",
            "units_5: 320\n",
            "units_6: 384\n",
            "units_7: 288\n",
            "units_8: 64\n",
            "units_9: 288\n",
            "units_10: 352\n",
            "units_11: 128\n",
            "units_12: 352\n",
            "units_13: 448\n",
            "units_14: 160\n",
            "units_15: 416\n",
            "units_16: 32\n",
            "units_17: 32\n",
            "Score: nan\n",
            "Trial summary\n",
            "Hyperparameters:\n",
            "num_layers: 5\n",
            "units_0: 448\n",
            "units_1: 320\n",
            "learning_rate: 0.001\n",
            "units_2: 192\n",
            "units_3: 352\n",
            "units_4: 480\n",
            "units_5: 224\n",
            "units_6: 320\n",
            "units_7: 320\n",
            "units_8: 128\n",
            "units_9: 128\n",
            "units_10: 256\n",
            "units_11: 512\n",
            "units_12: 512\n",
            "units_13: 288\n",
            "units_14: 416\n",
            "units_15: 448\n",
            "units_16: 416\n",
            "units_17: 512\n",
            "Score: nan\n",
            "Trial summary\n",
            "Hyperparameters:\n",
            "num_layers: 11\n",
            "units_0: 384\n",
            "units_1: 384\n",
            "learning_rate: 0.0001\n",
            "units_2: 416\n",
            "units_3: 448\n",
            "units_4: 416\n",
            "units_5: 512\n",
            "units_6: 416\n",
            "units_7: 480\n",
            "units_8: 416\n",
            "units_9: 448\n",
            "units_10: 128\n",
            "units_11: 224\n",
            "units_12: 256\n",
            "units_13: 32\n",
            "units_14: 96\n",
            "units_15: 224\n",
            "units_16: 160\n",
            "units_17: 352\n",
            "Score: nan\n"
          ],
          "name": "stdout"
        }
      ]
    },
    {
      "cell_type": "code",
      "metadata": {
        "id": "z54p1OuMSI-Z"
      },
      "source": [
        ""
      ],
      "execution_count": null,
      "outputs": []
    },
    {
      "cell_type": "markdown",
      "metadata": {
        "id": "9DgjfJwnyhsK"
      },
      "source": [
        "# How To Decide Number of Hidden Layers in  Neural Network"
      ]
    },
    {
      "cell_type": "code",
      "metadata": {
        "id": "V36n13nm2L-o"
      },
      "source": [
        "import numpy as np\n",
        "import matplotlib.pyplot as plt\n",
        "import pandas as pd\n",
        "from keras.layers import Dropout\n",
        "\n",
        "# Importing the dataset\n",
        "dataset = pd.read_csv('Churn_Modelling.csv')\n",
        "x = dataset.iloc[:, 3:13]\n",
        "y = dataset.iloc[:, 13]\n",
        "\n",
        "#Create dummy variables\n",
        "geography=pd.get_dummies(x[\"Geography\"],drop_first=True)\n",
        "gender=pd.get_dummies(x['Gender'],drop_first=True)\n",
        "\n",
        "## Concatenate the Data Frames\n",
        "\n",
        "x=pd.concat([x,geography,gender],axis=1)\n",
        "\n",
        "## Drop Unnecessary columns\n",
        "x=x.drop(['Geography','Gender'],axis=1)\n",
        "\n",
        "# Splitting the dataset into the Training set and Test set\n",
        "from sklearn.model_selection import train_test_split\n",
        "x_train, x_test, y_train, y_test = train_test_split(x, y, test_size = 0.2, random_state = 0)\n",
        "\n",
        "# Feature Scaling\n",
        "from sklearn.preprocessing import StandardScaler\n",
        "sc = StandardScaler()\n",
        "x_train = sc.fit_transform(x_train)\n",
        "x_test = sc.transform(x_test)\n",
        "\n",
        "## Perform Hyperparameter Optimization\n",
        "\n",
        "from keras.wrappers.scikit_learn import KerasClassifier\n",
        "from sklearn.model_selection import GridSearchCV\n"
      ],
      "execution_count": null,
      "outputs": []
    },
    {
      "cell_type": "code",
      "metadata": {
        "id": "xIq7Ao8_yxHe"
      },
      "source": [
        "import keras \n",
        "from keras.models import Sequential\n",
        "from keras.layers import Dense,Activation,Flatten,LeakyReLU,BatchNormalization\n",
        "from keras.activations import relu,sigmoid"
      ],
      "execution_count": null,
      "outputs": []
    },
    {
      "cell_type": "code",
      "metadata": {
        "id": "Zy8OmIAxyxCI"
      },
      "source": [
        "def create_model(layers,activation):\n",
        "  model=Sequential()\n",
        "  for i,nodes in enumerate(layers):\n",
        "    if i==0:\n",
        "      model.add(Dense(nodes,input_dim=x_train.shape[1]))\n",
        "      model.add(Activation(activation))\n",
        "      model.add(Dropout(0.3))\n",
        "    else:\n",
        "     model.add(Dense(nodes))\n",
        "     model.add(Activation(activation))\n",
        "     model.add(Dropout(0.3))\n",
        "\n",
        "\n",
        "  model.add(Dense(units=1,kernel_initializer='lecun_uniform',activation='sigmoid'))\n",
        "  model.compile(optimizer='adam',loss='binary_crossentropy',metrics=['accuracy'])\n",
        "  return model\n",
        "\n",
        "\n",
        "model = KerasClassifier(build_fn=create_model,verbose=0)\n",
        "\n",
        "layers=[[20],[40,20],[45,30,15]]\n",
        "activations=['sigmoid','relu']\n",
        "param_grid =dict(layers=layers,activation=activations,batch_size=[128,256],epochs=[30])\n",
        "grid= GridSearchCV(estimator=model,param_grid=param_grid,cv=5,return_train_score=True)\n",
        "grid_result=grid.fit(x_train,y_train)\n",
        "print(grid_result,grid_result)\n",
        "\n"
      ],
      "execution_count": null,
      "outputs": []
    },
    {
      "cell_type": "code",
      "metadata": {
        "id": "PA8HlF1NywP7"
      },
      "source": [
        ""
      ],
      "execution_count": null,
      "outputs": []
    },
    {
      "cell_type": "markdown",
      "metadata": {
        "id": "hUkG_dOWrVyd"
      },
      "source": [
        "#Creating ANN Using Weight Initialization trick"
      ]
    },
    {
      "cell_type": "code",
      "metadata": {
        "id": "zS_5T2nzUywC"
      },
      "source": [
        "!pip install -q keras\n"
      ],
      "execution_count": null,
      "outputs": []
    },
    {
      "cell_type": "code",
      "metadata": {
        "id": "I-_4NOvUFvDp"
      },
      "source": [
        "import pandas as pd\n",
        "import numpy as np\n",
        "import matplotlib.pyplot as plt\n"
      ],
      "execution_count": null,
      "outputs": []
    },
    {
      "cell_type": "code",
      "metadata": {
        "id": "IzxoFvQtGRve"
      },
      "source": [
        "data=pd.read_csv('Churn_Modelling.csv')\n",
        "x=data.iloc[:,3:13]\n",
        "y=data.iloc[:,13]"
      ],
      "execution_count": null,
      "outputs": []
    },
    {
      "cell_type": "code",
      "metadata": {
        "colab": {
          "base_uri": "https://localhost:8080/",
          "height": 224
        },
        "id": "8C-tcaxTGkU6",
        "outputId": "5c8157d1-4c8a-40fc-b7d8-01fce026006a"
      },
      "source": [
        "data.head()"
      ],
      "execution_count": null,
      "outputs": [
        {
          "output_type": "execute_result",
          "data": {
            "text/html": [
              "<div>\n",
              "<style scoped>\n",
              "    .dataframe tbody tr th:only-of-type {\n",
              "        vertical-align: middle;\n",
              "    }\n",
              "\n",
              "    .dataframe tbody tr th {\n",
              "        vertical-align: top;\n",
              "    }\n",
              "\n",
              "    .dataframe thead th {\n",
              "        text-align: right;\n",
              "    }\n",
              "</style>\n",
              "<table border=\"1\" class=\"dataframe\">\n",
              "  <thead>\n",
              "    <tr style=\"text-align: right;\">\n",
              "      <th></th>\n",
              "      <th>RowNumber</th>\n",
              "      <th>CustomerId</th>\n",
              "      <th>Surname</th>\n",
              "      <th>CreditScore</th>\n",
              "      <th>Geography</th>\n",
              "      <th>Gender</th>\n",
              "      <th>Age</th>\n",
              "      <th>Tenure</th>\n",
              "      <th>Balance</th>\n",
              "      <th>NumOfProducts</th>\n",
              "      <th>HasCrCard</th>\n",
              "      <th>IsActiveMember</th>\n",
              "      <th>EstimatedSalary</th>\n",
              "      <th>Exited</th>\n",
              "    </tr>\n",
              "  </thead>\n",
              "  <tbody>\n",
              "    <tr>\n",
              "      <th>0</th>\n",
              "      <td>1</td>\n",
              "      <td>15634602</td>\n",
              "      <td>Hargrave</td>\n",
              "      <td>619</td>\n",
              "      <td>France</td>\n",
              "      <td>Female</td>\n",
              "      <td>42</td>\n",
              "      <td>2</td>\n",
              "      <td>0.00</td>\n",
              "      <td>1</td>\n",
              "      <td>1</td>\n",
              "      <td>1</td>\n",
              "      <td>101348.88</td>\n",
              "      <td>1</td>\n",
              "    </tr>\n",
              "    <tr>\n",
              "      <th>1</th>\n",
              "      <td>2</td>\n",
              "      <td>15647311</td>\n",
              "      <td>Hill</td>\n",
              "      <td>608</td>\n",
              "      <td>Spain</td>\n",
              "      <td>Female</td>\n",
              "      <td>41</td>\n",
              "      <td>1</td>\n",
              "      <td>83807.86</td>\n",
              "      <td>1</td>\n",
              "      <td>0</td>\n",
              "      <td>1</td>\n",
              "      <td>112542.58</td>\n",
              "      <td>0</td>\n",
              "    </tr>\n",
              "    <tr>\n",
              "      <th>2</th>\n",
              "      <td>3</td>\n",
              "      <td>15619304</td>\n",
              "      <td>Onio</td>\n",
              "      <td>502</td>\n",
              "      <td>France</td>\n",
              "      <td>Female</td>\n",
              "      <td>42</td>\n",
              "      <td>8</td>\n",
              "      <td>159660.80</td>\n",
              "      <td>3</td>\n",
              "      <td>1</td>\n",
              "      <td>0</td>\n",
              "      <td>113931.57</td>\n",
              "      <td>1</td>\n",
              "    </tr>\n",
              "    <tr>\n",
              "      <th>3</th>\n",
              "      <td>4</td>\n",
              "      <td>15701354</td>\n",
              "      <td>Boni</td>\n",
              "      <td>699</td>\n",
              "      <td>France</td>\n",
              "      <td>Female</td>\n",
              "      <td>39</td>\n",
              "      <td>1</td>\n",
              "      <td>0.00</td>\n",
              "      <td>2</td>\n",
              "      <td>0</td>\n",
              "      <td>0</td>\n",
              "      <td>93826.63</td>\n",
              "      <td>0</td>\n",
              "    </tr>\n",
              "    <tr>\n",
              "      <th>4</th>\n",
              "      <td>5</td>\n",
              "      <td>15737888</td>\n",
              "      <td>Mitchell</td>\n",
              "      <td>850</td>\n",
              "      <td>Spain</td>\n",
              "      <td>Female</td>\n",
              "      <td>43</td>\n",
              "      <td>2</td>\n",
              "      <td>125510.82</td>\n",
              "      <td>1</td>\n",
              "      <td>1</td>\n",
              "      <td>1</td>\n",
              "      <td>79084.10</td>\n",
              "      <td>0</td>\n",
              "    </tr>\n",
              "  </tbody>\n",
              "</table>\n",
              "</div>"
            ],
            "text/plain": [
              "   RowNumber  CustomerId   Surname  ...  IsActiveMember EstimatedSalary Exited\n",
              "0          1    15634602  Hargrave  ...               1       101348.88      1\n",
              "1          2    15647311      Hill  ...               1       112542.58      0\n",
              "2          3    15619304      Onio  ...               0       113931.57      1\n",
              "3          4    15701354      Boni  ...               0        93826.63      0\n",
              "4          5    15737888  Mitchell  ...               1        79084.10      0\n",
              "\n",
              "[5 rows x 14 columns]"
            ]
          },
          "metadata": {
            "tags": []
          },
          "execution_count": 16
        }
      ]
    },
    {
      "cell_type": "code",
      "metadata": {
        "id": "DJn05PTASwr5"
      },
      "source": [
        "#Create Dummy Variables\n",
        "geogaphy=pd.get_dummies(x['Geography'],drop_first=True)\n",
        "gender=pd.get_dummies(x['Gender'],drop_first=True)"
      ],
      "execution_count": null,
      "outputs": []
    },
    {
      "cell_type": "code",
      "metadata": {
        "id": "8wpydh_rTOOt"
      },
      "source": [
        "x=pd.concat([x,geogaphy,gender],axis=1)"
      ],
      "execution_count": null,
      "outputs": []
    },
    {
      "cell_type": "code",
      "metadata": {
        "id": "HLwutsnZTfQR"
      },
      "source": [
        "x=x.drop(['Geography','Gender'],axis=1) #Dropping the unnecessary columns"
      ],
      "execution_count": null,
      "outputs": []
    },
    {
      "cell_type": "code",
      "metadata": {
        "colab": {
          "base_uri": "https://localhost:8080/",
          "height": 419
        },
        "id": "r0NM-B2DTgEl",
        "outputId": "7097b279-39eb-4e31-87c8-0cef62f35fe1"
      },
      "source": [
        "x"
      ],
      "execution_count": null,
      "outputs": [
        {
          "output_type": "execute_result",
          "data": {
            "text/html": [
              "<div>\n",
              "<style scoped>\n",
              "    .dataframe tbody tr th:only-of-type {\n",
              "        vertical-align: middle;\n",
              "    }\n",
              "\n",
              "    .dataframe tbody tr th {\n",
              "        vertical-align: top;\n",
              "    }\n",
              "\n",
              "    .dataframe thead th {\n",
              "        text-align: right;\n",
              "    }\n",
              "</style>\n",
              "<table border=\"1\" class=\"dataframe\">\n",
              "  <thead>\n",
              "    <tr style=\"text-align: right;\">\n",
              "      <th></th>\n",
              "      <th>CreditScore</th>\n",
              "      <th>Age</th>\n",
              "      <th>Tenure</th>\n",
              "      <th>Balance</th>\n",
              "      <th>NumOfProducts</th>\n",
              "      <th>HasCrCard</th>\n",
              "      <th>IsActiveMember</th>\n",
              "      <th>EstimatedSalary</th>\n",
              "      <th>Germany</th>\n",
              "      <th>Spain</th>\n",
              "      <th>Male</th>\n",
              "    </tr>\n",
              "  </thead>\n",
              "  <tbody>\n",
              "    <tr>\n",
              "      <th>0</th>\n",
              "      <td>619</td>\n",
              "      <td>42</td>\n",
              "      <td>2</td>\n",
              "      <td>0.00</td>\n",
              "      <td>1</td>\n",
              "      <td>1</td>\n",
              "      <td>1</td>\n",
              "      <td>101348.88</td>\n",
              "      <td>0</td>\n",
              "      <td>0</td>\n",
              "      <td>0</td>\n",
              "    </tr>\n",
              "    <tr>\n",
              "      <th>1</th>\n",
              "      <td>608</td>\n",
              "      <td>41</td>\n",
              "      <td>1</td>\n",
              "      <td>83807.86</td>\n",
              "      <td>1</td>\n",
              "      <td>0</td>\n",
              "      <td>1</td>\n",
              "      <td>112542.58</td>\n",
              "      <td>0</td>\n",
              "      <td>1</td>\n",
              "      <td>0</td>\n",
              "    </tr>\n",
              "    <tr>\n",
              "      <th>2</th>\n",
              "      <td>502</td>\n",
              "      <td>42</td>\n",
              "      <td>8</td>\n",
              "      <td>159660.80</td>\n",
              "      <td>3</td>\n",
              "      <td>1</td>\n",
              "      <td>0</td>\n",
              "      <td>113931.57</td>\n",
              "      <td>0</td>\n",
              "      <td>0</td>\n",
              "      <td>0</td>\n",
              "    </tr>\n",
              "    <tr>\n",
              "      <th>3</th>\n",
              "      <td>699</td>\n",
              "      <td>39</td>\n",
              "      <td>1</td>\n",
              "      <td>0.00</td>\n",
              "      <td>2</td>\n",
              "      <td>0</td>\n",
              "      <td>0</td>\n",
              "      <td>93826.63</td>\n",
              "      <td>0</td>\n",
              "      <td>0</td>\n",
              "      <td>0</td>\n",
              "    </tr>\n",
              "    <tr>\n",
              "      <th>4</th>\n",
              "      <td>850</td>\n",
              "      <td>43</td>\n",
              "      <td>2</td>\n",
              "      <td>125510.82</td>\n",
              "      <td>1</td>\n",
              "      <td>1</td>\n",
              "      <td>1</td>\n",
              "      <td>79084.10</td>\n",
              "      <td>0</td>\n",
              "      <td>1</td>\n",
              "      <td>0</td>\n",
              "    </tr>\n",
              "    <tr>\n",
              "      <th>...</th>\n",
              "      <td>...</td>\n",
              "      <td>...</td>\n",
              "      <td>...</td>\n",
              "      <td>...</td>\n",
              "      <td>...</td>\n",
              "      <td>...</td>\n",
              "      <td>...</td>\n",
              "      <td>...</td>\n",
              "      <td>...</td>\n",
              "      <td>...</td>\n",
              "      <td>...</td>\n",
              "    </tr>\n",
              "    <tr>\n",
              "      <th>9995</th>\n",
              "      <td>771</td>\n",
              "      <td>39</td>\n",
              "      <td>5</td>\n",
              "      <td>0.00</td>\n",
              "      <td>2</td>\n",
              "      <td>1</td>\n",
              "      <td>0</td>\n",
              "      <td>96270.64</td>\n",
              "      <td>0</td>\n",
              "      <td>0</td>\n",
              "      <td>1</td>\n",
              "    </tr>\n",
              "    <tr>\n",
              "      <th>9996</th>\n",
              "      <td>516</td>\n",
              "      <td>35</td>\n",
              "      <td>10</td>\n",
              "      <td>57369.61</td>\n",
              "      <td>1</td>\n",
              "      <td>1</td>\n",
              "      <td>1</td>\n",
              "      <td>101699.77</td>\n",
              "      <td>0</td>\n",
              "      <td>0</td>\n",
              "      <td>1</td>\n",
              "    </tr>\n",
              "    <tr>\n",
              "      <th>9997</th>\n",
              "      <td>709</td>\n",
              "      <td>36</td>\n",
              "      <td>7</td>\n",
              "      <td>0.00</td>\n",
              "      <td>1</td>\n",
              "      <td>0</td>\n",
              "      <td>1</td>\n",
              "      <td>42085.58</td>\n",
              "      <td>0</td>\n",
              "      <td>0</td>\n",
              "      <td>0</td>\n",
              "    </tr>\n",
              "    <tr>\n",
              "      <th>9998</th>\n",
              "      <td>772</td>\n",
              "      <td>42</td>\n",
              "      <td>3</td>\n",
              "      <td>75075.31</td>\n",
              "      <td>2</td>\n",
              "      <td>1</td>\n",
              "      <td>0</td>\n",
              "      <td>92888.52</td>\n",
              "      <td>1</td>\n",
              "      <td>0</td>\n",
              "      <td>1</td>\n",
              "    </tr>\n",
              "    <tr>\n",
              "      <th>9999</th>\n",
              "      <td>792</td>\n",
              "      <td>28</td>\n",
              "      <td>4</td>\n",
              "      <td>130142.79</td>\n",
              "      <td>1</td>\n",
              "      <td>1</td>\n",
              "      <td>0</td>\n",
              "      <td>38190.78</td>\n",
              "      <td>0</td>\n",
              "      <td>0</td>\n",
              "      <td>0</td>\n",
              "    </tr>\n",
              "  </tbody>\n",
              "</table>\n",
              "<p>10000 rows × 11 columns</p>\n",
              "</div>"
            ],
            "text/plain": [
              "      CreditScore  Age  Tenure  ...  Germany  Spain  Male\n",
              "0             619   42       2  ...        0      0     0\n",
              "1             608   41       1  ...        0      1     0\n",
              "2             502   42       8  ...        0      0     0\n",
              "3             699   39       1  ...        0      0     0\n",
              "4             850   43       2  ...        0      1     0\n",
              "...           ...  ...     ...  ...      ...    ...   ...\n",
              "9995          771   39       5  ...        0      0     1\n",
              "9996          516   35      10  ...        0      0     1\n",
              "9997          709   36       7  ...        0      0     0\n",
              "9998          772   42       3  ...        1      0     1\n",
              "9999          792   28       4  ...        0      0     0\n",
              "\n",
              "[10000 rows x 11 columns]"
            ]
          },
          "metadata": {
            "tags": []
          },
          "execution_count": 20
        }
      ]
    },
    {
      "cell_type": "code",
      "metadata": {
        "id": "rt7DYz_LT9tz"
      },
      "source": [
        "from sklearn.model_selection import train_test_split\n",
        "(x_train,x_test,y_train,y_test)=train_test_split(x,y,test_size=0.2,random_state=0)"
      ],
      "execution_count": null,
      "outputs": []
    },
    {
      "cell_type": "code",
      "metadata": {
        "id": "4DDRjV_cW8U9"
      },
      "source": [
        "from sklearn.preprocessing import StandardScaler\n",
        "sc = StandardScaler()\n",
        "x_train=sc.fit_transform(x_train)\n",
        "x_test=sc.fit_transform(x_test)"
      ],
      "execution_count": null,
      "outputs": []
    },
    {
      "cell_type": "code",
      "metadata": {
        "id": "jn8tRm39VbMy"
      },
      "source": [
        "#part-2 Making the ANN\n",
        "\n",
        "import keras\n",
        "from keras.models import Sequential\n",
        "from keras.layers import Dense\n",
        "from keras.layers import LeakyReLU,PReLU,ELU\n",
        "from keras.layers import Dropout"
      ],
      "execution_count": null,
      "outputs": []
    },
    {
      "cell_type": "code",
      "metadata": {
        "id": "v0ywAPbKWsGA"
      },
      "source": [
        "# Initialising the ANN\n",
        "classifier = Sequential()\n",
        "\n"
      ],
      "execution_count": null,
      "outputs": []
    },
    {
      "cell_type": "code",
      "metadata": {
        "colab": {
          "base_uri": "https://localhost:8080/"
        },
        "id": "7BxUcxfHcUYH",
        "outputId": "3ce32891-0157-4a4b-90be-366e472ac1e0"
      },
      "source": [
        "# Adding the input layer and the first hidden layer\n",
        "classifier.add(Dense(units = 6, kernel_initializer = 'he_uniform',activation='relu',input_dim = 11))\n",
        "\n",
        "# Adding the second hidden layer\n",
        "classifier.add(Dense(units= 6, kernel_initializer = 'he_uniform',activation='relu'))\n",
        "# Adding the output layer\n",
        "classifier.add(Dense(units = 1, kernel_initializer = 'glorot_uniform', activation = 'sigmoid'))\n",
        "\n",
        "# Compiling the ANN\n",
        "classifier.compile(optimizer = 'Adamax', loss = 'binary_crossentropy', metrics = ['accuracy'])\n",
        "\n",
        "# Fitting the ANN to the Training set\n",
        "model_history=classifier.fit(x_train, y_train,validation_split=0.33, batch_size = 10, epochs = 100)"
      ],
      "execution_count": null,
      "outputs": [
        {
          "output_type": "stream",
          "text": [
            "Epoch 1/100\n",
            "536/536 [==============================] - 2s 3ms/step - loss: 0.5345 - accuracy: 0.7990 - val_loss: 0.4999 - val_accuracy: 0.7955\n",
            "Epoch 2/100\n",
            "536/536 [==============================] - 1s 2ms/step - loss: 0.4998 - accuracy: 0.7943 - val_loss: 0.4952 - val_accuracy: 0.7955\n",
            "Epoch 3/100\n",
            "536/536 [==============================] - 1s 2ms/step - loss: 0.4882 - accuracy: 0.7951 - val_loss: 0.4901 - val_accuracy: 0.7955\n",
            "Epoch 4/100\n",
            "536/536 [==============================] - 1s 2ms/step - loss: 0.4980 - accuracy: 0.7867 - val_loss: 0.4849 - val_accuracy: 0.7955\n",
            "Epoch 5/100\n",
            "536/536 [==============================] - 1s 2ms/step - loss: 0.4944 - accuracy: 0.7859 - val_loss: 0.4797 - val_accuracy: 0.7955\n",
            "Epoch 6/100\n",
            "536/536 [==============================] - 1s 2ms/step - loss: 0.4711 - accuracy: 0.7955 - val_loss: 0.4748 - val_accuracy: 0.7955\n",
            "Epoch 7/100\n",
            "536/536 [==============================] - 1s 2ms/step - loss: 0.4659 - accuracy: 0.7999 - val_loss: 0.4708 - val_accuracy: 0.7955\n",
            "Epoch 8/100\n",
            "536/536 [==============================] - 1s 2ms/step - loss: 0.4678 - accuracy: 0.7911 - val_loss: 0.4673 - val_accuracy: 0.7955\n",
            "Epoch 9/100\n",
            "536/536 [==============================] - 1s 2ms/step - loss: 0.4596 - accuracy: 0.7939 - val_loss: 0.4635 - val_accuracy: 0.7955\n",
            "Epoch 10/100\n",
            "536/536 [==============================] - 1s 2ms/step - loss: 0.4546 - accuracy: 0.7956 - val_loss: 0.4606 - val_accuracy: 0.7955\n",
            "Epoch 11/100\n",
            "536/536 [==============================] - 1s 2ms/step - loss: 0.4452 - accuracy: 0.8011 - val_loss: 0.4578 - val_accuracy: 0.7955\n",
            "Epoch 12/100\n",
            "536/536 [==============================] - 1s 2ms/step - loss: 0.4711 - accuracy: 0.7795 - val_loss: 0.4561 - val_accuracy: 0.7955\n",
            "Epoch 13/100\n",
            "536/536 [==============================] - 1s 2ms/step - loss: 0.4372 - accuracy: 0.7995 - val_loss: 0.4534 - val_accuracy: 0.7959\n",
            "Epoch 14/100\n",
            "536/536 [==============================] - 1s 2ms/step - loss: 0.4356 - accuracy: 0.8037 - val_loss: 0.4516 - val_accuracy: 0.7970\n",
            "Epoch 15/100\n",
            "536/536 [==============================] - 1s 2ms/step - loss: 0.4367 - accuracy: 0.7963 - val_loss: 0.4506 - val_accuracy: 0.7967\n",
            "Epoch 16/100\n",
            "536/536 [==============================] - 1s 2ms/step - loss: 0.4444 - accuracy: 0.7986 - val_loss: 0.4494 - val_accuracy: 0.8001\n",
            "Epoch 17/100\n",
            "536/536 [==============================] - 1s 2ms/step - loss: 0.4303 - accuracy: 0.8064 - val_loss: 0.4481 - val_accuracy: 0.7989\n",
            "Epoch 18/100\n",
            "536/536 [==============================] - 1s 2ms/step - loss: 0.4285 - accuracy: 0.8060 - val_loss: 0.4473 - val_accuracy: 0.7989\n",
            "Epoch 19/100\n",
            "536/536 [==============================] - 1s 2ms/step - loss: 0.4346 - accuracy: 0.7994 - val_loss: 0.4462 - val_accuracy: 0.7986\n",
            "Epoch 20/100\n",
            "536/536 [==============================] - 1s 2ms/step - loss: 0.4320 - accuracy: 0.8010 - val_loss: 0.4457 - val_accuracy: 0.7982\n",
            "Epoch 21/100\n",
            "536/536 [==============================] - 1s 2ms/step - loss: 0.4228 - accuracy: 0.8106 - val_loss: 0.4445 - val_accuracy: 0.8023\n",
            "Epoch 22/100\n",
            "536/536 [==============================] - 1s 2ms/step - loss: 0.4307 - accuracy: 0.8087 - val_loss: 0.4441 - val_accuracy: 0.8027\n",
            "Epoch 23/100\n",
            "536/536 [==============================] - 1s 2ms/step - loss: 0.4209 - accuracy: 0.8135 - val_loss: 0.4435 - val_accuracy: 0.8027\n",
            "Epoch 24/100\n",
            "536/536 [==============================] - 1s 2ms/step - loss: 0.4380 - accuracy: 0.8014 - val_loss: 0.4431 - val_accuracy: 0.8042\n",
            "Epoch 25/100\n",
            "536/536 [==============================] - 1s 2ms/step - loss: 0.4324 - accuracy: 0.8036 - val_loss: 0.4426 - val_accuracy: 0.8035\n",
            "Epoch 26/100\n",
            "536/536 [==============================] - 1s 2ms/step - loss: 0.4310 - accuracy: 0.8067 - val_loss: 0.4420 - val_accuracy: 0.8046\n",
            "Epoch 27/100\n",
            "536/536 [==============================] - 1s 2ms/step - loss: 0.4218 - accuracy: 0.8092 - val_loss: 0.4415 - val_accuracy: 0.8046\n",
            "Epoch 28/100\n",
            "536/536 [==============================] - 1s 2ms/step - loss: 0.4218 - accuracy: 0.8133 - val_loss: 0.4410 - val_accuracy: 0.8031\n",
            "Epoch 29/100\n",
            "536/536 [==============================] - 1s 2ms/step - loss: 0.4099 - accuracy: 0.8169 - val_loss: 0.4406 - val_accuracy: 0.8042\n",
            "Epoch 30/100\n",
            "536/536 [==============================] - 1s 2ms/step - loss: 0.4164 - accuracy: 0.8133 - val_loss: 0.4403 - val_accuracy: 0.8050\n",
            "Epoch 31/100\n",
            "536/536 [==============================] - 1s 2ms/step - loss: 0.4169 - accuracy: 0.8106 - val_loss: 0.4401 - val_accuracy: 0.8061\n",
            "Epoch 32/100\n",
            "536/536 [==============================] - 1s 2ms/step - loss: 0.4133 - accuracy: 0.8155 - val_loss: 0.4394 - val_accuracy: 0.8031\n",
            "Epoch 33/100\n",
            "536/536 [==============================] - 1s 2ms/step - loss: 0.4181 - accuracy: 0.8093 - val_loss: 0.4391 - val_accuracy: 0.8050\n",
            "Epoch 34/100\n",
            "536/536 [==============================] - 1s 2ms/step - loss: 0.4209 - accuracy: 0.8093 - val_loss: 0.4387 - val_accuracy: 0.8054\n",
            "Epoch 35/100\n",
            "536/536 [==============================] - 1s 2ms/step - loss: 0.4149 - accuracy: 0.8069 - val_loss: 0.4387 - val_accuracy: 0.8054\n",
            "Epoch 36/100\n",
            "536/536 [==============================] - 1s 2ms/step - loss: 0.4224 - accuracy: 0.8047 - val_loss: 0.4380 - val_accuracy: 0.8058\n",
            "Epoch 37/100\n",
            "536/536 [==============================] - 1s 2ms/step - loss: 0.4317 - accuracy: 0.8038 - val_loss: 0.4375 - val_accuracy: 0.8046\n",
            "Epoch 38/100\n",
            "536/536 [==============================] - 1s 2ms/step - loss: 0.3993 - accuracy: 0.8218 - val_loss: 0.4369 - val_accuracy: 0.8039\n",
            "Epoch 39/100\n",
            "536/536 [==============================] - 1s 2ms/step - loss: 0.4045 - accuracy: 0.8177 - val_loss: 0.4364 - val_accuracy: 0.8046\n",
            "Epoch 40/100\n",
            "536/536 [==============================] - 1s 2ms/step - loss: 0.4050 - accuracy: 0.8196 - val_loss: 0.4361 - val_accuracy: 0.8054\n",
            "Epoch 41/100\n",
            "536/536 [==============================] - 1s 2ms/step - loss: 0.4025 - accuracy: 0.8151 - val_loss: 0.4359 - val_accuracy: 0.8008\n",
            "Epoch 42/100\n",
            "536/536 [==============================] - 1s 2ms/step - loss: 0.4114 - accuracy: 0.8132 - val_loss: 0.4352 - val_accuracy: 0.8058\n",
            "Epoch 43/100\n",
            "536/536 [==============================] - 1s 2ms/step - loss: 0.4019 - accuracy: 0.8165 - val_loss: 0.4349 - val_accuracy: 0.8065\n",
            "Epoch 44/100\n",
            "536/536 [==============================] - 1s 2ms/step - loss: 0.4188 - accuracy: 0.8105 - val_loss: 0.4352 - val_accuracy: 0.8076\n",
            "Epoch 45/100\n",
            "536/536 [==============================] - 1s 2ms/step - loss: 0.4250 - accuracy: 0.8034 - val_loss: 0.4338 - val_accuracy: 0.8065\n",
            "Epoch 46/100\n",
            "536/536 [==============================] - 1s 2ms/step - loss: 0.4291 - accuracy: 0.8072 - val_loss: 0.4334 - val_accuracy: 0.8084\n",
            "Epoch 47/100\n",
            "536/536 [==============================] - 1s 2ms/step - loss: 0.4161 - accuracy: 0.8168 - val_loss: 0.4332 - val_accuracy: 0.8076\n",
            "Epoch 48/100\n",
            "536/536 [==============================] - 1s 2ms/step - loss: 0.4095 - accuracy: 0.8148 - val_loss: 0.4325 - val_accuracy: 0.8088\n",
            "Epoch 49/100\n",
            "536/536 [==============================] - 1s 2ms/step - loss: 0.4015 - accuracy: 0.8149 - val_loss: 0.4315 - val_accuracy: 0.8088\n",
            "Epoch 50/100\n",
            "536/536 [==============================] - 1s 2ms/step - loss: 0.4044 - accuracy: 0.8218 - val_loss: 0.4313 - val_accuracy: 0.8095\n",
            "Epoch 51/100\n",
            "536/536 [==============================] - 1s 2ms/step - loss: 0.4027 - accuracy: 0.8183 - val_loss: 0.4303 - val_accuracy: 0.8095\n",
            "Epoch 52/100\n",
            "536/536 [==============================] - 1s 2ms/step - loss: 0.4150 - accuracy: 0.8123 - val_loss: 0.4300 - val_accuracy: 0.8107\n",
            "Epoch 53/100\n",
            "536/536 [==============================] - 1s 2ms/step - loss: 0.4158 - accuracy: 0.8130 - val_loss: 0.4289 - val_accuracy: 0.8099\n",
            "Epoch 54/100\n",
            "536/536 [==============================] - 1s 2ms/step - loss: 0.4074 - accuracy: 0.8155 - val_loss: 0.4278 - val_accuracy: 0.8122\n",
            "Epoch 55/100\n",
            "536/536 [==============================] - 1s 2ms/step - loss: 0.4170 - accuracy: 0.8057 - val_loss: 0.4269 - val_accuracy: 0.8126\n",
            "Epoch 56/100\n",
            "536/536 [==============================] - 1s 2ms/step - loss: 0.4070 - accuracy: 0.8188 - val_loss: 0.4258 - val_accuracy: 0.8133\n",
            "Epoch 57/100\n",
            "536/536 [==============================] - 1s 2ms/step - loss: 0.4088 - accuracy: 0.8158 - val_loss: 0.4251 - val_accuracy: 0.8145\n",
            "Epoch 58/100\n",
            "536/536 [==============================] - 1s 2ms/step - loss: 0.3954 - accuracy: 0.8194 - val_loss: 0.4235 - val_accuracy: 0.8148\n",
            "Epoch 59/100\n",
            "536/536 [==============================] - 1s 2ms/step - loss: 0.4057 - accuracy: 0.8168 - val_loss: 0.4225 - val_accuracy: 0.8152\n",
            "Epoch 60/100\n",
            "536/536 [==============================] - 1s 2ms/step - loss: 0.4019 - accuracy: 0.8147 - val_loss: 0.4214 - val_accuracy: 0.8171\n",
            "Epoch 61/100\n",
            "536/536 [==============================] - 1s 2ms/step - loss: 0.4016 - accuracy: 0.8150 - val_loss: 0.4200 - val_accuracy: 0.8183\n",
            "Epoch 62/100\n",
            "536/536 [==============================] - 1s 2ms/step - loss: 0.4023 - accuracy: 0.8211 - val_loss: 0.4183 - val_accuracy: 0.8175\n",
            "Epoch 63/100\n",
            "536/536 [==============================] - 1s 2ms/step - loss: 0.3930 - accuracy: 0.8246 - val_loss: 0.4166 - val_accuracy: 0.8179\n",
            "Epoch 64/100\n",
            "536/536 [==============================] - 1s 2ms/step - loss: 0.4027 - accuracy: 0.8196 - val_loss: 0.4151 - val_accuracy: 0.8217\n",
            "Epoch 65/100\n",
            "536/536 [==============================] - 1s 2ms/step - loss: 0.3934 - accuracy: 0.8237 - val_loss: 0.4134 - val_accuracy: 0.8213\n",
            "Epoch 66/100\n",
            "536/536 [==============================] - 1s 2ms/step - loss: 0.3907 - accuracy: 0.8211 - val_loss: 0.4116 - val_accuracy: 0.8228\n",
            "Epoch 67/100\n",
            "536/536 [==============================] - 1s 2ms/step - loss: 0.4019 - accuracy: 0.8203 - val_loss: 0.4104 - val_accuracy: 0.8262\n",
            "Epoch 68/100\n",
            "536/536 [==============================] - 1s 2ms/step - loss: 0.3814 - accuracy: 0.8309 - val_loss: 0.4079 - val_accuracy: 0.8251\n",
            "Epoch 69/100\n",
            "536/536 [==============================] - 1s 2ms/step - loss: 0.3873 - accuracy: 0.8382 - val_loss: 0.4067 - val_accuracy: 0.8296\n",
            "Epoch 70/100\n",
            "536/536 [==============================] - 1s 2ms/step - loss: 0.3946 - accuracy: 0.8243 - val_loss: 0.4048 - val_accuracy: 0.8304\n",
            "Epoch 71/100\n",
            "536/536 [==============================] - 1s 2ms/step - loss: 0.3866 - accuracy: 0.8304 - val_loss: 0.4032 - val_accuracy: 0.8304\n",
            "Epoch 72/100\n",
            "536/536 [==============================] - 1s 2ms/step - loss: 0.3723 - accuracy: 0.8386 - val_loss: 0.4017 - val_accuracy: 0.8307\n",
            "Epoch 73/100\n",
            "536/536 [==============================] - 1s 2ms/step - loss: 0.3847 - accuracy: 0.8314 - val_loss: 0.4002 - val_accuracy: 0.8307\n",
            "Epoch 74/100\n",
            "536/536 [==============================] - 1s 2ms/step - loss: 0.3738 - accuracy: 0.8391 - val_loss: 0.3989 - val_accuracy: 0.8342\n",
            "Epoch 75/100\n",
            "536/536 [==============================] - 1s 2ms/step - loss: 0.3816 - accuracy: 0.8397 - val_loss: 0.3976 - val_accuracy: 0.8334\n",
            "Epoch 76/100\n",
            "536/536 [==============================] - 1s 2ms/step - loss: 0.3841 - accuracy: 0.8373 - val_loss: 0.3972 - val_accuracy: 0.8338\n",
            "Epoch 77/100\n",
            "536/536 [==============================] - 1s 2ms/step - loss: 0.3834 - accuracy: 0.8412 - val_loss: 0.3952 - val_accuracy: 0.8353\n",
            "Epoch 78/100\n",
            "536/536 [==============================] - 1s 2ms/step - loss: 0.3724 - accuracy: 0.8478 - val_loss: 0.3936 - val_accuracy: 0.8368\n",
            "Epoch 79/100\n",
            "536/536 [==============================] - 1s 2ms/step - loss: 0.3582 - accuracy: 0.8506 - val_loss: 0.3927 - val_accuracy: 0.8349\n",
            "Epoch 80/100\n",
            "536/536 [==============================] - 1s 2ms/step - loss: 0.3669 - accuracy: 0.8408 - val_loss: 0.3914 - val_accuracy: 0.8360\n",
            "Epoch 81/100\n",
            "536/536 [==============================] - 1s 2ms/step - loss: 0.3690 - accuracy: 0.8440 - val_loss: 0.3902 - val_accuracy: 0.8395\n",
            "Epoch 82/100\n",
            "536/536 [==============================] - 1s 2ms/step - loss: 0.3835 - accuracy: 0.8353 - val_loss: 0.3907 - val_accuracy: 0.8383\n",
            "Epoch 83/100\n",
            "536/536 [==============================] - 1s 2ms/step - loss: 0.3727 - accuracy: 0.8424 - val_loss: 0.3881 - val_accuracy: 0.8413\n",
            "Epoch 84/100\n",
            "536/536 [==============================] - 1s 2ms/step - loss: 0.3615 - accuracy: 0.8503 - val_loss: 0.3871 - val_accuracy: 0.8432\n",
            "Epoch 85/100\n",
            "536/536 [==============================] - 1s 2ms/step - loss: 0.3737 - accuracy: 0.8447 - val_loss: 0.3864 - val_accuracy: 0.8425\n",
            "Epoch 86/100\n",
            "536/536 [==============================] - 1s 2ms/step - loss: 0.3653 - accuracy: 0.8487 - val_loss: 0.3852 - val_accuracy: 0.8440\n",
            "Epoch 87/100\n",
            "536/536 [==============================] - 1s 2ms/step - loss: 0.3561 - accuracy: 0.8494 - val_loss: 0.3843 - val_accuracy: 0.8444\n",
            "Epoch 88/100\n",
            "536/536 [==============================] - 1s 2ms/step - loss: 0.3714 - accuracy: 0.8488 - val_loss: 0.3837 - val_accuracy: 0.8444\n",
            "Epoch 89/100\n",
            "536/536 [==============================] - 1s 2ms/step - loss: 0.3475 - accuracy: 0.8564 - val_loss: 0.3824 - val_accuracy: 0.8455\n",
            "Epoch 90/100\n",
            "536/536 [==============================] - 1s 2ms/step - loss: 0.3590 - accuracy: 0.8555 - val_loss: 0.3817 - val_accuracy: 0.8455\n",
            "Epoch 91/100\n",
            "536/536 [==============================] - 1s 2ms/step - loss: 0.3429 - accuracy: 0.8592 - val_loss: 0.3808 - val_accuracy: 0.8448\n",
            "Epoch 92/100\n",
            "536/536 [==============================] - 1s 2ms/step - loss: 0.3524 - accuracy: 0.8593 - val_loss: 0.3800 - val_accuracy: 0.8482\n",
            "Epoch 93/100\n",
            "536/536 [==============================] - 1s 2ms/step - loss: 0.3446 - accuracy: 0.8602 - val_loss: 0.3796 - val_accuracy: 0.8455\n",
            "Epoch 94/100\n",
            "536/536 [==============================] - 1s 2ms/step - loss: 0.3450 - accuracy: 0.8591 - val_loss: 0.3792 - val_accuracy: 0.8451\n",
            "Epoch 95/100\n",
            "536/536 [==============================] - 1s 2ms/step - loss: 0.3454 - accuracy: 0.8614 - val_loss: 0.3786 - val_accuracy: 0.8455\n",
            "Epoch 96/100\n",
            "536/536 [==============================] - 1s 2ms/step - loss: 0.3646 - accuracy: 0.8513 - val_loss: 0.3782 - val_accuracy: 0.8463\n",
            "Epoch 97/100\n",
            "536/536 [==============================] - 1s 2ms/step - loss: 0.3523 - accuracy: 0.8567 - val_loss: 0.3775 - val_accuracy: 0.8459\n",
            "Epoch 98/100\n",
            "536/536 [==============================] - 1s 2ms/step - loss: 0.3545 - accuracy: 0.8509 - val_loss: 0.3768 - val_accuracy: 0.8474\n",
            "Epoch 99/100\n",
            "536/536 [==============================] - 1s 2ms/step - loss: 0.3407 - accuracy: 0.8640 - val_loss: 0.3763 - val_accuracy: 0.8459\n",
            "Epoch 100/100\n",
            "536/536 [==============================] - 1s 2ms/step - loss: 0.3582 - accuracy: 0.8558 - val_loss: 0.3778 - val_accuracy: 0.8459\n"
          ],
          "name": "stdout"
        }
      ]
    },
    {
      "cell_type": "code",
      "metadata": {
        "colab": {
          "base_uri": "https://localhost:8080/",
          "height": 312
        },
        "id": "OJFomB5ngWON",
        "outputId": "b0daf6a6-8954-4d3c-b091-f0eb77d1401d"
      },
      "source": [
        "print(model_history.history.keys())\n",
        "\n",
        "# summarize history for accuracy\n",
        "plt.plot(model_history.history['accuracy'])\n",
        "plt.plot(model_history.history['val_accuracy'])\n",
        "plt.title('model accuracy')\n",
        "plt.ylabel('accuracy')\n",
        "plt.xlabel('epoch')\n",
        "plt.legend(['train', 'test'], loc='upper left')\n",
        "plt.show()\n",
        "\n"
      ],
      "execution_count": null,
      "outputs": [
        {
          "output_type": "stream",
          "text": [
            "dict_keys(['loss', 'accuracy', 'val_loss', 'val_accuracy'])\n"
          ],
          "name": "stdout"
        },
        {
          "output_type": "display_data",
          "data": {
            "image/png": "[encoded data removed]",
            "text/plain": [
              "<Figure size 432x288 with 1 Axes>"
            ]
          },
          "metadata": {
            "tags": [],
            "needs_background": "light"
          }
        }
      ]
    },
    {
      "cell_type": "code",
      "metadata": {
        "colab": {
          "base_uri": "https://localhost:8080/",
          "height": 295
        },
        "id": "XhtXrwchdyT4",
        "outputId": "8079fa49-dd0a-499d-c617-8cbd85c69617"
      },
      "source": [
        "# summarize history for loss\n",
        "plt.plot(model_history.history['loss'])\n",
        "plt.plot(model_history.history['val_loss'])\n",
        "plt.title('model loss')\n",
        "plt.ylabel('loss')\n",
        "plt.xlabel('epoch')\n",
        "plt.legend(['train', 'test'], loc='upper left')\n",
        "plt.show()\n"
      ],
      "execution_count": null,
      "outputs": [
        {
          "output_type": "display_data",
          "data": {
            "image/png": "[encoded data removed]",
            "text/plain": [
              "<Figure size 432x288 with 1 Axes>"
            ]
          },
          "metadata": {
            "tags": [],
            "needs_background": "light"
          }
        }
      ]
    },
    {
      "cell_type": "code",
      "metadata": {
        "id": "oCfRmdgtgyBO"
      },
      "source": [
        "# Part 3 - Making the predictions and evaluating the model\n",
        "\n",
        "# Predicting the Test set results\n",
        "\n",
        "y_pred = classifier.predict(x_test)\n",
        "y_pred = (y_pred > 0.5)\n",
        "\n",
        "# Making the Confusion Matrix\n",
        "from sklearn.metrics import confusion_matrix\n",
        "cm = confusion_matrix(y_test, y_pred)\n",
        "\n",
        "# Calculate the Accuracy\n",
        "from sklearn.metrics import accuracy_score\n",
        "score=accuracy_score(y_pred,y_test)\n",
        "\n"
      ],
      "execution_count": null,
      "outputs": []
    },
    {
      "cell_type": "code",
      "metadata": {
        "colab": {
          "base_uri": "https://localhost:8080/"
        },
        "id": "7Is1WT1Zh2WQ",
        "outputId": "7e628504-ab34-4041-cfe3-9056f078f93f"
      },
      "source": [
        "print(cm)\n",
        "print(score)"
      ],
      "execution_count": null,
      "outputs": [
        {
          "output_type": "stream",
          "text": [
            "[[1526   69]\n",
            " [ 232  173]]\n",
            "0.8495\n"
          ],
          "name": "stdout"
        }
      ]
    },
    {
      "cell_type": "code",
      "metadata": {
        "id": "Ir7rRwv5h5yt"
      },
      "source": [
        ""
      ],
      "execution_count": null,
      "outputs": []
    },
    {
      "cell_type": "markdown",
      "metadata": {
        "id": "MAbbgSIhpUDT"
      },
      "source": [
        "# Create Image Dataset using Data Augmentation using Keras-Deep Learning"
      ]
    },
    {
      "cell_type": "code",
      "metadata": {
        "id": "E_aTgtbVpbad"
      },
      "source": [
        "from keras.preprocessing.image import ImageDataGenerator, array_to_img, img_to_array, load_img\n",
        "\n",
        "datagen = ImageDataGenerator(\n",
        "        rotation_range=40,\n",
        "        width_shift_range=0.2,\n",
        "        height_shift_range=0.2,\n",
        "        shear_range=0.2,\n",
        "        zoom_range=0.2,\n",
        "        horizontal_flip=True,\n",
        "        fill_mode='nearest')\n",
        "\n",
        "img = load_img('/content/Data Augmented cat image.jpg')  # this is a PIL image\n",
        "x = img_to_array(img)  # this is a Numpy array with shape (3, 150, 150)\n",
        "x = x.reshape((1,) + x.shape)  # this is a Numpy array with shape (1, 3, 150, 150)\n",
        "\n",
        "# the .flow() command below generates batches of randomly transformed images\n",
        "# and saves the results to the `preview/` directory\n",
        "i = 0\n",
        "for batch in datagen.flow(x, batch_size=1,\n",
        "                          save_to_dir='/home', save_prefix='cat', save_format='jpeg'):\n",
        "    i += 1\n",
        "    if i > 20:\n",
        "        break  # otherwise the generator would loop indefinitely\n"
      ],
      "execution_count": null,
      "outputs": []
    },
    {
      "cell_type": "code",
      "metadata": {
        "id": "ukj6EHClPBF8"
      },
      "source": [
        "from google.colab import drive\n",
        "drive.mount('/content/drive')"
      ],
      "execution_count": null,
      "outputs": []
    },
    {
      "cell_type": "markdown",
      "metadata": {
        "id": "lU4BCwBcuOuv"
      },
      "source": [
        "#Transfer Learning  Using - VGG16,RESNET"
      ]
    },
    {
      "cell_type": "code",
      "metadata": {
        "id": "p3zAEnOSsN9J"
      },
      "source": [
        "!pip install -q -U keras-tuner"
      ],
      "execution_count": null,
      "outputs": []
    },
    {
      "cell_type": "code",
      "metadata": {
        "id": "AgyZI0DetU1w"
      },
      "source": [
        "!pip install -q keras"
      ],
      "execution_count": null,
      "outputs": []
    },
    {
      "cell_type": "code",
      "metadata": {
        "id": "YVIAKfsJvL5L"
      },
      "source": [
        "from keras.layers import Input, Lambda, Dense, Flatten\n",
        "from keras.models import Model\n",
        "from keras.applications.vgg16 import VGG16\n",
        "from keras.applications.vgg16 import preprocess_input\n",
        "from keras.preprocessing import image\n",
        "from keras.preprocessing.image import ImageDataGenerator\n",
        "from keras.models import Sequential\n",
        "import numpy as np\n",
        "from glob import glob\n",
        "import matplotlib.pyplot as plt\n"
      ],
      "execution_count": null,
      "outputs": []
    },
    {
      "cell_type": "code",
      "metadata": {
        "id": "Pcy384CjzWzz"
      },
      "source": [
        "# re-size all the images to this\n",
        "IMAGE_SIZE = [224, 224]\n",
        "\n",
        "train_path = 'Datasets/Train'\n",
        "valid_path = 'Datasets/Test'\n"
      ],
      "execution_count": null,
      "outputs": []
    },
    {
      "cell_type": "code",
      "metadata": {
        "id": "mqpw8HYtzatD"
      },
      "source": [
        "# add preprocessing layer to the front of VGG\n",
        "vgg = VGG16(input_shape=IMAGE_SIZE + [3], weights='imagenet', include_top=False)\n",
        "\n",
        "# don't train existing weights\n",
        "for layer in vgg.layers:\n",
        "  layer.trainable = False \n",
        "   # useful for getting number of classes\n",
        "folders = glob('Datasets/Train/*')\n",
        "  \n",
        "\n",
        "# our layers - you can add more if you want\n",
        "x = Flatten()(vgg.output)\n",
        "# x = Dense(1000, activation='relu')(x)\n",
        "prediction = Dense(len(folders), activation='softmax')(x)\n",
        "\n",
        " "
      ],
      "execution_count": null,
      "outputs": []
    },
    {
      "cell_type": "code",
      "metadata": {
        "colab": {
          "base_uri": "https://localhost:8080/"
        },
        "id": "WAkqQH_kzgCI",
        "outputId": "1f5725d2-108c-4efe-f419-657ccbe96a5f"
      },
      "source": [
        "# create a model object\n",
        "model = Model(inputs=vgg.input, outputs=prediction)\n",
        "\n",
        "# view the structure of the model\n",
        "model.summary()\n",
        "\n",
        "# tell the model what cost and optimization method to use\n",
        "model.compile(\n",
        "  loss='categorical_crossentropy',\n",
        "  optimizer='adam',\n",
        "  metrics=['accuracy']\n",
        ")\n"
      ],
      "execution_count": null,
      "outputs": [
        {
          "output_type": "stream",
          "text": [
            "Model: \"model\"\n",
            "_________________________________________________________________\n",
            "Layer (type)                 Output Shape              Param #   \n",
            "=================================================================\n",
            "input_3 (InputLayer)         [(None, 224, 224, 3)]     0         \n",
            "_________________________________________________________________\n",
            "block1_conv1 (Conv2D)        (None, 224, 224, 64)      1792      \n",
            "_________________________________________________________________\n",
            "block1_conv2 (Conv2D)        (None, 224, 224, 64)      36928     \n",
            "_________________________________________________________________\n",
            "block1_pool (MaxPooling2D)   (None, 112, 112, 64)      0         \n",
            "_________________________________________________________________\n",
            "block2_conv1 (Conv2D)        (None, 112, 112, 128)     73856     \n",
            "_________________________________________________________________\n",
            "block2_conv2 (Conv2D)        (None, 112, 112, 128)     147584    \n",
            "_________________________________________________________________\n",
            "block2_pool (MaxPooling2D)   (None, 56, 56, 128)       0         \n",
            "_________________________________________________________________\n",
            "block3_conv1 (Conv2D)        (None, 56, 56, 256)       295168    \n",
            "_________________________________________________________________\n",
            "block3_conv2 (Conv2D)        (None, 56, 56, 256)       590080    \n",
            "_________________________________________________________________\n",
            "block3_conv3 (Conv2D)        (None, 56, 56, 256)       590080    \n",
            "_________________________________________________________________\n",
            "block3_pool (MaxPooling2D)   (None, 28, 28, 256)       0         \n",
            "_________________________________________________________________\n",
            "block4_conv1 (Conv2D)        (None, 28, 28, 512)       1180160   \n",
            "_________________________________________________________________\n",
            "block4_conv2 (Conv2D)        (None, 28, 28, 512)       2359808   \n",
            "_________________________________________________________________\n",
            "block4_conv3 (Conv2D)        (None, 28, 28, 512)       2359808   \n",
            "_________________________________________________________________\n",
            "block4_pool (MaxPooling2D)   (None, 14, 14, 512)       0         \n",
            "_________________________________________________________________\n",
            "block5_conv1 (Conv2D)        (None, 14, 14, 512)       2359808   \n",
            "_________________________________________________________________\n",
            "block5_conv2 (Conv2D)        (None, 14, 14, 512)       2359808   \n",
            "_________________________________________________________________\n",
            "block5_conv3 (Conv2D)        (None, 14, 14, 512)       2359808   \n",
            "_________________________________________________________________\n",
            "block5_pool (MaxPooling2D)   (None, 7, 7, 512)         0         \n",
            "_________________________________________________________________\n",
            "flatten (Flatten)            (None, 25088)             0         \n",
            "_________________________________________________________________\n",
            "dense (Dense)                (None, 0)                 0         \n",
            "=================================================================\n",
            "Total params: 14,714,688\n",
            "Trainable params: 0\n",
            "Non-trainable params: 14,714,688\n",
            "_________________________________________________________________\n"
          ],
          "name": "stdout"
        }
      ]
    },
    {
      "cell_type": "code",
      "metadata": {
        "colab": {
          "base_uri": "https://localhost:8080/",
          "height": 476
        },
        "id": "mZu47TH0zv5c",
        "outputId": "aba6d973-df31-43c6-b78a-f6c76692364a"
      },
      "source": [
        "from keras.preprocessing.image import ImageDataGenerator\n",
        "\n",
        "train_datagen = ImageDataGenerator(rescale = 1./255,\n",
        "                                   shear_range = 0.2,\n",
        "                                   zoom_range = 0.2,\n",
        "                                   horizontal_flip = True)\n",
        "\n",
        "test_datagen = ImageDataGenerator(rescale = 1./255)\n",
        "\n",
        "training_set = train_datagen.flow_from_directory('Datasets/Train',\n",
        "                                                 target_size = (224, 224),\n",
        "                                                 batch_size = 32,\n",
        "                                                 class_mode = 'categorical')\n",
        "\n",
        "test_set = test_datagen.flow_from_directory('Datasets/Test',\n",
        "                                            target_size = (224, 224),\n",
        "                                            batch_size = 32,\n",
        "                                            class_mode = 'categorical')\n"
      ],
      "execution_count": null,
      "outputs": [
        {
          "output_type": "error",
          "ename": "FileNotFoundError",
          "evalue": "ignored",
          "traceback": [
            "\u001b[0;31m---------------------------------------------------------------------------\u001b[0m",
            "\u001b[0;31mFileNotFoundError\u001b[0m                         Traceback (most recent call last)",
            "\u001b[0;32m<ipython-input-24-26cd9bd76fc1>\u001b[0m in \u001b[0;36m<module>\u001b[0;34m()\u001b[0m\n\u001b[1;32m     11\u001b[0m                                                  \u001b[0mtarget_size\u001b[0m \u001b[0;34m=\u001b[0m \u001b[0;34m(\u001b[0m\u001b[0;36m224\u001b[0m\u001b[0;34m,\u001b[0m \u001b[0;36m224\u001b[0m\u001b[0;34m)\u001b[0m\u001b[0;34m,\u001b[0m\u001b[0;34m\u001b[0m\u001b[0;34m\u001b[0m\u001b[0m\n\u001b[1;32m     12\u001b[0m                                                  \u001b[0mbatch_size\u001b[0m \u001b[0;34m=\u001b[0m \u001b[0;36m32\u001b[0m\u001b[0;34m,\u001b[0m\u001b[0;34m\u001b[0m\u001b[0;34m\u001b[0m\u001b[0m\n\u001b[0;32m---> 13\u001b[0;31m                                                  class_mode = 'categorical')\n\u001b[0m\u001b[1;32m     14\u001b[0m \u001b[0;34m\u001b[0m\u001b[0m\n\u001b[1;32m     15\u001b[0m test_set = test_datagen.flow_from_directory('Datasets/Test',\n",
            "\u001b[0;32m/usr/local/lib/python3.7/dist-packages/keras/preprocessing/image.py\u001b[0m in \u001b[0;36mflow_from_directory\u001b[0;34m(self, directory, target_size, color_mode, classes, class_mode, batch_size, shuffle, seed, save_to_dir, save_prefix, save_format, follow_links, subset, interpolation)\u001b[0m\n\u001b[1;32m    969\u001b[0m         \u001b[0mfollow_links\u001b[0m\u001b[0;34m=\u001b[0m\u001b[0mfollow_links\u001b[0m\u001b[0;34m,\u001b[0m\u001b[0;34m\u001b[0m\u001b[0;34m\u001b[0m\u001b[0m\n\u001b[1;32m    970\u001b[0m         \u001b[0msubset\u001b[0m\u001b[0;34m=\u001b[0m\u001b[0msubset\u001b[0m\u001b[0;34m,\u001b[0m\u001b[0;34m\u001b[0m\u001b[0;34m\u001b[0m\u001b[0m\n\u001b[0;32m--> 971\u001b[0;31m         interpolation=interpolation)\n\u001b[0m\u001b[1;32m    972\u001b[0m \u001b[0;34m\u001b[0m\u001b[0m\n\u001b[1;32m    973\u001b[0m   def flow_from_dataframe(self,\n",
            "\u001b[0;32m/usr/local/lib/python3.7/dist-packages/keras/preprocessing/image.py\u001b[0m in \u001b[0;36m__init__\u001b[0;34m(self, directory, image_data_generator, target_size, color_mode, classes, class_mode, batch_size, shuffle, seed, data_format, save_to_dir, save_prefix, save_format, follow_links, subset, interpolation, dtype)\u001b[0m\n\u001b[1;32m    387\u001b[0m         \u001b[0msubset\u001b[0m\u001b[0;34m=\u001b[0m\u001b[0msubset\u001b[0m\u001b[0;34m,\u001b[0m\u001b[0;34m\u001b[0m\u001b[0;34m\u001b[0m\u001b[0m\n\u001b[1;32m    388\u001b[0m         \u001b[0minterpolation\u001b[0m\u001b[0;34m=\u001b[0m\u001b[0minterpolation\u001b[0m\u001b[0;34m,\u001b[0m\u001b[0;34m\u001b[0m\u001b[0;34m\u001b[0m\u001b[0m\n\u001b[0;32m--> 389\u001b[0;31m         **kwargs)\n\u001b[0m\u001b[1;32m    390\u001b[0m \u001b[0;34m\u001b[0m\u001b[0m\n\u001b[1;32m    391\u001b[0m \u001b[0;34m\u001b[0m\u001b[0m\n",
            "\u001b[0;32m/usr/local/lib/python3.7/dist-packages/keras_preprocessing/image/directory_iterator.py\u001b[0m in \u001b[0;36m__init__\u001b[0;34m(self, directory, image_data_generator, target_size, color_mode, classes, class_mode, batch_size, shuffle, seed, data_format, save_to_dir, save_prefix, save_format, follow_links, subset, interpolation, dtype)\u001b[0m\n\u001b[1;32m    113\u001b[0m         \u001b[0;32mif\u001b[0m \u001b[0;32mnot\u001b[0m \u001b[0mclasses\u001b[0m\u001b[0;34m:\u001b[0m\u001b[0;34m\u001b[0m\u001b[0;34m\u001b[0m\u001b[0m\n\u001b[1;32m    114\u001b[0m             \u001b[0mclasses\u001b[0m \u001b[0;34m=\u001b[0m \u001b[0;34m[\u001b[0m\u001b[0;34m]\u001b[0m\u001b[0;34m\u001b[0m\u001b[0;34m\u001b[0m\u001b[0m\n\u001b[0;32m--> 115\u001b[0;31m             \u001b[0;32mfor\u001b[0m \u001b[0msubdir\u001b[0m \u001b[0;32min\u001b[0m \u001b[0msorted\u001b[0m\u001b[0;34m(\u001b[0m\u001b[0mos\u001b[0m\u001b[0;34m.\u001b[0m\u001b[0mlistdir\u001b[0m\u001b[0;34m(\u001b[0m\u001b[0mdirectory\u001b[0m\u001b[0;34m)\u001b[0m\u001b[0;34m)\u001b[0m\u001b[0;34m:\u001b[0m\u001b[0;34m\u001b[0m\u001b[0;34m\u001b[0m\u001b[0m\n\u001b[0m\u001b[1;32m    116\u001b[0m                 \u001b[0;32mif\u001b[0m \u001b[0mos\u001b[0m\u001b[0;34m.\u001b[0m\u001b[0mpath\u001b[0m\u001b[0;34m.\u001b[0m\u001b[0misdir\u001b[0m\u001b[0;34m(\u001b[0m\u001b[0mos\u001b[0m\u001b[0;34m.\u001b[0m\u001b[0mpath\u001b[0m\u001b[0;34m.\u001b[0m\u001b[0mjoin\u001b[0m\u001b[0;34m(\u001b[0m\u001b[0mdirectory\u001b[0m\u001b[0;34m,\u001b[0m \u001b[0msubdir\u001b[0m\u001b[0;34m)\u001b[0m\u001b[0;34m)\u001b[0m\u001b[0;34m:\u001b[0m\u001b[0;34m\u001b[0m\u001b[0;34m\u001b[0m\u001b[0m\n\u001b[1;32m    117\u001b[0m                     \u001b[0mclasses\u001b[0m\u001b[0;34m.\u001b[0m\u001b[0mappend\u001b[0m\u001b[0;34m(\u001b[0m\u001b[0msubdir\u001b[0m\u001b[0;34m)\u001b[0m\u001b[0;34m\u001b[0m\u001b[0;34m\u001b[0m\u001b[0m\n",
            "\u001b[0;31mFileNotFoundError\u001b[0m: [Errno 2] No such file or directory: 'Datasets/Train'"
          ]
        }
      ]
    },
    {
      "cell_type": "code",
      "metadata": {
        "colab": {
          "base_uri": "https://localhost:8080/",
          "height": 231
        },
        "id": "k1SLiDy_z2hz",
        "outputId": "b2a05fd0-06ee-4bdf-ee44-7ce7e9de055a"
      },
      "source": [
        "# fit the model\n",
        "r = model.fit_generator(\n",
        "  training_set,\n",
        "  validation_data=test_set,\n",
        "  epochs=5,\n",
        "  steps_per_epoch=len(training_set),\n",
        "  validation_steps=len(test_set)\n",
        ")\n",
        "# loss\n",
        "plt.plot(r.history['loss'], label='train loss')\n",
        "plt.plot(r.history['val_loss'], label='val loss')\n",
        "plt.legend()\n",
        "plt.show()\n",
        "plt.savefig('LossVal_loss')\n",
        "\n",
        "# accuracies\n",
        "plt.plot(r.history['acc'], label='train acc')\n",
        "plt.plot(r.history['val_acc'], label='val acc')\n",
        "plt.legend()\n",
        "plt.show()\n",
        "plt.savefig('AccVal_acc')\n",
        "\n",
        "import tensorflow as tf\n",
        "\n",
        "from keras.models import load_model\n",
        "\n",
        "model.save('facefeatures_new_model.h5')\n"
      ],
      "execution_count": null,
      "outputs": [
        {
          "output_type": "error",
          "ename": "NameError",
          "evalue": "ignored",
          "traceback": [
            "\u001b[0;31m---------------------------------------------------------------------------\u001b[0m",
            "\u001b[0;31mNameError\u001b[0m                                 Traceback (most recent call last)",
            "\u001b[0;32m<ipython-input-25-5e9a7029819f>\u001b[0m in \u001b[0;36m<module>\u001b[0;34m()\u001b[0m\n\u001b[1;32m      1\u001b[0m \u001b[0;31m# fit the model\u001b[0m\u001b[0;34m\u001b[0m\u001b[0;34m\u001b[0m\u001b[0;34m\u001b[0m\u001b[0m\n\u001b[1;32m      2\u001b[0m r = model.fit_generator(\n\u001b[0;32m----> 3\u001b[0;31m   \u001b[0mtraining_set\u001b[0m\u001b[0;34m,\u001b[0m\u001b[0;34m\u001b[0m\u001b[0;34m\u001b[0m\u001b[0m\n\u001b[0m\u001b[1;32m      4\u001b[0m   \u001b[0mvalidation_data\u001b[0m\u001b[0;34m=\u001b[0m\u001b[0mtest_set\u001b[0m\u001b[0;34m,\u001b[0m\u001b[0;34m\u001b[0m\u001b[0;34m\u001b[0m\u001b[0m\n\u001b[1;32m      5\u001b[0m   \u001b[0mepochs\u001b[0m\u001b[0;34m=\u001b[0m\u001b[0;36m5\u001b[0m\u001b[0;34m,\u001b[0m\u001b[0;34m\u001b[0m\u001b[0;34m\u001b[0m\u001b[0m\n",
            "\u001b[0;31mNameError\u001b[0m: name 'training_set' is not defined"
          ]
        }
      ]
    },
    {
      "cell_type": "code",
      "metadata": {
        "id": "yRSXSY_6z__K"
      },
      "source": [
        ""
      ],
      "execution_count": null,
      "outputs": []
    },
    {
      "cell_type": "markdown",
      "metadata": {
        "id": "bcIig3UczMKh"
      },
      "source": [
        " "
      ]
    },
    {
      "cell_type": "markdown",
      "metadata": {
        "id": "8Eh1Beh2OZ-m"
      },
      "source": [
        "#Word Embedding Techniques UsingEmbedding Layer in keras"
      ]
    },
    {
      "cell_type": "code",
      "metadata": {
        "id": "IwmRy9dVOmlU"
      },
      "source": [
        "from keras.preprocessing.text import one_hot"
      ],
      "execution_count": 1,
      "outputs": []
    },
    {
      "cell_type": "code",
      "metadata": {
        "id": "6xvVzFSWOxTf"
      },
      "source": [
        "sent={\n",
        "    'the glass of milk',\n",
        "    'the cup of tea',\n",
        "    'i am a good boy',\n",
        "    'i am a good developer',\n",
        "    'understand the meaning of word',\n",
        "    'your are good'\n",
        "}"
      ],
      "execution_count": 2,
      "outputs": []
    },
    {
      "cell_type": "code",
      "metadata": {
        "colab": {
          "base_uri": "https://localhost:8080/"
        },
        "id": "Z2-dnPCgPP2q",
        "outputId": "22b8f40a-8be3-455b-e0e0-9bec873b6680"
      },
      "source": [
        "sent"
      ],
      "execution_count": 3,
      "outputs": [
        {
          "output_type": "execute_result",
          "data": {
            "text/plain": [
              "{'i am a good boy',\n",
              " 'i am a good developer',\n",
              " 'the cup of tea',\n",
              " 'the glass of milk',\n",
              " 'understand the meaning of word',\n",
              " 'your are good'}"
            ]
          },
          "metadata": {
            "tags": []
          },
          "execution_count": 3
        }
      ]
    },
    {
      "cell_type": "code",
      "metadata": {
        "id": "CiWLBx1_PRuB"
      },
      "source": [
        "voc_size=10000"
      ],
      "execution_count": 4,
      "outputs": []
    },
    {
      "cell_type": "markdown",
      "metadata": {
        "id": "Bs9mwm4fP-tQ"
      },
      "source": [
        "###One Hot Representation"
      ]
    },
    {
      "cell_type": "code",
      "metadata": {
        "colab": {
          "base_uri": "https://localhost:8080/"
        },
        "id": "_mx7lznSPWZN",
        "outputId": "fd959bba-0e36-4a39-d76c-24cdcac1c013"
      },
      "source": [
        "onehot_rep=[one_hot(words,voc_size)for words in sent]\n",
        "print(onehot_rep)"
      ],
      "execution_count": 5,
      "outputs": [
        {
          "output_type": "stream",
          "text": [
            "[[7807, 2013, 5840, 8224], [9427, 7807, 1049, 5840, 3081], [3142, 7915, 8128], [7807, 2954, 5840, 4312], [1359, 3257, 5853, 8128, 7410], [1359, 3257, 5853, 8128, 1879]]\n"
          ],
          "name": "stdout"
        }
      ]
    },
    {
      "cell_type": "markdown",
      "metadata": {
        "id": "W5MDXywpQF7L"
      },
      "source": [
        "###Word Embedding Representation"
      ]
    },
    {
      "cell_type": "code",
      "metadata": {
        "id": "tCiOuNtTP28p"
      },
      "source": [
        "from tensorflow.keras.layers import Embedding\n",
        "from tensorflow.keras.preprocessing.sequence import pad_sequences\n",
        "from tensorflow.keras.models import Sequential"
      ],
      "execution_count": 7,
      "outputs": []
    },
    {
      "cell_type": "code",
      "metadata": {
        "id": "2B248d59RTQS"
      },
      "source": [
        "import numpy as np"
      ],
      "execution_count": 8,
      "outputs": []
    },
    {
      "cell_type": "code",
      "metadata": {
        "colab": {
          "base_uri": "https://localhost:8080/"
        },
        "id": "Guup5oEcRc13",
        "outputId": "4c018302-ab70-4fbc-bfd9-576282e600d7"
      },
      "source": [
        "sent_length=8\n",
        "embedded_docs=pad_sequences(onehot_rep,padding='pre',maxlen=sent_length)\n",
        "#If we dont mention (padding=pre) 0's are added at the end\n",
        "print(embedded_docs)"
      ],
      "execution_count": 10,
      "outputs": [
        {
          "output_type": "stream",
          "text": [
            "[[   0    0    0    0 7807 2013 5840 8224]\n",
            " [   0    0    0 9427 7807 1049 5840 3081]\n",
            " [   0    0    0    0    0 3142 7915 8128]\n",
            " [   0    0    0    0 7807 2954 5840 4312]\n",
            " [   0    0    0 1359 3257 5853 8128 7410]\n",
            " [   0    0    0 1359 3257 5853 8128 1879]]\n"
          ],
          "name": "stdout"
        }
      ]
    },
    {
      "cell_type": "code",
      "metadata": {
        "id": "wbWH78YZSIBH"
      },
      "source": [
        "dim=15"
      ],
      "execution_count": 11,
      "outputs": []
    },
    {
      "cell_type": "code",
      "metadata": {
        "id": "BXOQBKYcSdbF"
      },
      "source": [
        "model=Sequential()\n",
        "model.add(Embedding(voc_size,10,input_length=sent_length))\n",
        "model.compile('adam','mse')"
      ],
      "execution_count": 14,
      "outputs": []
    },
    {
      "cell_type": "code",
      "metadata": {
        "colab": {
          "base_uri": "https://localhost:8080/"
        },
        "id": "kIR1eSOVTE-b",
        "outputId": "4b8d97bf-0132-4ecf-ac19-7c0ae07549dd"
      },
      "source": [
        "model.summary()"
      ],
      "execution_count": 15,
      "outputs": [
        {
          "output_type": "stream",
          "text": [
            "Model: \"sequential_1\"\n",
            "_________________________________________________________________\n",
            "Layer (type)                 Output Shape              Param #   \n",
            "=================================================================\n",
            "embedding (Embedding)        (None, 8, 10)             100000    \n",
            "=================================================================\n",
            "Total params: 100,000\n",
            "Trainable params: 100,000\n",
            "Non-trainable params: 0\n",
            "_________________________________________________________________\n"
          ],
          "name": "stdout"
        }
      ]
    },
    {
      "cell_type": "code",
      "metadata": {
        "colab": {
          "base_uri": "https://localhost:8080/"
        },
        "id": "USb5wVQATMdQ",
        "outputId": "d15408e7-364e-4b91-d8d5-0120ca90fd78"
      },
      "source": [
        "print(model.predict(embedded_docs))"
      ],
      "execution_count": 16,
      "outputs": [
        {
          "output_type": "stream",
          "text": [
            "[[[-4.90379445e-02  2.38978527e-02 -3.68260853e-02 -3.67997885e-02\n",
            "    1.70457102e-02 -3.71330492e-02  3.93377654e-02  3.94498371e-02\n",
            "    4.50169109e-02 -4.77946065e-02]\n",
            "  [-4.90379445e-02  2.38978527e-02 -3.68260853e-02 -3.67997885e-02\n",
            "    1.70457102e-02 -3.71330492e-02  3.93377654e-02  3.94498371e-02\n",
            "    4.50169109e-02 -4.77946065e-02]\n",
            "  [-4.90379445e-02  2.38978527e-02 -3.68260853e-02 -3.67997885e-02\n",
            "    1.70457102e-02 -3.71330492e-02  3.93377654e-02  3.94498371e-02\n",
            "    4.50169109e-02 -4.77946065e-02]\n",
            "  [-4.90379445e-02  2.38978527e-02 -3.68260853e-02 -3.67997885e-02\n",
            "    1.70457102e-02 -3.71330492e-02  3.93377654e-02  3.94498371e-02\n",
            "    4.50169109e-02 -4.77946065e-02]\n",
            "  [ 3.31664346e-02 -2.74234414e-02 -2.18278058e-02 -4.29143794e-02\n",
            "   -4.46959585e-03  2.30494626e-02  4.27258275e-02 -4.77983467e-02\n",
            "   -4.28308249e-02  3.91261019e-02]\n",
            "  [ 4.63461615e-02  1.67823918e-02  2.77184285e-02  6.08938932e-03\n",
            "    1.42996646e-02  1.75277144e-03 -7.13126734e-03  1.49189495e-02\n",
            "    2.13672780e-02  3.76231931e-02]\n",
            "  [ 1.53648145e-02 -2.60821469e-02 -4.81334440e-02 -2.83294916e-02\n",
            "    4.24242355e-02  1.59021653e-02 -1.21710524e-02  3.28584760e-03\n",
            "    4.30977680e-02  3.35007645e-02]\n",
            "  [ 3.12017463e-02 -4.81578484e-02  9.36434418e-03  3.80169041e-02\n",
            "   -3.88926156e-02  1.99895389e-02  4.10241596e-02 -2.50946283e-02\n",
            "    1.00853667e-02 -9.93658230e-03]]\n",
            "\n",
            " [[-4.90379445e-02  2.38978527e-02 -3.68260853e-02 -3.67997885e-02\n",
            "    1.70457102e-02 -3.71330492e-02  3.93377654e-02  3.94498371e-02\n",
            "    4.50169109e-02 -4.77946065e-02]\n",
            "  [-4.90379445e-02  2.38978527e-02 -3.68260853e-02 -3.67997885e-02\n",
            "    1.70457102e-02 -3.71330492e-02  3.93377654e-02  3.94498371e-02\n",
            "    4.50169109e-02 -4.77946065e-02]\n",
            "  [-4.90379445e-02  2.38978527e-02 -3.68260853e-02 -3.67997885e-02\n",
            "    1.70457102e-02 -3.71330492e-02  3.93377654e-02  3.94498371e-02\n",
            "    4.50169109e-02 -4.77946065e-02]\n",
            "  [ 3.99745591e-02  1.01882331e-02  4.91038598e-02 -2.96497699e-02\n",
            "    3.93230841e-03 -9.74908471e-05  1.66611336e-02 -4.84295860e-02\n",
            "    2.87701376e-02 -1.57824047e-02]\n",
            "  [ 3.31664346e-02 -2.74234414e-02 -2.18278058e-02 -4.29143794e-02\n",
            "   -4.46959585e-03  2.30494626e-02  4.27258275e-02 -4.77983467e-02\n",
            "   -4.28308249e-02  3.91261019e-02]\n",
            "  [-3.16851027e-02  1.28032230e-02 -8.00534338e-03  3.87094356e-02\n",
            "   -1.59584060e-02 -8.17741081e-03 -2.39953399e-02  4.57074903e-02\n",
            "   -1.77234039e-02  4.13973592e-02]\n",
            "  [ 1.53648145e-02 -2.60821469e-02 -4.81334440e-02 -2.83294916e-02\n",
            "    4.24242355e-02  1.59021653e-02 -1.21710524e-02  3.28584760e-03\n",
            "    4.30977680e-02  3.35007645e-02]\n",
            "  [ 3.62998359e-02  2.22965591e-02  3.61012109e-02 -3.41095552e-02\n",
            "    4.19317968e-02  2.16702856e-02 -2.46255994e-02 -2.13528518e-02\n",
            "    3.86561863e-02  1.75600685e-02]]\n",
            "\n",
            " [[-4.90379445e-02  2.38978527e-02 -3.68260853e-02 -3.67997885e-02\n",
            "    1.70457102e-02 -3.71330492e-02  3.93377654e-02  3.94498371e-02\n",
            "    4.50169109e-02 -4.77946065e-02]\n",
            "  [-4.90379445e-02  2.38978527e-02 -3.68260853e-02 -3.67997885e-02\n",
            "    1.70457102e-02 -3.71330492e-02  3.93377654e-02  3.94498371e-02\n",
            "    4.50169109e-02 -4.77946065e-02]\n",
            "  [-4.90379445e-02  2.38978527e-02 -3.68260853e-02 -3.67997885e-02\n",
            "    1.70457102e-02 -3.71330492e-02  3.93377654e-02  3.94498371e-02\n",
            "    4.50169109e-02 -4.77946065e-02]\n",
            "  [-4.90379445e-02  2.38978527e-02 -3.68260853e-02 -3.67997885e-02\n",
            "    1.70457102e-02 -3.71330492e-02  3.93377654e-02  3.94498371e-02\n",
            "    4.50169109e-02 -4.77946065e-02]\n",
            "  [-4.90379445e-02  2.38978527e-02 -3.68260853e-02 -3.67997885e-02\n",
            "    1.70457102e-02 -3.71330492e-02  3.93377654e-02  3.94498371e-02\n",
            "    4.50169109e-02 -4.77946065e-02]\n",
            "  [ 2.96508782e-02  1.96926333e-02 -4.88301031e-02  5.04885986e-03\n",
            "   -4.32947986e-02  8.25058669e-04 -4.54083569e-02  9.53674316e-04\n",
            "   -1.64166577e-02  1.83046348e-02]\n",
            "  [ 4.64954227e-03  4.64636795e-02 -2.38098744e-02 -2.85168421e-02\n",
            "    2.61449330e-02 -2.70761251e-02 -2.92563569e-02 -6.08155876e-03\n",
            "    3.61803062e-02  2.55693123e-03]\n",
            "  [-3.49625461e-02  1.36406161e-02  8.75554979e-04  1.54544003e-02\n",
            "    1.03107579e-02 -2.85661463e-02  2.47983076e-02 -3.01223639e-02\n",
            "    1.64192207e-02  3.48843224e-02]]\n",
            "\n",
            " [[-4.90379445e-02  2.38978527e-02 -3.68260853e-02 -3.67997885e-02\n",
            "    1.70457102e-02 -3.71330492e-02  3.93377654e-02  3.94498371e-02\n",
            "    4.50169109e-02 -4.77946065e-02]\n",
            "  [-4.90379445e-02  2.38978527e-02 -3.68260853e-02 -3.67997885e-02\n",
            "    1.70457102e-02 -3.71330492e-02  3.93377654e-02  3.94498371e-02\n",
            "    4.50169109e-02 -4.77946065e-02]\n",
            "  [-4.90379445e-02  2.38978527e-02 -3.68260853e-02 -3.67997885e-02\n",
            "    1.70457102e-02 -3.71330492e-02  3.93377654e-02  3.94498371e-02\n",
            "    4.50169109e-02 -4.77946065e-02]\n",
            "  [-4.90379445e-02  2.38978527e-02 -3.68260853e-02 -3.67997885e-02\n",
            "    1.70457102e-02 -3.71330492e-02  3.93377654e-02  3.94498371e-02\n",
            "    4.50169109e-02 -4.77946065e-02]\n",
            "  [ 3.31664346e-02 -2.74234414e-02 -2.18278058e-02 -4.29143794e-02\n",
            "   -4.46959585e-03  2.30494626e-02  4.27258275e-02 -4.77983467e-02\n",
            "   -4.28308249e-02  3.91261019e-02]\n",
            "  [-3.62392664e-02 -3.62346321e-03  2.32704543e-02  7.95827061e-03\n",
            "    4.36002500e-02  1.63520612e-02  2.55648531e-02 -3.80288847e-02\n",
            "   -3.58306877e-02 -2.75913831e-02]\n",
            "  [ 1.53648145e-02 -2.60821469e-02 -4.81334440e-02 -2.83294916e-02\n",
            "    4.24242355e-02  1.59021653e-02 -1.21710524e-02  3.28584760e-03\n",
            "    4.30977680e-02  3.35007645e-02]\n",
            "  [ 4.92164604e-02  4.53480743e-02 -1.80642493e-02  1.60268210e-02\n",
            "   -2.56434679e-02  1.72896050e-02  4.99864109e-02  7.72371143e-03\n",
            "   -2.04243194e-02  2.89856903e-02]]\n",
            "\n",
            " [[-4.90379445e-02  2.38978527e-02 -3.68260853e-02 -3.67997885e-02\n",
            "    1.70457102e-02 -3.71330492e-02  3.93377654e-02  3.94498371e-02\n",
            "    4.50169109e-02 -4.77946065e-02]\n",
            "  [-4.90379445e-02  2.38978527e-02 -3.68260853e-02 -3.67997885e-02\n",
            "    1.70457102e-02 -3.71330492e-02  3.93377654e-02  3.94498371e-02\n",
            "    4.50169109e-02 -4.77946065e-02]\n",
            "  [-4.90379445e-02  2.38978527e-02 -3.68260853e-02 -3.67997885e-02\n",
            "    1.70457102e-02 -3.71330492e-02  3.93377654e-02  3.94498371e-02\n",
            "    4.50169109e-02 -4.77946065e-02]\n",
            "  [ 2.33926438e-02  1.04272850e-02 -2.41139419e-02 -2.00034138e-02\n",
            "    3.95142473e-02  3.64047773e-02 -1.90305840e-02 -3.73792648e-02\n",
            "   -1.80405267e-02 -1.13065615e-02]\n",
            "  [-3.75131965e-02  3.93107049e-02  1.87181570e-02  1.80102028e-02\n",
            "   -3.32316756e-02 -1.26361474e-02 -3.16379555e-02  1.12358704e-02\n",
            "    4.20797504e-02  4.87255342e-02]\n",
            "  [-2.76572704e-02  9.16547701e-03  2.24029534e-02 -1.62659772e-02\n",
            "    3.37700509e-02  5.59679419e-03 -1.31816864e-02 -2.96618789e-03\n",
            "   -2.71751639e-02 -7.42356852e-03]\n",
            "  [-3.49625461e-02  1.36406161e-02  8.75554979e-04  1.54544003e-02\n",
            "    1.03107579e-02 -2.85661463e-02  2.47983076e-02 -3.01223639e-02\n",
            "    1.64192207e-02  3.48843224e-02]\n",
            "  [ 3.07536237e-02  2.44110860e-02 -8.88123363e-03  1.14044920e-02\n",
            "   -4.50031422e-02  2.87045352e-02 -4.11081314e-02  4.64751571e-03\n",
            "   -2.44764816e-02 -3.41224223e-02]]\n",
            "\n",
            " [[-4.90379445e-02  2.38978527e-02 -3.68260853e-02 -3.67997885e-02\n",
            "    1.70457102e-02 -3.71330492e-02  3.93377654e-02  3.94498371e-02\n",
            "    4.50169109e-02 -4.77946065e-02]\n",
            "  [-4.90379445e-02  2.38978527e-02 -3.68260853e-02 -3.67997885e-02\n",
            "    1.70457102e-02 -3.71330492e-02  3.93377654e-02  3.94498371e-02\n",
            "    4.50169109e-02 -4.77946065e-02]\n",
            "  [-4.90379445e-02  2.38978527e-02 -3.68260853e-02 -3.67997885e-02\n",
            "    1.70457102e-02 -3.71330492e-02  3.93377654e-02  3.94498371e-02\n",
            "    4.50169109e-02 -4.77946065e-02]\n",
            "  [ 2.33926438e-02  1.04272850e-02 -2.41139419e-02 -2.00034138e-02\n",
            "    3.95142473e-02  3.64047773e-02 -1.90305840e-02 -3.73792648e-02\n",
            "   -1.80405267e-02 -1.13065615e-02]\n",
            "  [-3.75131965e-02  3.93107049e-02  1.87181570e-02  1.80102028e-02\n",
            "   -3.32316756e-02 -1.26361474e-02 -3.16379555e-02  1.12358704e-02\n",
            "    4.20797504e-02  4.87255342e-02]\n",
            "  [-2.76572704e-02  9.16547701e-03  2.24029534e-02 -1.62659772e-02\n",
            "    3.37700509e-02  5.59679419e-03 -1.31816864e-02 -2.96618789e-03\n",
            "   -2.71751639e-02 -7.42356852e-03]\n",
            "  [-3.49625461e-02  1.36406161e-02  8.75554979e-04  1.54544003e-02\n",
            "    1.03107579e-02 -2.85661463e-02  2.47983076e-02 -3.01223639e-02\n",
            "    1.64192207e-02  3.48843224e-02]\n",
            "  [ 2.38015987e-02 -1.25994310e-02  3.98494937e-02  4.62393649e-02\n",
            "   -5.15500456e-03 -1.42276287e-02 -7.80451298e-03  7.85756856e-04\n",
            "    4.56470139e-02 -4.06561010e-02]]]\n"
          ],
          "name": "stdout"
        }
      ]
    },
    {
      "cell_type": "code",
      "metadata": {
        "colab": {
          "base_uri": "https://localhost:8080/"
        },
        "id": "36X0Fga0TYDo",
        "outputId": "f0aaacff-5a61-4b99-8b42-f6432896754b"
      },
      "source": [
        "embedded_docs[0]"
      ],
      "execution_count": 17,
      "outputs": [
        {
          "output_type": "execute_result",
          "data": {
            "text/plain": [
              "array([   0,    0,    0,    0, 7807, 2013, 5840, 8224], dtype=int32)"
            ]
          },
          "metadata": {
            "tags": []
          },
          "execution_count": 17
        }
      ]
    },
    {
      "cell_type": "code",
      "metadata": {
        "colab": {
          "base_uri": "https://localhost:8080/"
        },
        "id": "36vEF9usTbxZ",
        "outputId": "7ccf2e3b-19fb-4aeb-828b-155782700f1f"
      },
      "source": [
        "print(model.predict(embedded_docs[0]))\n",
        "#THIS 0 HAS DIVIDED INTO 10  VECTORS BECAUSE WE HAVE MENTIONED DIMENSONS=10"
      ],
      "execution_count": 19,
      "outputs": [
        {
          "output_type": "stream",
          "text": [
            "[[[-0.04903794  0.02389785 -0.03682609 -0.03679979  0.01704571\n",
            "   -0.03713305  0.03933777  0.03944984  0.04501691 -0.04779461]]\n",
            "\n",
            " [[-0.04903794  0.02389785 -0.03682609 -0.03679979  0.01704571\n",
            "   -0.03713305  0.03933777  0.03944984  0.04501691 -0.04779461]]\n",
            "\n",
            " [[-0.04903794  0.02389785 -0.03682609 -0.03679979  0.01704571\n",
            "   -0.03713305  0.03933777  0.03944984  0.04501691 -0.04779461]]\n",
            "\n",
            " [[-0.04903794  0.02389785 -0.03682609 -0.03679979  0.01704571\n",
            "   -0.03713305  0.03933777  0.03944984  0.04501691 -0.04779461]]\n",
            "\n",
            " [[ 0.03316643 -0.02742344 -0.02182781 -0.04291438 -0.0044696\n",
            "    0.02304946  0.04272583 -0.04779835 -0.04283082  0.0391261 ]]\n",
            "\n",
            " [[ 0.04634616  0.01678239  0.02771843  0.00608939  0.01429966\n",
            "    0.00175277 -0.00713127  0.01491895  0.02136728  0.03762319]]\n",
            "\n",
            " [[ 0.01536481 -0.02608215 -0.04813344 -0.02832949  0.04242424\n",
            "    0.01590217 -0.01217105  0.00328585  0.04309777  0.03350076]]\n",
            "\n",
            " [[ 0.03120175 -0.04815785  0.00936434  0.0380169  -0.03889262\n",
            "    0.01998954  0.04102416 -0.02509463  0.01008537 -0.00993658]]]\n"
          ],
          "name": "stdout"
        }
      ]
    },
    {
      "cell_type": "markdown",
      "metadata": {
        "id": "3eP401Ljb8kF"
      },
      "source": [
        "#Stock Market Prediction And Forecasting Using  Stacked LSTM"
      ]
    },
    {
      "cell_type": "markdown",
      "metadata": {
        "id": "dpgfMrXaZMey"
      },
      "source": [
        "###Collect the stock data"
      ]
    },
    {
      "cell_type": "code",
      "metadata": {
        "id": "DBT4IikUqKwE"
      },
      "source": [
        "import pandas_datareader as pdr\n",
        "import os"
      ],
      "execution_count": 25,
      "outputs": []
    },
    {
      "cell_type": "code",
      "metadata": {
        "colab": {
          "base_uri": "https://localhost:8080/"
        },
        "id": "wVPo19mgE-I_",
        "outputId": "01eef3bb-eb21-4dc5-8f0b-79c64250d3d5"
      },
      "source": [
        "help(pdr.get_data_tiingo)"
      ],
      "execution_count": 20,
      "outputs": [
        {
          "output_type": "stream",
          "text": [
            "Help on function get_data_tiingo in module pandas_datareader.data:\n",
            "\n",
            "get_data_tiingo(*args, **kwargs)\n",
            "\n"
          ],
          "name": "stdout"
        }
      ]
    },
    {
      "cell_type": "code",
      "metadata": {
        "id": "VRwAN8LAKbbn"
      },
      "source": [
        "df=pdr.get_data_tiingo('AAPL',api_key='46776dfad2112a02d649d6ac7a01d1914276d74f')"
      ],
      "execution_count": 49,
      "outputs": []
    },
    {
      "cell_type": "code",
      "metadata": {
        "colab": {
          "base_uri": "https://localhost:8080/",
          "height": 235
        },
        "id": "x1Zfe-01Bm7e",
        "outputId": "5b9c2980-d5d2-4fd0-f17b-ef1d22fa9750"
      },
      "source": [
        "df.head(5)"
      ],
      "execution_count": 38,
      "outputs": [
        {
          "output_type": "execute_result",
          "data": {
            "text/html": [
              "<div>\n",
              "<style scoped>\n",
              "    .dataframe tbody tr th:only-of-type {\n",
              "        vertical-align: middle;\n",
              "    }\n",
              "\n",
              "    .dataframe tbody tr th {\n",
              "        vertical-align: top;\n",
              "    }\n",
              "\n",
              "    .dataframe thead th {\n",
              "        text-align: right;\n",
              "    }\n",
              "</style>\n",
              "<table border=\"1\" class=\"dataframe\">\n",
              "  <thead>\n",
              "    <tr style=\"text-align: right;\">\n",
              "      <th></th>\n",
              "      <th></th>\n",
              "      <th>close</th>\n",
              "      <th>high</th>\n",
              "      <th>low</th>\n",
              "      <th>open</th>\n",
              "      <th>volume</th>\n",
              "      <th>adjClose</th>\n",
              "      <th>adjHigh</th>\n",
              "      <th>adjLow</th>\n",
              "      <th>adjOpen</th>\n",
              "      <th>adjVolume</th>\n",
              "      <th>divCash</th>\n",
              "      <th>splitFactor</th>\n",
              "    </tr>\n",
              "    <tr>\n",
              "      <th>symbol</th>\n",
              "      <th>date</th>\n",
              "      <th></th>\n",
              "      <th></th>\n",
              "      <th></th>\n",
              "      <th></th>\n",
              "      <th></th>\n",
              "      <th></th>\n",
              "      <th></th>\n",
              "      <th></th>\n",
              "      <th></th>\n",
              "      <th></th>\n",
              "      <th></th>\n",
              "      <th></th>\n",
              "    </tr>\n",
              "  </thead>\n",
              "  <tbody>\n",
              "    <tr>\n",
              "      <th rowspan=\"5\" valign=\"top\">AAPL</th>\n",
              "      <th>2016-07-20 00:00:00+00:00</th>\n",
              "      <td>99.96</td>\n",
              "      <td>100.46</td>\n",
              "      <td>99.735</td>\n",
              "      <td>100.00</td>\n",
              "      <td>26275968</td>\n",
              "      <td>23.342004</td>\n",
              "      <td>23.458761</td>\n",
              "      <td>23.289464</td>\n",
              "      <td>23.351345</td>\n",
              "      <td>105103872</td>\n",
              "      <td>0.0</td>\n",
              "      <td>1.0</td>\n",
              "    </tr>\n",
              "    <tr>\n",
              "      <th>2016-07-21 00:00:00+00:00</th>\n",
              "      <td>99.43</td>\n",
              "      <td>101.00</td>\n",
              "      <td>99.130</td>\n",
              "      <td>99.83</td>\n",
              "      <td>32702028</td>\n",
              "      <td>23.218242</td>\n",
              "      <td>23.584858</td>\n",
              "      <td>23.148188</td>\n",
              "      <td>23.311648</td>\n",
              "      <td>130808112</td>\n",
              "      <td>0.0</td>\n",
              "      <td>1.0</td>\n",
              "    </tr>\n",
              "    <tr>\n",
              "      <th>2016-07-22 00:00:00+00:00</th>\n",
              "      <td>98.66</td>\n",
              "      <td>99.30</td>\n",
              "      <td>98.310</td>\n",
              "      <td>99.26</td>\n",
              "      <td>28313669</td>\n",
              "      <td>23.038437</td>\n",
              "      <td>23.187885</td>\n",
              "      <td>22.956707</td>\n",
              "      <td>23.178545</td>\n",
              "      <td>113254676</td>\n",
              "      <td>0.0</td>\n",
              "      <td>1.0</td>\n",
              "    </tr>\n",
              "    <tr>\n",
              "      <th>2016-07-25 00:00:00+00:00</th>\n",
              "      <td>97.34</td>\n",
              "      <td>98.84</td>\n",
              "      <td>96.920</td>\n",
              "      <td>98.25</td>\n",
              "      <td>40382921</td>\n",
              "      <td>22.730199</td>\n",
              "      <td>23.080469</td>\n",
              "      <td>22.632123</td>\n",
              "      <td>22.942696</td>\n",
              "      <td>161531684</td>\n",
              "      <td>0.0</td>\n",
              "      <td>1.0</td>\n",
              "    </tr>\n",
              "    <tr>\n",
              "      <th>2016-07-26 00:00:00+00:00</th>\n",
              "      <td>96.67</td>\n",
              "      <td>97.97</td>\n",
              "      <td>96.420</td>\n",
              "      <td>96.82</td>\n",
              "      <td>56239822</td>\n",
              "      <td>22.573745</td>\n",
              "      <td>22.877312</td>\n",
              "      <td>22.515367</td>\n",
              "      <td>22.608772</td>\n",
              "      <td>224959288</td>\n",
              "      <td>0.0</td>\n",
              "      <td>1.0</td>\n",
              "    </tr>\n",
              "  </tbody>\n",
              "</table>\n",
              "</div>"
            ],
            "text/plain": [
              "                                  close    high  ...  divCash  splitFactor\n",
              "symbol date                                      ...                      \n",
              "AAPL   2016-07-20 00:00:00+00:00  99.96  100.46  ...      0.0          1.0\n",
              "       2016-07-21 00:00:00+00:00  99.43  101.00  ...      0.0          1.0\n",
              "       2016-07-22 00:00:00+00:00  98.66   99.30  ...      0.0          1.0\n",
              "       2016-07-25 00:00:00+00:00  97.34   98.84  ...      0.0          1.0\n",
              "       2016-07-26 00:00:00+00:00  96.67   97.97  ...      0.0          1.0\n",
              "\n",
              "[5 rows x 12 columns]"
            ]
          },
          "metadata": {
            "tags": []
          },
          "execution_count": 38
        }
      ]
    },
    {
      "cell_type": "code",
      "metadata": {
        "id": "WBUHP2SjKxbV"
      },
      "source": [
        "df.to_csv('AAPL.csv')"
      ],
      "execution_count": 39,
      "outputs": []
    },
    {
      "cell_type": "code",
      "metadata": {
        "id": "ChG4ioRJK90C"
      },
      "source": [
        "import pandas as pd"
      ],
      "execution_count": 40,
      "outputs": []
    },
    {
      "cell_type": "code",
      "metadata": {
        "id": "o-uCQq5TK_bB"
      },
      "source": [
        "df=pd.read_csv('AAPL.csv')"
      ],
      "execution_count": 43,
      "outputs": []
    },
    {
      "cell_type": "code",
      "metadata": {
        "id": "noEQA-IqLD1r"
      },
      "source": [
        "df2=df.reset_index()['close']"
      ],
      "execution_count": 50,
      "outputs": []
    },
    {
      "cell_type": "code",
      "metadata": {
        "colab": {
          "base_uri": "https://localhost:8080/"
        },
        "id": "aXIv4kCRMfQ1",
        "outputId": "c45496dd-8159-49f6-d9cd-02bb39d9badb"
      },
      "source": [
        "df2[1228:]"
      ],
      "execution_count": 51,
      "outputs": [
        {
          "output_type": "execute_result",
          "data": {
            "text/plain": [
              "1228    125.90\n",
              "1229    126.74\n",
              "1230    127.13\n",
              "1231    126.11\n",
              "1232    127.35\n",
              "1233    130.48\n",
              "1234    129.64\n",
              "1235    130.15\n",
              "1236    131.79\n",
              "1237    130.46\n",
              "1238    132.30\n",
              "1239    133.98\n",
              "1240    133.70\n",
              "1241    133.41\n",
              "1242    133.11\n",
              "1243    134.78\n",
              "1244    136.33\n",
              "1245    136.96\n",
              "1246    137.27\n",
              "1247    139.96\n",
              "1248    142.02\n",
              "1249    144.57\n",
              "1250    143.24\n",
              "1251    145.11\n",
              "1252    144.50\n",
              "1253    145.64\n",
              "1254    149.15\n",
              "1255    148.48\n",
              "1256    146.39\n",
              "Name: close, dtype: float64"
            ]
          },
          "metadata": {
            "tags": []
          },
          "execution_count": 51
        }
      ]
    },
    {
      "cell_type": "code",
      "metadata": {
        "colab": {
          "base_uri": "https://localhost:8080/"
        },
        "id": "zCkJt39SMjSQ",
        "outputId": "d9193fd2-d28d-4d75-c0db-43c4d7b88a3f"
      },
      "source": [
        "df2.shape"
      ],
      "execution_count": 54,
      "outputs": [
        {
          "output_type": "execute_result",
          "data": {
            "text/plain": [
              "(1257,)"
            ]
          },
          "metadata": {
            "tags": []
          },
          "execution_count": 54
        }
      ]
    },
    {
      "cell_type": "code",
      "metadata": {
        "colab": {
          "base_uri": "https://localhost:8080/",
          "height": 282
        },
        "id": "YI82uoXkM8MI",
        "outputId": "b2177720-38b4-44b0-8eaa-9b6d173f6b27"
      },
      "source": [
        "import matplotlib.pyplot as plt\n",
        "plt.plot(df2)"
      ],
      "execution_count": 56,
      "outputs": [
        {
          "output_type": "execute_result",
          "data": {
            "text/plain": [
              "[<matplotlib.lines.Line2D at 0x7ff253d87950>]"
            ]
          },
          "metadata": {
            "tags": []
          },
          "execution_count": 56
        },
        {
          "output_type": "display_data",
          "data": {
            "image/png": "[encoded data removed]",
            "text/plain": [
              "<Figure size 432x288 with 1 Axes>"
            ]
          },
          "metadata": {
            "tags": [],
            "needs_background": "light"
          }
        }
      ]
    },
    {
      "cell_type": "code",
      "metadata": {
        "id": "FlxwmlV8NSPv"
      },
      "source": [
        "import numpy as np\n"
      ],
      "execution_count": 57,
      "outputs": []
    },
    {
      "cell_type": "code",
      "metadata": {
        "id": "sU89OcLcZJtW"
      },
      "source": [
        ""
      ],
      "execution_count": null,
      "outputs": []
    },
    {
      "cell_type": "code",
      "metadata": {
        "id": "fzfxv3XFNZCt"
      },
      "source": [
        "#We apply MinMax Scalar (in this we transform values between 0 to 1  )\n",
        "from sklearn.preprocessing import MinMaxScaler\n",
        "scaler=MinMaxScaler(feature_range=(0,1))\n",
        "df2=scaler.fit_transform(np.array(df2).reshape(-1,1))"
      ],
      "execution_count": 58,
      "outputs": []
    },
    {
      "cell_type": "markdown",
      "metadata": {
        "id": "LeNFX0HzZSaj"
      },
      "source": [
        "###Preprocess the Data -Train and test"
      ]
    },
    {
      "cell_type": "code",
      "metadata": {
        "id": "WZePkwZ0O-qy"
      },
      "source": [
        "#splitting dataset into train test split\n",
        "train_size=int(len(df2)*0.65)\n",
        "test_size=len(df2)-train_size\n",
        "train_data,test_data=df2[0:train_size,:],df2[train_size:len(df2),:1]"
      ],
      "execution_count": 60,
      "outputs": []
    },
    {
      "cell_type": "code",
      "metadata": {
        "colab": {
          "base_uri": "https://localhost:8080/"
        },
        "id": "qnpMAtibaN7l",
        "outputId": "4642cb2f-2718-4c01-b568-4e92eaa0ebd3"
      },
      "source": [
        "train_size,test_size"
      ],
      "execution_count": 62,
      "outputs": [
        {
          "output_type": "execute_result",
          "data": {
            "text/plain": [
              "(817, 440)"
            ]
          },
          "metadata": {
            "tags": []
          },
          "execution_count": 62
        }
      ]
    },
    {
      "cell_type": "code",
      "metadata": {
        "colab": {
          "base_uri": "https://localhost:8080/"
        },
        "id": "KGSRfLj6aUn4",
        "outputId": "0776ade7-c43a-464b-a43c-83187af29be8"
      },
      "source": [
        "train_data"
      ],
      "execution_count": 63,
      "outputs": [
        {
          "output_type": "execute_result",
          "data": {
            "text/plain": [
              "array([[0.00803576],\n",
              "       [0.00674124],\n",
              "       [0.00486053],\n",
              "       [0.00163646],\n",
              "       [0.        ],\n",
              "       [0.01533877],\n",
              "       [0.01873382],\n",
              "       [0.0184163 ],\n",
              "       [0.02291046],\n",
              "       [0.01907577],\n",
              "       [0.02227541],\n",
              "       [0.02247081],\n",
              "       [0.0264032 ],\n",
              "       [0.02857701],\n",
              "       [0.0296517 ],\n",
              "       [0.02767329],\n",
              "       [0.02750232],\n",
              "       [0.02811294],\n",
              "       [0.03128816],\n",
              "       [0.03104392],\n",
              "       [0.03065312],\n",
              "       [0.03031117],\n",
              "       [0.03099507],\n",
              "       [0.02891896],\n",
              "       [0.0297494 ],\n",
              "       [0.02774657],\n",
              "       [0.02662303],\n",
              "       [0.02508427],\n",
              "       [0.02479117],\n",
              "       [0.02278833],\n",
              "       [0.02303258],\n",
              "       [0.02457134],\n",
              "       [0.02701382],\n",
              "       [0.02694055],\n",
              "       [0.02855259],\n",
              "       [0.02161594],\n",
              "       [0.01577842],\n",
              "       [0.02142055],\n",
              "       [0.02755117],\n",
              "       [0.03688144],\n",
              "       [0.04616286],\n",
              "       [0.04457525],\n",
              "       [0.04130233],\n",
              "       [0.04127791],\n",
              "       [0.04122906],\n",
              "       [0.04384251],\n",
              "       [0.03917737],\n",
              "       [0.03959259],\n",
              "       [0.04010552],\n",
              "       [0.04220605],\n",
              "       [0.03788286],\n",
              "       [0.04000782],\n",
              "       [0.0387133 ],\n",
              "       [0.03988569],\n",
              "       [0.04000782],\n",
              "       [0.0420595 ],\n",
              "       [0.04247472],\n",
              "       [0.04733525],\n",
              "       [0.04794587],\n",
              "       [0.05048605],\n",
              "       [0.04960676],\n",
              "       [0.05119437],\n",
              "       [0.05099897],\n",
              "       [0.05080358],\n",
              "       [0.04994871],\n",
              "       [0.04980216],\n",
              "       [0.04867862],\n",
              "       [0.05124322],\n",
              "       [0.05270871],\n",
              "       [0.04621171],\n",
              "       [0.04350056],\n",
              "       [0.04164428],\n",
              "       [0.04120463],\n",
              "       [0.03619755],\n",
              "       [0.0364418 ],\n",
              "       [0.03214303],\n",
              "       [0.02972498],\n",
              "       [0.03355967],\n",
              "       [0.03514728],\n",
              "       [0.03470764],\n",
              "       [0.02716037],\n",
              "       [0.02872356],\n",
              "       [0.02208002],\n",
              "       [0.02549949],\n",
              "       [0.03253383],\n",
              "       [0.03243613],\n",
              "       [0.0327048 ],\n",
              "       [0.03678374],\n",
              "       [0.03695472],\n",
              "       [0.0355625 ],\n",
              "       [0.03693029],\n",
              "       [0.03639295],\n",
              "       [0.03612427],\n",
              "       [0.03382834],\n",
              "       [0.03131259],\n",
              "       [0.03231401],\n",
              "       [0.03038445],\n",
              "       [0.03243613],\n",
              "       [0.03507401],\n",
              "       [0.03773631],\n",
              "       [0.04220605],\n",
              "       [0.04061844],\n",
              "       [0.04523472],\n",
              "       [0.04523472],\n",
              "       [0.04677348],\n",
              "       [0.04713986],\n",
              "       [0.04877632],\n",
              "       [0.04953349],\n",
              "       [0.04980216],\n",
              "       [0.04792145],\n",
              "       [0.04848322],\n",
              "       [0.05029066],\n",
              "       [0.04906942],\n",
              "       [0.04899614],\n",
              "       [0.04677348],\n",
              "       [0.0475795 ],\n",
              "       [0.04726198],\n",
              "       [0.04870304],\n",
              "       [0.05187827],\n",
              "       [0.05451614],\n",
              "       [0.05480924],\n",
              "       [0.05637243],\n",
              "       [0.05515119],\n",
              "       [0.05463827],\n",
              "       [0.05698305],\n",
              "       [0.05695862],\n",
              "       [0.0564457 ],\n",
              "       [0.05698305],\n",
              "       [0.05717845],\n",
              "       [0.05690977],\n",
              "       [0.06157491],\n",
              "       [0.06172146],\n",
              "       [0.06174588],\n",
              "       [0.06096429],\n",
              "       [0.0602804 ],\n",
              "       [0.07835475],\n",
              "       [0.0778174 ],\n",
              "       [0.07916076],\n",
              "       [0.08211616],\n",
              "       [0.08514484],\n",
              "       [0.0863905 ],\n",
              "       [0.08731865],\n",
              "       [0.0865859 ],\n",
              "       [0.0894436 ],\n",
              "       [0.09366909],\n",
              "       [0.09486591],\n",
              "       [0.0944629 ],\n",
              "       [0.09537883],\n",
              "       [0.09777246],\n",
              "       [0.09877388],\n",
              "       [0.09735724],\n",
              "       [0.09767476],\n",
              "       [0.09833423],\n",
              "       [0.09848078],\n",
              "       [0.10531972],\n",
              "       [0.10329246],\n",
              "       [0.1052953 ],\n",
              "       [0.1042206 ],\n",
              "       [0.10466025],\n",
              "       [0.10339016],\n",
              "       [0.10260857],\n",
              "       [0.10373211],\n",
              "       [0.10387866],\n",
              "       [0.10336574],\n",
              "       [0.10695618],\n",
              "       [0.10751795],\n",
              "       [0.10580822],\n",
              "       [0.10939866],\n",
              "       [0.10544184],\n",
              "       [0.10930096],\n",
              "       [0.10807972],\n",
              "       [0.10739583],\n",
              "       [0.10798202],\n",
              "       [0.11511406],\n",
              "       [0.11589566],\n",
              "       [0.11543159],\n",
              "       [0.11477212],\n",
              "       [0.11486982],\n",
              "       [0.11748327],\n",
              "       [0.11565141],\n",
              "       [0.11477212],\n",
              "       [0.11399052],\n",
              "       [0.1135753 ],\n",
              "       [0.10981388],\n",
              "       [0.1102291 ],\n",
              "       [0.10839724],\n",
              "       [0.11030238],\n",
              "       [0.10876362],\n",
              "       [0.10749353],\n",
              "       [0.11179229],\n",
              "       [0.11137707],\n",
              "       [0.11472327],\n",
              "       [0.11689707],\n",
              "       [0.11482097],\n",
              "       [0.11508964],\n",
              "       [0.11474769],\n",
              "       [0.12190416],\n",
              "       [0.12417566],\n",
              "       [0.12307655],\n",
              "       [0.12178203],\n",
              "       [0.12771726],\n",
              "       [0.1376093 ],\n",
              "       [0.14000293],\n",
              "       [0.13821992],\n",
              "       [0.13990523],\n",
              "       [0.14515656],\n",
              "       [0.14417957],\n",
              "       [0.1436178 ],\n",
              "       [0.13086806],\n",
              "       [0.13646134],\n",
              "       [0.13773142],\n",
              "       [0.14000293],\n",
              "       [0.13953886],\n",
              "       [0.13841532],\n",
              "       [0.13970983],\n",
              "       [0.13907479],\n",
              "       [0.13922134],\n",
              "       [0.13699868],\n",
              "       [0.13802452],\n",
              "       [0.14356895],\n",
              "       [0.13985638],\n",
              "       [0.14112647],\n",
              "       [0.14337355],\n",
              "       [0.14244541],\n",
              "       [0.12776611],\n",
              "       [0.11907088],\n",
              "       [0.12192858],\n",
              "       [0.11843584],\n",
              "       [0.11631088],\n",
              "       [0.11137707],\n",
              "       [0.12131796],\n",
              "       [0.11806946],\n",
              "       [0.12017   ],\n",
              "       [0.1195838 ],\n",
              "       [0.12117141],\n",
              "       [0.12004787],\n",
              "       [0.11494309],\n",
              "       [0.1200723 ],\n",
              "       [0.11482097],\n",
              "       [0.11565141],\n",
              "       [0.11438132],\n",
              "       [0.11582238],\n",
              "       [0.11250061],\n",
              "       [0.11604221],\n",
              "       [0.11819159],\n",
              "       [0.11933955],\n",
              "       [0.11985247],\n",
              "       [0.12481071],\n",
              "       [0.12791266],\n",
              "       [0.12918275],\n",
              "       [0.13045284],\n",
              "       [0.13274877],\n",
              "       [0.13108788],\n",
              "       [0.13091691],\n",
              "       [0.13536222],\n",
              "       [0.13694983],\n",
              "       [0.13870842],\n",
              "       [0.13162523],\n",
              "       [0.1290362 ],\n",
              "       [0.12715549],\n",
              "       [0.13037956],\n",
              "       [0.14769674],\n",
              "       [0.14386205],\n",
              "       [0.14586488],\n",
              "       [0.15177568],\n",
              "       [0.15487763],\n",
              "       [0.15727126],\n",
              "       [0.14325143],\n",
              "       [0.14852718],\n",
              "       [0.15431586],\n",
              "       [0.1585902 ],\n",
              "       [0.15700259],\n",
              "       [0.14945533],\n",
              "       [0.14857603],\n",
              "       [0.14786772],\n",
              "       [0.15414489],\n",
              "       [0.15463338],\n",
              "       [0.15289922],\n",
              "       [0.15434029],\n",
              "       [0.15827268],\n",
              "       [0.16178985],\n",
              "       [0.16286454],\n",
              "       [0.16445215],\n",
              "       [0.16457428],\n",
              "       [0.15976259],\n",
              "       [0.15934737],\n",
              "       [0.15775976],\n",
              "       [0.15133604],\n",
              "       [0.15834595],\n",
              "       [0.15678277],\n",
              "       [0.15382737],\n",
              "       [0.15048117],\n",
              "       [0.15438914],\n",
              "       [0.15143374],\n",
              "       [0.15158028],\n",
              "       [0.14508329],\n",
              "       [0.13853744],\n",
              "       [0.13487372],\n",
              "       [0.1316008 ],\n",
              "       [0.13792682],\n",
              "       [0.14058913],\n",
              "       [0.13826877],\n",
              "       [0.14032045],\n",
              "       [0.13956328],\n",
              "       [0.14119975],\n",
              "       [0.13875727],\n",
              "       [0.1434224 ],\n",
              "       [0.14320258],\n",
              "       [0.14452152],\n",
              "       [0.14466807],\n",
              "       [0.14625568],\n",
              "       [0.14491231],\n",
              "       [0.14733037],\n",
              "       [0.15438914],\n",
              "       [0.1558302 ],\n",
              "       [0.15409604],\n",
              "       [0.14486347],\n",
              "       [0.14552293],\n",
              "       [0.14532754],\n",
              "       [0.14759904],\n",
              "       [0.14591373],\n",
              "       [0.14835621],\n",
              "       [0.1621318 ],\n",
              "       [0.1710957 ],\n",
              "       [0.17676225],\n",
              "       [0.17151092],\n",
              "       [0.17449074],\n",
              "       [0.18521323],\n",
              "       [0.18948757],\n",
              "       [0.19085536],\n",
              "       [0.1943481 ],\n",
              "       [0.19346881],\n",
              "       [0.19051341],\n",
              "       [0.18880367],\n",
              "       [0.18237995],\n",
              "       [0.17685995],\n",
              "       [0.18179376],\n",
              "       [0.1794734 ],\n",
              "       [0.17905818],\n",
              "       [0.18677642],\n",
              "       [0.19122173],\n",
              "       [0.19124615],\n",
              "       [0.18909677],\n",
              "       [0.18660544],\n",
              "       [0.17783694],\n",
              "       [0.18362562],\n",
              "       [0.18167163],\n",
              "       [0.17861853],\n",
              "       [0.17822774],\n",
              "       [0.17668897],\n",
              "       [0.17744614],\n",
              "       [0.17756827],\n",
              "       [0.18562845],\n",
              "       [0.18325924],\n",
              "       [0.18465146],\n",
              "       [0.18452933],\n",
              "       [0.18880367],\n",
              "       [0.19478775],\n",
              "       [0.19019589],\n",
              "       [0.18973182],\n",
              "       [0.19134385],\n",
              "       [0.19134385],\n",
              "       [0.18049924],\n",
              "       [0.18057252],\n",
              "       [0.18174491],\n",
              "       [0.17722632],\n",
              "       [0.18462703],\n",
              "       [0.18455376],\n",
              "       [0.18650774],\n",
              "       [0.19131943],\n",
              "       [0.18973182],\n",
              "       [0.18968297],\n",
              "       [0.18958527],\n",
              "       [0.19200332],\n",
              "       [0.19642421],\n",
              "       [0.19422598],\n",
              "       [0.20133359],\n",
              "       [0.20172439],\n",
              "       [0.19977041],\n",
              "       [0.19620439],\n",
              "       [0.19630209],\n",
              "       [0.18941429],\n",
              "       [0.18181818],\n",
              "       [0.18279517],\n",
              "       [0.17412437],\n",
              "       [0.17170632],\n",
              "       [0.17282986],\n",
              "       [0.17368472],\n",
              "       [0.15590347],\n",
              "       [0.14610913],\n",
              "       [0.16208295],\n",
              "       [0.15355869],\n",
              "       [0.14283621],\n",
              "       [0.14591373],\n",
              "       [0.16130135],\n",
              "       [0.16528259],\n",
              "       [0.17268331],\n",
              "       [0.18641004],\n",
              "       [0.18504225],\n",
              "       [0.18362562],\n",
              "       [0.18172048],\n",
              "       [0.18521323],\n",
              "       [0.19254067],\n",
              "       [0.20101607],\n",
              "       [0.19959943],\n",
              "       [0.19893996],\n",
              "       [0.19131943],\n",
              "       [0.19427483],\n",
              "       [0.19576474],\n",
              "       [0.19539837],\n",
              "       [0.1913927 ],\n",
              "       [0.19605784],\n",
              "       [0.20348298],\n",
              "       [0.20773289],\n",
              "       [0.20345855],\n",
              "       [0.19972156],\n",
              "       [0.20023448],\n",
              "       [0.19869572],\n",
              "       [0.19205217],\n",
              "       [0.19190562],\n",
              "       [0.18220898],\n",
              "       [0.17629818],\n",
              "       [0.16674808],\n",
              "       [0.1858727 ],\n",
              "       [0.17505251],\n",
              "       [0.1705095 ],\n",
              "       [0.17368472],\n",
              "       [0.170998  ],\n",
              "       [0.17517464],\n",
              "       [0.18303942],\n",
              "       [0.18594597],\n",
              "       [0.17515021],\n",
              "       [0.17922915],\n",
              "       [0.18704509],\n",
              "       [0.18506668],\n",
              "       [0.1892189 ],\n",
              "       [0.19065996],\n",
              "       [0.19332226],\n",
              "       [0.19923306],\n",
              "       [0.19825607],\n",
              "       [0.18594597],\n",
              "       [0.16865322],\n",
              "       [0.16748083],\n",
              "       [0.16186312],\n",
              "       [0.16359728],\n",
              "       [0.1649895 ],\n",
              "       [0.16034879],\n",
              "       [0.16752968],\n",
              "       [0.1769088 ],\n",
              "       [0.19515412],\n",
              "       [0.19593571],\n",
              "       [0.21288652],\n",
              "       [0.21613502],\n",
              "       [0.21830883],\n",
              "       [0.22150848],\n",
              "       [0.22805432],\n",
              "       [0.22451273],\n",
              "       [0.22343803],\n",
              "       [0.21926139],\n",
              "       [0.22351131],\n",
              "       [0.22060476],\n",
              "       [0.21894387],\n",
              "       [0.22216794],\n",
              "       [0.22101998],\n",
              "       [0.22395096],\n",
              "       [0.22343803],\n",
              "       [0.2244883 ],\n",
              "       [0.22282741],\n",
              "       [0.22185042],\n",
              "       [0.22031166],\n",
              "       [0.22854282],\n",
              "       [0.23242636],\n",
              "       [0.23604123],\n",
              "       [0.23767769],\n",
              "       [0.2364076 ],\n",
              "       [0.23210884],\n",
              "       [0.23096087],\n",
              "       [0.23352548],\n",
              "       [0.22966636],\n",
              "       [0.22991061],\n",
              "       [0.22512335],\n",
              "       [0.2248791 ],\n",
              "       [0.21742953],\n",
              "       [0.21940794],\n",
              "       [0.21686776],\n",
              "       [0.21554883],\n",
              "       [0.20883201],\n",
              "       [0.21435201],\n",
              "       [0.21369254],\n",
              "       [0.21696546],\n",
              "       [0.2160129 ],\n",
              "       [0.22106883],\n",
              "       [0.21310635],\n",
              "       [0.21672122],\n",
              "       [0.22299839],\n",
              "       [0.22937326],\n",
              "       [0.22881149],\n",
              "       [0.22277856],\n",
              "       [0.23047238],\n",
              "       [0.23120512],\n",
              "       [0.23017928],\n",
              "       [0.23149822],\n",
              "       [0.22893361],\n",
              "       [0.23254848],\n",
              "       [0.23147379],\n",
              "       [0.23188901],\n",
              "       [0.23528406],\n",
              "       [0.23972937],\n",
              "       [0.23823946],\n",
              "       [0.23035025],\n",
              "       [0.2277368 ],\n",
              "       [0.22866494],\n",
              "       [0.25604514],\n",
              "       [0.27043134],\n",
              "       [0.27189683],\n",
              "       [0.27453471],\n",
              "       [0.26974745],\n",
              "       [0.27008939],\n",
              "       [0.27407064],\n",
              "       [0.27077329],\n",
              "       [0.27404621],\n",
              "       [0.27619559],\n",
              "       [0.27739241],\n",
              "       [0.28491525],\n",
              "       [0.29532021],\n",
              "       [0.29014215],\n",
              "       [0.28911631],\n",
              "       [0.28914074],\n",
              "       [0.29021543],\n",
              "       [0.29185189],\n",
              "       [0.2961995 ],\n",
              "       [0.30049827],\n",
              "       [0.3085096 ],\n",
              "       [0.31351668],\n",
              "       [0.31986713],\n",
              "       [0.32165014],\n",
              "       [0.31801084],\n",
              "       [0.3088027 ],\n",
              "       [0.30440623],\n",
              "       [0.29715207],\n",
              "       [0.31063456],\n",
              "       [0.30384446],\n",
              "       [0.3168873 ],\n",
              "       [0.31061013],\n",
              "       [0.29605295],\n",
              "       [0.29693225],\n",
              "       [0.29724977],\n",
              "       [0.30130428],\n",
              "       [0.29551561],\n",
              "       [0.30316057],\n",
              "       [0.30658004],\n",
              "       [0.30225685],\n",
              "       [0.31332128],\n",
              "       [0.31525084],\n",
              "       [0.31896341],\n",
              "       [0.32389722],\n",
              "       [0.33071174],\n",
              "       [0.32074642],\n",
              "       [0.31170925],\n",
              "       [0.31043916],\n",
              "       [0.31801084],\n",
              "       [0.29234038],\n",
              "       [0.28767525],\n",
              "       [0.30638464],\n",
              "       [0.29478286],\n",
              "       [0.30648234],\n",
              "       [0.30413756],\n",
              "       [0.29150994],\n",
              "       [0.2995457 ],\n",
              "       [0.30281862],\n",
              "       [0.30789898],\n",
              "       [0.28923843],\n",
              "       [0.30074251],\n",
              "       [0.29219384],\n",
              "       [0.28227737],\n",
              "       [0.2848664 ],\n",
              "       [0.29844658],\n",
              "       [0.30665331],\n",
              "       [0.27065117],\n",
              "       [0.25626496],\n",
              "       [0.26158957],\n",
              "       [0.27668409],\n",
              "       [0.27311807],\n",
              "       [0.2632993 ],\n",
              "       [0.23814176],\n",
              "       [0.23340335],\n",
              "       [0.22014069],\n",
              "       [0.23140052],\n",
              "       [0.23657857],\n",
              "       [0.21784476],\n",
              "       [0.19615554],\n",
              "       [0.19566704],\n",
              "       [0.18470031],\n",
              "       [0.19039129],\n",
              "       [0.18946314],\n",
              "       [0.20582776],\n",
              "       [0.20243271],\n",
              "       [0.2000635 ],\n",
              "       [0.21530458],\n",
              "       [0.19544722],\n",
              "       [0.19063553],\n",
              "       [0.17541889],\n",
              "       [0.17813004],\n",
              "       [0.17576083],\n",
              "       [0.1769088 ],\n",
              "       [0.18142739],\n",
              "       [0.16806702],\n",
              "       [0.1643056 ],\n",
              "       [0.16950808],\n",
              "       [0.15685604],\n",
              "       [0.14693957],\n",
              "       [0.13204045],\n",
              "       [0.12251478],\n",
              "       [0.14777002],\n",
              "       [0.14527869],\n",
              "       [0.14547409],\n",
              "       [0.14916223],\n",
              "       [0.14960188],\n",
              "       [0.11118167],\n",
              "       [0.12600752],\n",
              "       [0.1252015 ],\n",
              "       [0.1320893 ],\n",
              "       [0.13834204],\n",
              "       [0.13953886],\n",
              "       [0.13585072],\n",
              "       [0.13025744],\n",
              "       [0.13775585],\n",
              "       [0.14232329],\n",
              "       [0.14457037],\n",
              "       [0.14691515],\n",
              "       [0.13831762],\n",
              "       [0.13983196],\n",
              "       [0.13685213],\n",
              "       [0.14921108],\n",
              "       [0.14564506],\n",
              "       [0.14168824],\n",
              "       [0.16750525],\n",
              "       [0.1704118 ],\n",
              "       [0.1706072 ],\n",
              "       [0.18216013],\n",
              "       [0.18931659],\n",
              "       [0.18946314],\n",
              "       [0.18140296],\n",
              "       [0.18010845],\n",
              "       [0.17771482],\n",
              "       [0.18128084],\n",
              "       [0.17954668],\n",
              "       [0.18106101],\n",
              "       [0.18013287],\n",
              "       [0.18137854],\n",
              "       [0.18406526],\n",
              "       [0.18169606],\n",
              "       [0.18636119],\n",
              "       [0.18943872],\n",
              "       [0.18968297],\n",
              "       [0.19100191],\n",
              "       [0.18680084],\n",
              "       [0.19124615],\n",
              "       [0.19339554],\n",
              "       [0.19261394],\n",
              "       [0.19014704],\n",
              "       [0.18521323],\n",
              "       [0.18621465],\n",
              "       [0.2008451 ],\n",
              "       [0.20575448],\n",
              "       [0.20770847],\n",
              "       [0.21264227],\n",
              "       [0.2184798 ],\n",
              "       [0.22312051],\n",
              "       [0.21948122],\n",
              "       [0.22346246],\n",
              "       [0.24038884],\n",
              "       [0.23052123],\n",
              "       [0.2248791 ],\n",
              "       [0.22011626],\n",
              "       [0.22421963],\n",
              "       [0.22483025],\n",
              "       [0.2278345 ],\n",
              "       [0.2309853 ],\n",
              "       [0.23777539],\n",
              "       [0.24102389],\n",
              "       [0.24185433],\n",
              "       [0.24505398],\n",
              "       [0.25262567],\n",
              "       [0.25116018],\n",
              "       [0.25389575],\n",
              "       [0.24981681],\n",
              "       [0.24962142],\n",
              "       [0.25050071],\n",
              "       [0.25054956],\n",
              "       [0.26002638],\n",
              "       [0.26180939],\n",
              "       [0.26344585],\n",
              "       [0.27065117],\n",
              "       [0.26986957],\n",
              "       [0.26527771],\n",
              "       [0.26288408],\n",
              "       [0.26364125],\n",
              "       [0.25401788],\n",
              "       [0.2780763 ],\n",
              "       [0.27473011],\n",
              "       [0.28108055],\n",
              "       [0.27309364],\n",
              "       [0.25936691],\n",
              "       [0.25946461],\n",
              "       [0.25414   ],\n",
              "       [0.24549363],\n",
              "       [0.21750281],\n",
              "       [0.2246837 ],\n",
              "       [0.2302037 ],\n",
              "       [0.22815202],\n",
              "       [0.22551414],\n",
              "       [0.21107909],\n",
              "       [0.21965219],\n",
              "       [0.21032192],\n",
              "       [0.20270138],\n",
              "       [0.20101607],\n",
              "       [0.19920864],\n",
              "       [0.19713253],\n",
              "       [0.19937961],\n",
              "       [0.1914904 ],\n",
              "       [0.18716721],\n",
              "       [0.20265253],\n",
              "       [0.20973572],\n",
              "       [0.21628157],\n",
              "       [0.22832299],\n",
              "       [0.23425822],\n",
              "       [0.23970495],\n",
              "       [0.23819061],\n",
              "       [0.23809291],\n",
              "       [0.23464902],\n",
              "       [0.23745787],\n",
              "       [0.24859557],\n",
              "       [0.24717894],\n",
              "       [0.25106248],\n",
              "       [0.24940159],\n",
              "       [0.2489131 ],\n",
              "       [0.24156123],\n",
              "       [0.25189292],\n",
              "       [0.25174637],\n",
              "       [0.24730106],\n",
              "       [0.25616726],\n",
              "       [0.25904939],\n",
              "       [0.26315275],\n",
              "       [0.26271311],\n",
              "       [0.25243027],\n",
              "       [0.25541009],\n",
              "       [0.26027063],\n",
              "       [0.25665576],\n",
              "       [0.2604416 ],\n",
              "       [0.26510674],\n",
              "       [0.26337258],\n",
              "       [0.26056372],\n",
              "       [0.26620585],\n",
              "       [0.25870744],\n",
              "       [0.27001612],\n",
              "       [0.27397294],\n",
              "       [0.27355772],\n",
              "       [0.26952762],\n",
              "       [0.27128621],\n",
              "       [0.27602462],\n",
              "       [0.27382639],\n",
              "       [0.28423135],\n",
              "       [0.27297152],\n",
              "       [0.26220019],\n",
              "       [0.2361145 ],\n",
              "       [0.24505398],\n",
              "       [0.25003664],\n",
              "       [0.26075912],\n",
              "       [0.25479947],\n",
              "       [0.25355381],\n",
              "       [0.27429046],\n",
              "       [0.25909824],\n",
              "       [0.25663133],\n",
              "       [0.26825754],\n",
              "       [0.27766108],\n",
              "       [0.27768551],\n",
              "       [0.28325436],\n",
              "       [0.28281471],\n",
              "       [0.25882956],\n",
              "       [0.26823311],\n",
              "       [0.26254213],\n",
              "       [0.26588833],\n",
              "       [0.27438816],\n",
              "       [0.27372869],\n",
              "       [0.26630355],\n",
              "       [0.27482781],\n",
              "       [0.28481755],\n",
              "       [0.2847687 ],\n",
              "       [0.28699135],\n",
              "       [0.29317083],\n",
              "       [0.30999951],\n",
              "       [0.30877827],\n",
              "       [0.29817791],\n",
              "       [0.30098676],\n",
              "       [0.30294075],\n",
              "       [0.30799668],\n",
              "       [0.30357579],\n",
              "       [0.29568658],\n",
              "       [0.29810464],\n",
              "       [0.29556446],\n",
              "       [0.30374676],\n",
              "       [0.30096234],\n",
              "       [0.29834888],\n",
              "       [0.31092765],\n",
              "       [0.31244199],\n",
              "       [0.29869083],\n",
              "       [0.30323384],\n",
              "       [0.31835279],\n",
              "       [0.31847492],\n",
              "       [0.31197792],\n",
              "       [0.31840164],\n",
              "       [0.32587563],\n",
              "       [0.3408236 ],\n",
              "       [0.33999316],\n",
              "       [0.3386498 ],\n",
              "       [0.33632944]])"
            ]
          },
          "metadata": {
            "tags": []
          },
          "execution_count": 63
        }
      ]
    },
    {
      "cell_type": "code",
      "metadata": {
        "id": "ZjjvGfHzaa-H"
      },
      "source": [
        "import numpy as np\n",
        "def create_dataset(dataset,time_step=1):\n",
        "  dataX,dataY =[],[]\n",
        "  for i in range(len(dataset)-time_step-1):\n",
        "    a=dataset[i:(i+time_step),0]\n",
        "    dataX.append(a)\n",
        "    dataY.append(dataset[i+time_step,0])\n",
        "  return np.array(dataX),np.array(dataY)"
      ],
      "execution_count": 69,
      "outputs": []
    },
    {
      "cell_type": "code",
      "metadata": {
        "id": "hYr_dvbDgieB"
      },
      "source": [
        "time_step=100\n",
        "x_train,y_train=create_dataset(train_data,time_step)\n",
        "x_test,y_test=create_dataset(test_data,time_step)"
      ],
      "execution_count": 70,
      "outputs": []
    },
    {
      "cell_type": "code",
      "metadata": {
        "colab": {
          "base_uri": "https://localhost:8080/"
        },
        "id": "wgGVamjJhde8",
        "outputId": "e9d182d6-f423-41a8-bca7-f0363dc8243b"
      },
      "source": [
        "print(x_train)"
      ],
      "execution_count": 71,
      "outputs": [
        {
          "output_type": "stream",
          "text": [
            "[[0.00803576 0.00674124 0.00486053 ... 0.03243613 0.03507401 0.03773631]\n",
            " [0.00674124 0.00486053 0.00163646 ... 0.03507401 0.03773631 0.04220605]\n",
            " [0.00486053 0.00163646 0.         ... 0.03773631 0.04220605 0.04061844]\n",
            " ...\n",
            " [0.21965219 0.21032192 0.20270138 ... 0.31197792 0.31840164 0.32587563]\n",
            " [0.21032192 0.20270138 0.20101607 ... 0.31840164 0.32587563 0.3408236 ]\n",
            " [0.20270138 0.20101607 0.19920864 ... 0.32587563 0.3408236  0.33999316]]\n"
          ],
          "name": "stdout"
        }
      ]
    },
    {
      "cell_type": "code",
      "metadata": {
        "colab": {
          "base_uri": "https://localhost:8080/"
        },
        "id": "PZxWbphgiD7p",
        "outputId": "09d29821-6505-4cd0-df59-9e09edbe7087"
      },
      "source": [
        "x_train.shape,y_train.shape"
      ],
      "execution_count": 73,
      "outputs": [
        {
          "output_type": "execute_result",
          "data": {
            "text/plain": [
              "((716, 100), (716,))"
            ]
          },
          "metadata": {
            "tags": []
          },
          "execution_count": 73
        }
      ]
    },
    {
      "cell_type": "code",
      "metadata": {
        "colab": {
          "base_uri": "https://localhost:8080/"
        },
        "id": "dhOXWh0Fhsz2",
        "outputId": "695a3c46-641d-4aff-c24b-8230629cf3e1"
      },
      "source": [
        "x_test.shape,y_test.shape"
      ],
      "execution_count": 72,
      "outputs": [
        {
          "output_type": "execute_result",
          "data": {
            "text/plain": [
              "((339, 100), (339,))"
            ]
          },
          "metadata": {
            "tags": []
          },
          "execution_count": 72
        }
      ]
    },
    {
      "cell_type": "code",
      "metadata": {
        "id": "5UprZhBCh4U8"
      },
      "source": [
        "#Reshape input to be [samples,time steps,features] which is required for LSTM\n",
        "x_train=x_train.reshape(x_train.shape[0],x_train.shape[1],1)\n",
        "x_test=x_test.reshape(x_test.shape[0],x_test.shape[1],1)"
      ],
      "execution_count": 76,
      "outputs": []
    },
    {
      "cell_type": "markdown",
      "metadata": {
        "id": "0Buldyw8qfPD"
      },
      "source": [
        "###Creating the stacked LSTM model"
      ]
    },
    {
      "cell_type": "code",
      "metadata": {
        "id": "NmVlvd3mi6Oq"
      },
      "source": [
        "#Create the Stack  LSTM Model\n",
        "from tensorflow.keras.models import Sequential\n",
        "from tensorflow.keras.layers import Dense\n",
        "from tensorflow.keras.layers import LSTM"
      ],
      "execution_count": 80,
      "outputs": []
    },
    {
      "cell_type": "code",
      "metadata": {
        "id": "7Rc0xzzVjggG"
      },
      "source": [
        "model=Sequential()\n",
        "model.add(LSTM(50,return_sequences=True,input_shape=(100,1)))\n",
        "model.add(LSTM(50,return_sequences=True))\n",
        "model.add(LSTM(50))\n",
        "model.add(Dense(1))\n",
        "model.compile(loss='mean_squared_error',optimizer='adam')"
      ],
      "execution_count": 78,
      "outputs": []
    },
    {
      "cell_type": "code",
      "metadata": {
        "colab": {
          "base_uri": "https://localhost:8080/"
        },
        "id": "eWEoSzGRkbv1",
        "outputId": "c11236a2-1820-439a-ea9e-c6650d0bc6d1"
      },
      "source": [
        "model.summary()"
      ],
      "execution_count": 79,
      "outputs": [
        {
          "output_type": "stream",
          "text": [
            "Model: \"sequential\"\n",
            "_________________________________________________________________\n",
            "Layer (type)                 Output Shape              Param #   \n",
            "=================================================================\n",
            "lstm (LSTM)                  (None, 100, 50)           10400     \n",
            "_________________________________________________________________\n",
            "lstm_1 (LSTM)                (None, 100, 50)           20200     \n",
            "_________________________________________________________________\n",
            "lstm_2 (LSTM)                (None, 50)                20200     \n",
            "_________________________________________________________________\n",
            "dense (Dense)                (None, 1)                 51        \n",
            "=================================================================\n",
            "Total params: 50,851\n",
            "Trainable params: 50,851\n",
            "Non-trainable params: 0\n",
            "_________________________________________________________________\n"
          ],
          "name": "stdout"
        }
      ]
    },
    {
      "cell_type": "code",
      "metadata": {
        "colab": {
          "base_uri": "https://localhost:8080/"
        },
        "id": "flscn4htkff4",
        "outputId": "b545287b-a2eb-4b6a-a71b-1c32857aed18"
      },
      "source": [
        "model.fit(x_train,y_train,validation_data=(x_test,y_test),epochs=100,batch_size=64,verbose=1)"
      ],
      "execution_count": 81,
      "outputs": [
        {
          "output_type": "stream",
          "text": [
            "Epoch 1/100\n",
            "12/12 [==============================] - 8s 263ms/step - loss: 0.0067 - val_loss: 0.0372\n",
            "Epoch 2/100\n",
            "12/12 [==============================] - 2s 168ms/step - loss: 0.0019 - val_loss: 0.0243\n",
            "Epoch 3/100\n",
            "12/12 [==============================] - 2s 168ms/step - loss: 9.0043e-04 - val_loss: 0.0212\n",
            "Epoch 4/100\n",
            "12/12 [==============================] - 2s 170ms/step - loss: 6.2490e-04 - val_loss: 0.0199\n",
            "Epoch 5/100\n",
            "12/12 [==============================] - 2s 168ms/step - loss: 4.6032e-04 - val_loss: 0.0201\n",
            "Epoch 6/100\n",
            "12/12 [==============================] - 2s 164ms/step - loss: 4.4546e-04 - val_loss: 0.0196\n",
            "Epoch 7/100\n",
            "12/12 [==============================] - 2s 173ms/step - loss: 4.0738e-04 - val_loss: 0.0192\n",
            "Epoch 8/100\n",
            "12/12 [==============================] - 2s 177ms/step - loss: 3.9434e-04 - val_loss: 0.0185\n",
            "Epoch 9/100\n",
            "12/12 [==============================] - 2s 166ms/step - loss: 3.8127e-04 - val_loss: 0.0182\n",
            "Epoch 10/100\n",
            "12/12 [==============================] - 2s 164ms/step - loss: 3.6391e-04 - val_loss: 0.0178\n",
            "Epoch 11/100\n",
            "12/12 [==============================] - 2s 164ms/step - loss: 3.5578e-04 - val_loss: 0.0171\n",
            "Epoch 12/100\n",
            "12/12 [==============================] - 2s 165ms/step - loss: 3.3508e-04 - val_loss: 0.0167\n",
            "Epoch 13/100\n",
            "12/12 [==============================] - 2s 171ms/step - loss: 3.2214e-04 - val_loss: 0.0162\n",
            "Epoch 14/100\n",
            "12/12 [==============================] - 2s 168ms/step - loss: 3.1615e-04 - val_loss: 0.0161\n",
            "Epoch 15/100\n",
            "12/12 [==============================] - 2s 169ms/step - loss: 2.8704e-04 - val_loss: 0.0159\n",
            "Epoch 16/100\n",
            "12/12 [==============================] - 2s 170ms/step - loss: 2.7172e-04 - val_loss: 0.0159\n",
            "Epoch 17/100\n",
            "12/12 [==============================] - 2s 170ms/step - loss: 2.6086e-04 - val_loss: 0.0162\n",
            "Epoch 18/100\n",
            "12/12 [==============================] - 2s 166ms/step - loss: 2.6016e-04 - val_loss: 0.0160\n",
            "Epoch 19/100\n",
            "12/12 [==============================] - 2s 163ms/step - loss: 2.5925e-04 - val_loss: 0.0161\n",
            "Epoch 20/100\n",
            "12/12 [==============================] - 2s 166ms/step - loss: 2.7782e-04 - val_loss: 0.0156\n",
            "Epoch 21/100\n",
            "12/12 [==============================] - 2s 168ms/step - loss: 2.6527e-04 - val_loss: 0.0160\n",
            "Epoch 22/100\n",
            "12/12 [==============================] - 2s 169ms/step - loss: 2.8457e-04 - val_loss: 0.0156\n",
            "Epoch 23/100\n",
            "12/12 [==============================] - 2s 168ms/step - loss: 2.6446e-04 - val_loss: 0.0147\n",
            "Epoch 24/100\n",
            "12/12 [==============================] - 2s 166ms/step - loss: 2.4557e-04 - val_loss: 0.0150\n",
            "Epoch 25/100\n",
            "12/12 [==============================] - 2s 174ms/step - loss: 2.4981e-04 - val_loss: 0.0148\n",
            "Epoch 26/100\n",
            "12/12 [==============================] - 2s 164ms/step - loss: 2.5876e-04 - val_loss: 0.0148\n",
            "Epoch 27/100\n",
            "12/12 [==============================] - 2s 167ms/step - loss: 2.5220e-04 - val_loss: 0.0144\n",
            "Epoch 28/100\n",
            "12/12 [==============================] - 2s 176ms/step - loss: 2.3764e-04 - val_loss: 0.0145\n",
            "Epoch 29/100\n",
            "12/12 [==============================] - 2s 166ms/step - loss: 2.2626e-04 - val_loss: 0.0144\n",
            "Epoch 30/100\n",
            "12/12 [==============================] - 2s 167ms/step - loss: 2.1943e-04 - val_loss: 0.0145\n",
            "Epoch 31/100\n",
            "12/12 [==============================] - 2s 168ms/step - loss: 2.1368e-04 - val_loss: 0.0149\n",
            "Epoch 32/100\n",
            "12/12 [==============================] - 2s 166ms/step - loss: 2.2342e-04 - val_loss: 0.0144\n",
            "Epoch 33/100\n",
            "12/12 [==============================] - 2s 172ms/step - loss: 2.3279e-04 - val_loss: 0.0140\n",
            "Epoch 34/100\n",
            "12/12 [==============================] - 2s 165ms/step - loss: 2.3330e-04 - val_loss: 0.0146\n",
            "Epoch 35/100\n",
            "12/12 [==============================] - 2s 185ms/step - loss: 2.6211e-04 - val_loss: 0.0139\n",
            "Epoch 36/100\n",
            "12/12 [==============================] - 2s 169ms/step - loss: 2.3823e-04 - val_loss: 0.0136\n",
            "Epoch 37/100\n",
            "12/12 [==============================] - 2s 172ms/step - loss: 2.0509e-04 - val_loss: 0.0142\n",
            "Epoch 38/100\n",
            "12/12 [==============================] - 2s 166ms/step - loss: 2.1326e-04 - val_loss: 0.0148\n",
            "Epoch 39/100\n",
            "12/12 [==============================] - 2s 167ms/step - loss: 2.5838e-04 - val_loss: 0.0130\n",
            "Epoch 40/100\n",
            "12/12 [==============================] - 2s 167ms/step - loss: 2.0698e-04 - val_loss: 0.0131\n",
            "Epoch 41/100\n",
            "12/12 [==============================] - 2s 170ms/step - loss: 2.0144e-04 - val_loss: 0.0134\n",
            "Epoch 42/100\n",
            "12/12 [==============================] - 2s 170ms/step - loss: 1.9709e-04 - val_loss: 0.0136\n",
            "Epoch 43/100\n",
            "12/12 [==============================] - 2s 164ms/step - loss: 1.9262e-04 - val_loss: 0.0136\n",
            "Epoch 44/100\n",
            "12/12 [==============================] - 2s 167ms/step - loss: 1.9964e-04 - val_loss: 0.0144\n",
            "Epoch 45/100\n",
            "12/12 [==============================] - 2s 166ms/step - loss: 2.0284e-04 - val_loss: 0.0139\n",
            "Epoch 46/100\n",
            "12/12 [==============================] - 2s 167ms/step - loss: 1.8360e-04 - val_loss: 0.0133\n",
            "Epoch 47/100\n",
            "12/12 [==============================] - 2s 168ms/step - loss: 1.9506e-04 - val_loss: 0.0136\n",
            "Epoch 48/100\n",
            "12/12 [==============================] - 2s 168ms/step - loss: 1.8118e-04 - val_loss: 0.0136\n",
            "Epoch 49/100\n",
            "12/12 [==============================] - 2s 166ms/step - loss: 1.7999e-04 - val_loss: 0.0135\n",
            "Epoch 50/100\n",
            "12/12 [==============================] - 2s 168ms/step - loss: 1.8497e-04 - val_loss: 0.0129\n",
            "Epoch 51/100\n",
            "12/12 [==============================] - 2s 169ms/step - loss: 1.8933e-04 - val_loss: 0.0130\n",
            "Epoch 52/100\n",
            "12/12 [==============================] - 2s 169ms/step - loss: 1.7950e-04 - val_loss: 0.0141\n",
            "Epoch 53/100\n",
            "12/12 [==============================] - 2s 166ms/step - loss: 1.7999e-04 - val_loss: 0.0131\n",
            "Epoch 54/100\n",
            "12/12 [==============================] - 2s 166ms/step - loss: 1.9997e-04 - val_loss: 0.0126\n",
            "Epoch 55/100\n",
            "12/12 [==============================] - 2s 165ms/step - loss: 1.7986e-04 - val_loss: 0.0129\n",
            "Epoch 56/100\n",
            "12/12 [==============================] - 2s 169ms/step - loss: 1.9636e-04 - val_loss: 0.0136\n",
            "Epoch 57/100\n",
            "12/12 [==============================] - 2s 167ms/step - loss: 2.1431e-04 - val_loss: 0.0119\n",
            "Epoch 58/100\n",
            "12/12 [==============================] - 2s 167ms/step - loss: 1.9523e-04 - val_loss: 0.0115\n",
            "Epoch 59/100\n",
            "12/12 [==============================] - 2s 168ms/step - loss: 2.3860e-04 - val_loss: 0.0123\n",
            "Epoch 60/100\n",
            "12/12 [==============================] - 2s 171ms/step - loss: 2.1369e-04 - val_loss: 0.0116\n",
            "Epoch 61/100\n",
            "12/12 [==============================] - 2s 165ms/step - loss: 1.7532e-04 - val_loss: 0.0119\n",
            "Epoch 62/100\n",
            "12/12 [==============================] - 2s 169ms/step - loss: 1.6565e-04 - val_loss: 0.0116\n",
            "Epoch 63/100\n",
            "12/12 [==============================] - 2s 170ms/step - loss: 1.6744e-04 - val_loss: 0.0147\n",
            "Epoch 64/100\n",
            "12/12 [==============================] - 2s 171ms/step - loss: 2.2489e-04 - val_loss: 0.0106\n",
            "Epoch 65/100\n",
            "12/12 [==============================] - 2s 166ms/step - loss: 1.9439e-04 - val_loss: 0.0107\n",
            "Epoch 66/100\n",
            "12/12 [==============================] - 2s 165ms/step - loss: 1.6099e-04 - val_loss: 0.0119\n",
            "Epoch 67/100\n",
            "12/12 [==============================] - 2s 168ms/step - loss: 1.8561e-04 - val_loss: 0.0105\n",
            "Epoch 68/100\n",
            "12/12 [==============================] - 2s 166ms/step - loss: 1.6271e-04 - val_loss: 0.0114\n",
            "Epoch 69/100\n",
            "12/12 [==============================] - 2s 166ms/step - loss: 1.5822e-04 - val_loss: 0.0114\n",
            "Epoch 70/100\n",
            "12/12 [==============================] - 2s 168ms/step - loss: 1.7416e-04 - val_loss: 0.0103\n",
            "Epoch 71/100\n",
            "12/12 [==============================] - 2s 170ms/step - loss: 1.5212e-04 - val_loss: 0.0106\n",
            "Epoch 72/100\n",
            "12/12 [==============================] - 2s 166ms/step - loss: 1.5320e-04 - val_loss: 0.0107\n",
            "Epoch 73/100\n",
            "12/12 [==============================] - 2s 169ms/step - loss: 1.4594e-04 - val_loss: 0.0113\n",
            "Epoch 74/100\n",
            "12/12 [==============================] - 2s 169ms/step - loss: 1.5467e-04 - val_loss: 0.0108\n",
            "Epoch 75/100\n",
            "12/12 [==============================] - 2s 175ms/step - loss: 1.4652e-04 - val_loss: 0.0109\n",
            "Epoch 76/100\n",
            "12/12 [==============================] - 2s 175ms/step - loss: 1.4217e-04 - val_loss: 0.0100\n",
            "Epoch 77/100\n",
            "12/12 [==============================] - 2s 169ms/step - loss: 1.4882e-04 - val_loss: 0.0106\n",
            "Epoch 78/100\n",
            "12/12 [==============================] - 2s 170ms/step - loss: 1.4135e-04 - val_loss: 0.0103\n",
            "Epoch 79/100\n",
            "12/12 [==============================] - 2s 166ms/step - loss: 1.4371e-04 - val_loss: 0.0093\n",
            "Epoch 80/100\n",
            "12/12 [==============================] - 2s 171ms/step - loss: 1.5835e-04 - val_loss: 0.0111\n",
            "Epoch 81/100\n",
            "12/12 [==============================] - 2s 168ms/step - loss: 1.6193e-04 - val_loss: 0.0113\n",
            "Epoch 82/100\n",
            "12/12 [==============================] - 2s 167ms/step - loss: 1.8909e-04 - val_loss: 0.0083\n",
            "Epoch 83/100\n",
            "12/12 [==============================] - 2s 172ms/step - loss: 1.3391e-04 - val_loss: 0.0092\n",
            "Epoch 84/100\n",
            "12/12 [==============================] - 2s 168ms/step - loss: 1.3214e-04 - val_loss: 0.0092\n",
            "Epoch 85/100\n",
            "12/12 [==============================] - 2s 172ms/step - loss: 1.3524e-04 - val_loss: 0.0085\n",
            "Epoch 86/100\n",
            "12/12 [==============================] - 2s 168ms/step - loss: 1.6434e-04 - val_loss: 0.0087\n",
            "Epoch 87/100\n",
            "12/12 [==============================] - 2s 168ms/step - loss: 1.5790e-04 - val_loss: 0.0090\n",
            "Epoch 88/100\n",
            "12/12 [==============================] - 2s 169ms/step - loss: 1.4660e-04 - val_loss: 0.0084\n",
            "Epoch 89/100\n",
            "12/12 [==============================] - 2s 169ms/step - loss: 1.2472e-04 - val_loss: 0.0084\n",
            "Epoch 90/100\n",
            "12/12 [==============================] - 2s 170ms/step - loss: 1.2489e-04 - val_loss: 0.0097\n",
            "Epoch 91/100\n",
            "12/12 [==============================] - 2s 170ms/step - loss: 1.5516e-04 - val_loss: 0.0075\n",
            "Epoch 92/100\n",
            "12/12 [==============================] - 2s 165ms/step - loss: 1.2667e-04 - val_loss: 0.0081\n",
            "Epoch 93/100\n",
            "12/12 [==============================] - 2s 168ms/step - loss: 1.2046e-04 - val_loss: 0.0079\n",
            "Epoch 94/100\n",
            "12/12 [==============================] - 2s 172ms/step - loss: 1.1944e-04 - val_loss: 0.0077\n",
            "Epoch 95/100\n",
            "12/12 [==============================] - 2s 168ms/step - loss: 1.1793e-04 - val_loss: 0.0085\n",
            "Epoch 96/100\n",
            "12/12 [==============================] - 2s 164ms/step - loss: 1.4690e-04 - val_loss: 0.0069\n",
            "Epoch 97/100\n",
            "12/12 [==============================] - 2s 169ms/step - loss: 1.6367e-04 - val_loss: 0.0080\n",
            "Epoch 98/100\n",
            "12/12 [==============================] - 2s 172ms/step - loss: 1.6182e-04 - val_loss: 0.0071\n",
            "Epoch 99/100\n",
            "12/12 [==============================] - 2s 166ms/step - loss: 1.2153e-04 - val_loss: 0.0073\n",
            "Epoch 100/100\n",
            "12/12 [==============================] - 2s 169ms/step - loss: 1.1799e-04 - val_loss: 0.0067\n"
          ],
          "name": "stdout"
        },
        {
          "output_type": "execute_result",
          "data": {
            "text/plain": [
              "<tensorflow.python.keras.callbacks.History at 0x7ff201af1d50>"
            ]
          },
          "metadata": {
            "tags": []
          },
          "execution_count": 81
        }
      ]
    },
    {
      "cell_type": "code",
      "metadata": {
        "id": "4QAiyXr4lnHV"
      },
      "source": [
        "import tensorflow as tf"
      ],
      "execution_count": 82,
      "outputs": []
    },
    {
      "cell_type": "code",
      "metadata": {
        "colab": {
          "base_uri": "https://localhost:8080/",
          "height": 35
        },
        "id": "HHJIKR1Tlws7",
        "outputId": "bd2c28ff-0188-4ba8-f13a-3933dc2277a8"
      },
      "source": [
        "tf.__version__"
      ],
      "execution_count": 83,
      "outputs": [
        {
          "output_type": "execute_result",
          "data": {
            "application/vnd.google.colaboratory.intrinsic+json": {
              "type": "string"
            },
            "text/plain": [
              "'2.5.0'"
            ]
          },
          "metadata": {
            "tags": []
          },
          "execution_count": 83
        }
      ]
    },
    {
      "cell_type": "code",
      "metadata": {
        "id": "xMGR1MAnmgeK"
      },
      "source": [
        "train_predict=model.predict(x_train)\n",
        "test_predict=model.predict(x_test)"
      ],
      "execution_count": 84,
      "outputs": []
    },
    {
      "cell_type": "code",
      "metadata": {
        "id": "lG4jC0uVnBaQ"
      },
      "source": [
        "#transform back to original form\n",
        "train_predict=scaler.inverse_transform(train_predict)\n",
        "test_predict=scaler.inverse_transform(test_predict)"
      ],
      "execution_count": 86,
      "outputs": []
    },
    {
      "cell_type": "code",
      "metadata": {
        "colab": {
          "base_uri": "https://localhost:8080/"
        },
        "id": "s8ovoAj7nJUN",
        "outputId": "135fec8e-28bd-4b74-ded9-5ba9dc5d376b"
      },
      "source": [
        "#Calcuating RMSE performance metrics \n",
        "import math\n",
        "from sklearn.metrics import mean_squared_error\n",
        "math.sqrt(mean_squared_error(y_train,train_predict))"
      ],
      "execution_count": 89,
      "outputs": [
        {
          "output_type": "execute_result",
          "data": {
            "text/plain": [
              "72220.14984008721"
            ]
          },
          "metadata": {
            "tags": []
          },
          "execution_count": 89
        }
      ]
    },
    {
      "cell_type": "code",
      "metadata": {
        "colab": {
          "base_uri": "https://localhost:8080/"
        },
        "id": "N8JzL3YmoJ0E",
        "outputId": "3e633472-f619-44d0-b942-134df6131e1f"
      },
      "source": [
        "math.sqrt(mean_squared_error(y_test,test_predict))"
      ],
      "execution_count": 90,
      "outputs": [
        {
          "output_type": "execute_result",
          "data": {
            "text/plain": [
              "232.5073421484917"
            ]
          },
          "metadata": {
            "tags": []
          },
          "execution_count": 90
        }
      ]
    },
    {
      "cell_type": "code",
      "metadata": {
        "colab": {
          "base_uri": "https://localhost:8080/",
          "height": 265
        },
        "id": "Kx1NGNlooiZf",
        "outputId": "c49023f4-4c9e-4652-bc74-3c4ad4030504"
      },
      "source": [
        "### Plotting \n",
        "import numpy\n",
        "# shift train predictions for plotting\n",
        "look_back=100\n",
        "trainPredictPlot = numpy.empty_like(df2)\n",
        "trainPredictPlot[:, :] = np.nan\n",
        "trainPredictPlot[look_back:len(train_predict)+look_back, :] = train_predict\n",
        "# shift test predictions for plotting\n",
        "testPredictPlot = numpy.empty_like(df2)\n",
        "testPredictPlot[:, :] = numpy.nan\n",
        "testPredictPlot[len(train_predict)+(look_back*2)+1:len(df2)-1, :] = test_predict\n",
        "# plot baseline and predictions\n",
        "plt.plot(scaler.inverse_transform(df2))\n",
        "plt.plot(trainPredictPlot)\n",
        "plt.plot(testPredictPlot)\n",
        "plt.show()"
      ],
      "execution_count": 119,
      "outputs": [
        {
          "output_type": "display_data",
          "data": {
            "image/png": "[encoded data removed]",
            "text/plain": [
              "<Figure size 432x288 with 1 Axes>"
            ]
          },
          "metadata": {
            "tags": [],
            "needs_background": "light"
          }
        }
      ]
    },
    {
      "cell_type": "code",
      "metadata": {
        "colab": {
          "base_uri": "https://localhost:8080/"
        },
        "id": "zqXhPmXLtQpM",
        "outputId": "59cacf8b-92de-4209-fecf-fa6447df09c2"
      },
      "source": [
        "len(test_data)"
      ],
      "execution_count": 101,
      "outputs": [
        {
          "output_type": "execute_result",
          "data": {
            "text/plain": [
              "440"
            ]
          },
          "metadata": {
            "tags": []
          },
          "execution_count": 101
        }
      ]
    },
    {
      "cell_type": "code",
      "metadata": {
        "colab": {
          "base_uri": "https://localhost:8080/"
        },
        "id": "DXm0wt9WvVB0",
        "outputId": "1c879d3f-0a96-4f48-e45f-85bf99d252a0"
      },
      "source": [
        "\n",
        "x_input=test_data[341:].reshape(1,-1)\n",
        "x_input.shape\n"
      ],
      "execution_count": 102,
      "outputs": [
        {
          "output_type": "execute_result",
          "data": {
            "text/plain": [
              "(1, 99)"
            ]
          },
          "metadata": {
            "tags": []
          },
          "execution_count": 102
        }
      ]
    },
    {
      "cell_type": "code",
      "metadata": {
        "id": "CqQTC_2tvaNP"
      },
      "source": [
        "\n",
        "temp_input=list(x_input)\n",
        "temp_input=temp_input[0].tolist()"
      ],
      "execution_count": 104,
      "outputs": []
    },
    {
      "cell_type": "code",
      "metadata": {
        "colab": {
          "base_uri": "https://localhost:8080/"
        },
        "id": "U1TIx3-rve5F",
        "outputId": "c952d24c-9cce-4a6a-d1bf-2af0ed12175d"
      },
      "source": [
        "temp_input"
      ],
      "execution_count": 106,
      "outputs": [
        {
          "output_type": "execute_result",
          "data": {
            "text/plain": [
              "[0.05940110400078158,\n",
              " 0.060060573494211345,\n",
              " 0.07600996531678961,\n",
              " 0.0694885447706512,\n",
              " 0.06201455717844756,\n",
              " 0.05730057154022761,\n",
              " 0.060451370231058565,\n",
              " 0.048092423428264364,\n",
              " 0.05963313956328464,\n",
              " 0.056934199599433355,\n",
              " 0.061770309217917985,\n",
              " 0.0594988031849934,\n",
              " 0.06672854281666746,\n",
              " 0.07058766059303401,\n",
              " 0.06860925211274488,\n",
              " 0.05827756338234574,\n",
              " 0.05695862439548627,\n",
              " 0.06526305505349028,\n",
              " 0.06318694738898933,\n",
              " 0.057202872356015844,\n",
              " 0.0584241121586635,\n",
              " 0.05993844951394656,\n",
              " 0.060378095842899715,\n",
              " 0.05673880123100972,\n",
              " 0.06223438034292417,\n",
              " 0.06431048800742512,\n",
              " 0.07139367886278153,\n",
              " 0.072150847540423,\n",
              " 0.0762786380733721,\n",
              " 0.08228713790239855,\n",
              " 0.0887230716623516,\n",
              " 0.08443651995505841,\n",
              " 0.09222802989595041,\n",
              " 0.08636607884324166,\n",
              " 0.09239900346832103,\n",
              " 0.09156856040252065,\n",
              " 0.09322944653412146,\n",
              " 0.0890039568169606,\n",
              " 0.08995652386302572,\n",
              " 0.0861462556787651,\n",
              " 0.09195935713936787,\n",
              " 0.092936348981486,\n",
              " 0.09213033071173854,\n",
              " 0.09015192223144941,\n",
              " 0.08990767427091984,\n",
              " 0.08497386546822339,\n",
              " 0.08761174344194222,\n",
              " 0.07615651409310731,\n",
              " 0.07676713399443114,\n",
              " 0.08077280054711544,\n",
              " 0.08192076596160425,\n",
              " 0.073714034487812,\n",
              " 0.07141810365883444,\n",
              " 0.06374871769820722,\n",
              " 0.06912217282985689,\n",
              " 0.07517952225098923,\n",
              " 0.07229739631674076,\n",
              " 0.06882907527722143,\n",
              " 0.06843827854037415,\n",
              " 0.07483757510624789,\n",
              " 0.07024571344829272,\n",
              " 0.07432465438913582,\n",
              " 0.07383615846807678,\n",
              " 0.073714034487812,\n",
              " 0.06987934150749842,\n",
              " 0.06824288017195057,\n",
              " 0.0674368619022031,\n",
              " 0.06934199599433344,\n",
              " 0.06562942699428459,\n",
              " 0.07136925406672856,\n",
              " 0.07139367886278153,\n",
              " 0.07344536173122951,\n",
              " 0.07439792877729468,\n",
              " 0.07190659957989348,\n",
              " 0.07493527429045965,\n",
              " 0.0825802354550339,\n",
              " 0.08052855258658587,\n",
              " 0.08177421718528649,\n",
              " 0.08577988373797074,\n",
              " 0.08253138586292807,\n",
              " 0.08702554833667142,\n",
              " 0.09112891407356744,\n",
              " 0.09044501978408476,\n",
              " 0.08973670069854917,\n",
              " 0.0890039568169606,\n",
              " 0.0930828977578037,\n",
              " 0.09686874114601146,\n",
              " 0.09840750329734749,\n",
              " 0.09916467197498902,\n",
              " 0.10573494211323337,\n",
              " 0.11076645010014169,\n",
              " 0.11699477309364464,\n",
              " 0.11374627521860198,\n",
              " 0.11831371208050417,\n",
              " 0.11682379952127397,\n",
              " 0.11960822627131062,\n",
              " 0.12818132968589713,\n",
              " 0.12654486835034928,\n",
              " 0.12144008597528205]"
            ]
          },
          "metadata": {
            "tags": []
          },
          "execution_count": 106
        }
      ]
    },
    {
      "cell_type": "code",
      "metadata": {
        "colab": {
          "base_uri": "https://localhost:8080/"
        },
        "id": "9RJ5ni3ovo1Z",
        "outputId": "9602f09c-e2a0-456d-95b2-0ce8953022ad"
      },
      "source": [
        "\n",
        "# demonstrate prediction for next 10 days\n",
        "from numpy import array\n",
        "\n",
        "lst_output=[]\n",
        "n_steps=100\n",
        "i=0\n",
        "while(i<30):\n",
        "    \n",
        "    if(len(temp_input)>100):\n",
        "        #print(temp_input)\n",
        "        x_input=np.array(temp_input[1:])\n",
        "        print(\"{} day input {}\".format(i,x_input))\n",
        "        x_input=x_input.reshape(1,-1)\n",
        "        x_input = x_input.reshape((1, n_steps, 1))\n",
        "        #print(x_input)\n",
        "        yhat = model.predict(x_input, verbose=0)\n",
        "        print(\"{} day output {}\".format(i,yhat))\n",
        "        temp_input.extend(yhat[0].tolist())\n",
        "        temp_input=temp_input[1:]\n",
        "        #print(temp_input)\n",
        "        lst_output.extend(yhat.tolist())\n",
        "        i=i+1\n",
        "    else:\n",
        "        x_input = x_input.reshape((1, n_steps,1))\n",
        "        yhat = model.predict(x_input, verbose=0)\n",
        "        print(yhat[0])\n",
        "        temp_input.extend(yhat[0].tolist())\n",
        "        print(len(temp_input))\n",
        "        lst_output.extend(yhat.tolist())\n",
        "        i=i+1\n",
        "    \n",
        "\n",
        "print(lst_output)\n"
      ],
      "execution_count": 110,
      "outputs": [
        {
          "output_type": "stream",
          "text": [
            "0 day input [0.06006057 0.07600997 0.06948854 0.06201456 0.05730057 0.06045137\n",
            " 0.04809242 0.05963314 0.0569342  0.06177031 0.0594988  0.06672854\n",
            " 0.07058766 0.06860925 0.05827756 0.05695862 0.06526306 0.06318695\n",
            " 0.05720287 0.05842411 0.05993845 0.0603781  0.0567388  0.06223438\n",
            " 0.06431049 0.07139368 0.07215085 0.07627864 0.08228714 0.08872307\n",
            " 0.08443652 0.09222803 0.08636608 0.092399   0.09156856 0.09322945\n",
            " 0.08900396 0.08995652 0.08614626 0.09195936 0.09293635 0.09213033\n",
            " 0.09015192 0.08990767 0.08497387 0.08761174 0.07615651 0.07676713\n",
            " 0.0807728  0.08192077 0.07371403 0.0714181  0.06374872 0.06912217\n",
            " 0.07517952 0.0722974  0.06882908 0.06843828 0.07483758 0.07024571\n",
            " 0.07432465 0.07383616 0.07371403 0.06987934 0.06824288 0.06743686\n",
            " 0.069342   0.06562943 0.07136925 0.07139368 0.07344536 0.07439793\n",
            " 0.0719066  0.07493527 0.08258024 0.08052855 0.08177422 0.08577988\n",
            " 0.08253139 0.08702555 0.09112891 0.09044502 0.0897367  0.08900396\n",
            " 0.0930829  0.09686874 0.0984075  0.09916467 0.10573494 0.11076645\n",
            " 0.11699477 0.11374628 0.11831371 0.1168238  0.11960823 0.12818133\n",
            " 0.12654487 0.12144009 0.12044305 0.12044305]\n",
            "0 day output [[0.1213572]]\n",
            "1 day input [0.07600997 0.06948854 0.06201456 0.05730057 0.06045137 0.04809242\n",
            " 0.05963314 0.0569342  0.06177031 0.0594988  0.06672854 0.07058766\n",
            " 0.06860925 0.05827756 0.05695862 0.06526306 0.06318695 0.05720287\n",
            " 0.05842411 0.05993845 0.0603781  0.0567388  0.06223438 0.06431049\n",
            " 0.07139368 0.07215085 0.07627864 0.08228714 0.08872307 0.08443652\n",
            " 0.09222803 0.08636608 0.092399   0.09156856 0.09322945 0.08900396\n",
            " 0.08995652 0.08614626 0.09195936 0.09293635 0.09213033 0.09015192\n",
            " 0.08990767 0.08497387 0.08761174 0.07615651 0.07676713 0.0807728\n",
            " 0.08192077 0.07371403 0.0714181  0.06374872 0.06912217 0.07517952\n",
            " 0.0722974  0.06882908 0.06843828 0.07483758 0.07024571 0.07432465\n",
            " 0.07383616 0.07371403 0.06987934 0.06824288 0.06743686 0.069342\n",
            " 0.06562943 0.07136925 0.07139368 0.07344536 0.07439793 0.0719066\n",
            " 0.07493527 0.08258024 0.08052855 0.08177422 0.08577988 0.08253139\n",
            " 0.08702555 0.09112891 0.09044502 0.0897367  0.08900396 0.0930829\n",
            " 0.09686874 0.0984075  0.09916467 0.10573494 0.11076645 0.11699477\n",
            " 0.11374628 0.11831371 0.1168238  0.11960823 0.12818133 0.12654487\n",
            " 0.12144009 0.12044305 0.12044305 0.1213572 ]\n",
            "1 day output [[0.1211044]]\n",
            "2 day input [0.06948854 0.06201456 0.05730057 0.06045137 0.04809242 0.05963314\n",
            " 0.0569342  0.06177031 0.0594988  0.06672854 0.07058766 0.06860925\n",
            " 0.05827756 0.05695862 0.06526306 0.06318695 0.05720287 0.05842411\n",
            " 0.05993845 0.0603781  0.0567388  0.06223438 0.06431049 0.07139368\n",
            " 0.07215085 0.07627864 0.08228714 0.08872307 0.08443652 0.09222803\n",
            " 0.08636608 0.092399   0.09156856 0.09322945 0.08900396 0.08995652\n",
            " 0.08614626 0.09195936 0.09293635 0.09213033 0.09015192 0.08990767\n",
            " 0.08497387 0.08761174 0.07615651 0.07676713 0.0807728  0.08192077\n",
            " 0.07371403 0.0714181  0.06374872 0.06912217 0.07517952 0.0722974\n",
            " 0.06882908 0.06843828 0.07483758 0.07024571 0.07432465 0.07383616\n",
            " 0.07371403 0.06987934 0.06824288 0.06743686 0.069342   0.06562943\n",
            " 0.07136925 0.07139368 0.07344536 0.07439793 0.0719066  0.07493527\n",
            " 0.08258024 0.08052855 0.08177422 0.08577988 0.08253139 0.08702555\n",
            " 0.09112891 0.09044502 0.0897367  0.08900396 0.0930829  0.09686874\n",
            " 0.0984075  0.09916467 0.10573494 0.11076645 0.11699477 0.11374628\n",
            " 0.11831371 0.1168238  0.11960823 0.12818133 0.12654487 0.12144009\n",
            " 0.12044305 0.12044305 0.1213572  0.1211044 ]\n",
            "2 day output [[0.12073275]]\n",
            "3 day input [0.06201456 0.05730057 0.06045137 0.04809242 0.05963314 0.0569342\n",
            " 0.06177031 0.0594988  0.06672854 0.07058766 0.06860925 0.05827756\n",
            " 0.05695862 0.06526306 0.06318695 0.05720287 0.05842411 0.05993845\n",
            " 0.0603781  0.0567388  0.06223438 0.06431049 0.07139368 0.07215085\n",
            " 0.07627864 0.08228714 0.08872307 0.08443652 0.09222803 0.08636608\n",
            " 0.092399   0.09156856 0.09322945 0.08900396 0.08995652 0.08614626\n",
            " 0.09195936 0.09293635 0.09213033 0.09015192 0.08990767 0.08497387\n",
            " 0.08761174 0.07615651 0.07676713 0.0807728  0.08192077 0.07371403\n",
            " 0.0714181  0.06374872 0.06912217 0.07517952 0.0722974  0.06882908\n",
            " 0.06843828 0.07483758 0.07024571 0.07432465 0.07383616 0.07371403\n",
            " 0.06987934 0.06824288 0.06743686 0.069342   0.06562943 0.07136925\n",
            " 0.07139368 0.07344536 0.07439793 0.0719066  0.07493527 0.08258024\n",
            " 0.08052855 0.08177422 0.08577988 0.08253139 0.08702555 0.09112891\n",
            " 0.09044502 0.0897367  0.08900396 0.0930829  0.09686874 0.0984075\n",
            " 0.09916467 0.10573494 0.11076645 0.11699477 0.11374628 0.11831371\n",
            " 0.1168238  0.11960823 0.12818133 0.12654487 0.12144009 0.12044305\n",
            " 0.12044305 0.1213572  0.1211044  0.12073275]\n",
            "3 day output [[0.12037443]]\n",
            "4 day input [0.05730057 0.06045137 0.04809242 0.05963314 0.0569342  0.06177031\n",
            " 0.0594988  0.06672854 0.07058766 0.06860925 0.05827756 0.05695862\n",
            " 0.06526306 0.06318695 0.05720287 0.05842411 0.05993845 0.0603781\n",
            " 0.0567388  0.06223438 0.06431049 0.07139368 0.07215085 0.07627864\n",
            " 0.08228714 0.08872307 0.08443652 0.09222803 0.08636608 0.092399\n",
            " 0.09156856 0.09322945 0.08900396 0.08995652 0.08614626 0.09195936\n",
            " 0.09293635 0.09213033 0.09015192 0.08990767 0.08497387 0.08761174\n",
            " 0.07615651 0.07676713 0.0807728  0.08192077 0.07371403 0.0714181\n",
            " 0.06374872 0.06912217 0.07517952 0.0722974  0.06882908 0.06843828\n",
            " 0.07483758 0.07024571 0.07432465 0.07383616 0.07371403 0.06987934\n",
            " 0.06824288 0.06743686 0.069342   0.06562943 0.07136925 0.07139368\n",
            " 0.07344536 0.07439793 0.0719066  0.07493527 0.08258024 0.08052855\n",
            " 0.08177422 0.08577988 0.08253139 0.08702555 0.09112891 0.09044502\n",
            " 0.0897367  0.08900396 0.0930829  0.09686874 0.0984075  0.09916467\n",
            " 0.10573494 0.11076645 0.11699477 0.11374628 0.11831371 0.1168238\n",
            " 0.11960823 0.12818133 0.12654487 0.12144009 0.12044305 0.12044305\n",
            " 0.1213572  0.1211044  0.12073275 0.12037443]\n",
            "4 day output [[0.12009139]]\n",
            "5 day input [0.06045137 0.04809242 0.05963314 0.0569342  0.06177031 0.0594988\n",
            " 0.06672854 0.07058766 0.06860925 0.05827756 0.05695862 0.06526306\n",
            " 0.06318695 0.05720287 0.05842411 0.05993845 0.0603781  0.0567388\n",
            " 0.06223438 0.06431049 0.07139368 0.07215085 0.07627864 0.08228714\n",
            " 0.08872307 0.08443652 0.09222803 0.08636608 0.092399   0.09156856\n",
            " 0.09322945 0.08900396 0.08995652 0.08614626 0.09195936 0.09293635\n",
            " 0.09213033 0.09015192 0.08990767 0.08497387 0.08761174 0.07615651\n",
            " 0.07676713 0.0807728  0.08192077 0.07371403 0.0714181  0.06374872\n",
            " 0.06912217 0.07517952 0.0722974  0.06882908 0.06843828 0.07483758\n",
            " 0.07024571 0.07432465 0.07383616 0.07371403 0.06987934 0.06824288\n",
            " 0.06743686 0.069342   0.06562943 0.07136925 0.07139368 0.07344536\n",
            " 0.07439793 0.0719066  0.07493527 0.08258024 0.08052855 0.08177422\n",
            " 0.08577988 0.08253139 0.08702555 0.09112891 0.09044502 0.0897367\n",
            " 0.08900396 0.0930829  0.09686874 0.0984075  0.09916467 0.10573494\n",
            " 0.11076645 0.11699477 0.11374628 0.11831371 0.1168238  0.11960823\n",
            " 0.12818133 0.12654487 0.12144009 0.12044305 0.12044305 0.1213572\n",
            " 0.1211044  0.12073275 0.12037443 0.12009139]\n",
            "5 day output [[0.11990614]]\n",
            "6 day input [0.04809242 0.05963314 0.0569342  0.06177031 0.0594988  0.06672854\n",
            " 0.07058766 0.06860925 0.05827756 0.05695862 0.06526306 0.06318695\n",
            " 0.05720287 0.05842411 0.05993845 0.0603781  0.0567388  0.06223438\n",
            " 0.06431049 0.07139368 0.07215085 0.07627864 0.08228714 0.08872307\n",
            " 0.08443652 0.09222803 0.08636608 0.092399   0.09156856 0.09322945\n",
            " 0.08900396 0.08995652 0.08614626 0.09195936 0.09293635 0.09213033\n",
            " 0.09015192 0.08990767 0.08497387 0.08761174 0.07615651 0.07676713\n",
            " 0.0807728  0.08192077 0.07371403 0.0714181  0.06374872 0.06912217\n",
            " 0.07517952 0.0722974  0.06882908 0.06843828 0.07483758 0.07024571\n",
            " 0.07432465 0.07383616 0.07371403 0.06987934 0.06824288 0.06743686\n",
            " 0.069342   0.06562943 0.07136925 0.07139368 0.07344536 0.07439793\n",
            " 0.0719066  0.07493527 0.08258024 0.08052855 0.08177422 0.08577988\n",
            " 0.08253139 0.08702555 0.09112891 0.09044502 0.0897367  0.08900396\n",
            " 0.0930829  0.09686874 0.0984075  0.09916467 0.10573494 0.11076645\n",
            " 0.11699477 0.11374628 0.11831371 0.1168238  0.11960823 0.12818133\n",
            " 0.12654487 0.12144009 0.12044305 0.12044305 0.1213572  0.1211044\n",
            " 0.12073275 0.12037443 0.12009139 0.11990614]\n",
            "6 day output [[0.11982166]]\n",
            "7 day input [0.05963314 0.0569342  0.06177031 0.0594988  0.06672854 0.07058766\n",
            " 0.06860925 0.05827756 0.05695862 0.06526306 0.06318695 0.05720287\n",
            " 0.05842411 0.05993845 0.0603781  0.0567388  0.06223438 0.06431049\n",
            " 0.07139368 0.07215085 0.07627864 0.08228714 0.08872307 0.08443652\n",
            " 0.09222803 0.08636608 0.092399   0.09156856 0.09322945 0.08900396\n",
            " 0.08995652 0.08614626 0.09195936 0.09293635 0.09213033 0.09015192\n",
            " 0.08990767 0.08497387 0.08761174 0.07615651 0.07676713 0.0807728\n",
            " 0.08192077 0.07371403 0.0714181  0.06374872 0.06912217 0.07517952\n",
            " 0.0722974  0.06882908 0.06843828 0.07483758 0.07024571 0.07432465\n",
            " 0.07383616 0.07371403 0.06987934 0.06824288 0.06743686 0.069342\n",
            " 0.06562943 0.07136925 0.07139368 0.07344536 0.07439793 0.0719066\n",
            " 0.07493527 0.08258024 0.08052855 0.08177422 0.08577988 0.08253139\n",
            " 0.08702555 0.09112891 0.09044502 0.0897367  0.08900396 0.0930829\n",
            " 0.09686874 0.0984075  0.09916467 0.10573494 0.11076645 0.11699477\n",
            " 0.11374628 0.11831371 0.1168238  0.11960823 0.12818133 0.12654487\n",
            " 0.12144009 0.12044305 0.12044305 0.1213572  0.1211044  0.12073275\n",
            " 0.12037443 0.12009139 0.11990614 0.11982166]\n",
            "7 day output [[0.11983225]]\n",
            "8 day input [0.0569342  0.06177031 0.0594988  0.06672854 0.07058766 0.06860925\n",
            " 0.05827756 0.05695862 0.06526306 0.06318695 0.05720287 0.05842411\n",
            " 0.05993845 0.0603781  0.0567388  0.06223438 0.06431049 0.07139368\n",
            " 0.07215085 0.07627864 0.08228714 0.08872307 0.08443652 0.09222803\n",
            " 0.08636608 0.092399   0.09156856 0.09322945 0.08900396 0.08995652\n",
            " 0.08614626 0.09195936 0.09293635 0.09213033 0.09015192 0.08990767\n",
            " 0.08497387 0.08761174 0.07615651 0.07676713 0.0807728  0.08192077\n",
            " 0.07371403 0.0714181  0.06374872 0.06912217 0.07517952 0.0722974\n",
            " 0.06882908 0.06843828 0.07483758 0.07024571 0.07432465 0.07383616\n",
            " 0.07371403 0.06987934 0.06824288 0.06743686 0.069342   0.06562943\n",
            " 0.07136925 0.07139368 0.07344536 0.07439793 0.0719066  0.07493527\n",
            " 0.08258024 0.08052855 0.08177422 0.08577988 0.08253139 0.08702555\n",
            " 0.09112891 0.09044502 0.0897367  0.08900396 0.0930829  0.09686874\n",
            " 0.0984075  0.09916467 0.10573494 0.11076645 0.11699477 0.11374628\n",
            " 0.11831371 0.1168238  0.11960823 0.12818133 0.12654487 0.12144009\n",
            " 0.12044305 0.12044305 0.1213572  0.1211044  0.12073275 0.12037443\n",
            " 0.12009139 0.11990614 0.11982166 0.11983225]\n",
            "8 day output [[0.11992862]]\n",
            "9 day input [0.06177031 0.0594988  0.06672854 0.07058766 0.06860925 0.05827756\n",
            " 0.05695862 0.06526306 0.06318695 0.05720287 0.05842411 0.05993845\n",
            " 0.0603781  0.0567388  0.06223438 0.06431049 0.07139368 0.07215085\n",
            " 0.07627864 0.08228714 0.08872307 0.08443652 0.09222803 0.08636608\n",
            " 0.092399   0.09156856 0.09322945 0.08900396 0.08995652 0.08614626\n",
            " 0.09195936 0.09293635 0.09213033 0.09015192 0.08990767 0.08497387\n",
            " 0.08761174 0.07615651 0.07676713 0.0807728  0.08192077 0.07371403\n",
            " 0.0714181  0.06374872 0.06912217 0.07517952 0.0722974  0.06882908\n",
            " 0.06843828 0.07483758 0.07024571 0.07432465 0.07383616 0.07371403\n",
            " 0.06987934 0.06824288 0.06743686 0.069342   0.06562943 0.07136925\n",
            " 0.07139368 0.07344536 0.07439793 0.0719066  0.07493527 0.08258024\n",
            " 0.08052855 0.08177422 0.08577988 0.08253139 0.08702555 0.09112891\n",
            " 0.09044502 0.0897367  0.08900396 0.0930829  0.09686874 0.0984075\n",
            " 0.09916467 0.10573494 0.11076645 0.11699477 0.11374628 0.11831371\n",
            " 0.1168238  0.11960823 0.12818133 0.12654487 0.12144009 0.12044305\n",
            " 0.12044305 0.1213572  0.1211044  0.12073275 0.12037443 0.12009139\n",
            " 0.11990614 0.11982166 0.11983225 0.11992862]\n",
            "9 day output [[0.12009986]]\n",
            "10 day input [0.0594988  0.06672854 0.07058766 0.06860925 0.05827756 0.05695862\n",
            " 0.06526306 0.06318695 0.05720287 0.05842411 0.05993845 0.0603781\n",
            " 0.0567388  0.06223438 0.06431049 0.07139368 0.07215085 0.07627864\n",
            " 0.08228714 0.08872307 0.08443652 0.09222803 0.08636608 0.092399\n",
            " 0.09156856 0.09322945 0.08900396 0.08995652 0.08614626 0.09195936\n",
            " 0.09293635 0.09213033 0.09015192 0.08990767 0.08497387 0.08761174\n",
            " 0.07615651 0.07676713 0.0807728  0.08192077 0.07371403 0.0714181\n",
            " 0.06374872 0.06912217 0.07517952 0.0722974  0.06882908 0.06843828\n",
            " 0.07483758 0.07024571 0.07432465 0.07383616 0.07371403 0.06987934\n",
            " 0.06824288 0.06743686 0.069342   0.06562943 0.07136925 0.07139368\n",
            " 0.07344536 0.07439793 0.0719066  0.07493527 0.08258024 0.08052855\n",
            " 0.08177422 0.08577988 0.08253139 0.08702555 0.09112891 0.09044502\n",
            " 0.0897367  0.08900396 0.0930829  0.09686874 0.0984075  0.09916467\n",
            " 0.10573494 0.11076645 0.11699477 0.11374628 0.11831371 0.1168238\n",
            " 0.11960823 0.12818133 0.12654487 0.12144009 0.12044305 0.12044305\n",
            " 0.1213572  0.1211044  0.12073275 0.12037443 0.12009139 0.11990614\n",
            " 0.11982166 0.11983225 0.11992862 0.12009986]\n",
            "10 day output [[0.12033446]]\n",
            "11 day input [0.06672854 0.07058766 0.06860925 0.05827756 0.05695862 0.06526306\n",
            " 0.06318695 0.05720287 0.05842411 0.05993845 0.0603781  0.0567388\n",
            " 0.06223438 0.06431049 0.07139368 0.07215085 0.07627864 0.08228714\n",
            " 0.08872307 0.08443652 0.09222803 0.08636608 0.092399   0.09156856\n",
            " 0.09322945 0.08900396 0.08995652 0.08614626 0.09195936 0.09293635\n",
            " 0.09213033 0.09015192 0.08990767 0.08497387 0.08761174 0.07615651\n",
            " 0.07676713 0.0807728  0.08192077 0.07371403 0.0714181  0.06374872\n",
            " 0.06912217 0.07517952 0.0722974  0.06882908 0.06843828 0.07483758\n",
            " 0.07024571 0.07432465 0.07383616 0.07371403 0.06987934 0.06824288\n",
            " 0.06743686 0.069342   0.06562943 0.07136925 0.07139368 0.07344536\n",
            " 0.07439793 0.0719066  0.07493527 0.08258024 0.08052855 0.08177422\n",
            " 0.08577988 0.08253139 0.08702555 0.09112891 0.09044502 0.0897367\n",
            " 0.08900396 0.0930829  0.09686874 0.0984075  0.09916467 0.10573494\n",
            " 0.11076645 0.11699477 0.11374628 0.11831371 0.1168238  0.11960823\n",
            " 0.12818133 0.12654487 0.12144009 0.12044305 0.12044305 0.1213572\n",
            " 0.1211044  0.12073275 0.12037443 0.12009139 0.11990614 0.11982166\n",
            " 0.11983225 0.11992862 0.12009986 0.12033446]\n",
            "11 day output [[0.12062053]]\n",
            "12 day input [0.07058766 0.06860925 0.05827756 0.05695862 0.06526306 0.06318695\n",
            " 0.05720287 0.05842411 0.05993845 0.0603781  0.0567388  0.06223438\n",
            " 0.06431049 0.07139368 0.07215085 0.07627864 0.08228714 0.08872307\n",
            " 0.08443652 0.09222803 0.08636608 0.092399   0.09156856 0.09322945\n",
            " 0.08900396 0.08995652 0.08614626 0.09195936 0.09293635 0.09213033\n",
            " 0.09015192 0.08990767 0.08497387 0.08761174 0.07615651 0.07676713\n",
            " 0.0807728  0.08192077 0.07371403 0.0714181  0.06374872 0.06912217\n",
            " 0.07517952 0.0722974  0.06882908 0.06843828 0.07483758 0.07024571\n",
            " 0.07432465 0.07383616 0.07371403 0.06987934 0.06824288 0.06743686\n",
            " 0.069342   0.06562943 0.07136925 0.07139368 0.07344536 0.07439793\n",
            " 0.0719066  0.07493527 0.08258024 0.08052855 0.08177422 0.08577988\n",
            " 0.08253139 0.08702555 0.09112891 0.09044502 0.0897367  0.08900396\n",
            " 0.0930829  0.09686874 0.0984075  0.09916467 0.10573494 0.11076645\n",
            " 0.11699477 0.11374628 0.11831371 0.1168238  0.11960823 0.12818133\n",
            " 0.12654487 0.12144009 0.12044305 0.12044305 0.1213572  0.1211044\n",
            " 0.12073275 0.12037443 0.12009139 0.11990614 0.11982166 0.11983225\n",
            " 0.11992862 0.12009986 0.12033446 0.12062053]\n",
            "12 day output [[0.12094641]]\n",
            "13 day input [0.06860925 0.05827756 0.05695862 0.06526306 0.06318695 0.05720287\n",
            " 0.05842411 0.05993845 0.0603781  0.0567388  0.06223438 0.06431049\n",
            " 0.07139368 0.07215085 0.07627864 0.08228714 0.08872307 0.08443652\n",
            " 0.09222803 0.08636608 0.092399   0.09156856 0.09322945 0.08900396\n",
            " 0.08995652 0.08614626 0.09195936 0.09293635 0.09213033 0.09015192\n",
            " 0.08990767 0.08497387 0.08761174 0.07615651 0.07676713 0.0807728\n",
            " 0.08192077 0.07371403 0.0714181  0.06374872 0.06912217 0.07517952\n",
            " 0.0722974  0.06882908 0.06843828 0.07483758 0.07024571 0.07432465\n",
            " 0.07383616 0.07371403 0.06987934 0.06824288 0.06743686 0.069342\n",
            " 0.06562943 0.07136925 0.07139368 0.07344536 0.07439793 0.0719066\n",
            " 0.07493527 0.08258024 0.08052855 0.08177422 0.08577988 0.08253139\n",
            " 0.08702555 0.09112891 0.09044502 0.0897367  0.08900396 0.0930829\n",
            " 0.09686874 0.0984075  0.09916467 0.10573494 0.11076645 0.11699477\n",
            " 0.11374628 0.11831371 0.1168238  0.11960823 0.12818133 0.12654487\n",
            " 0.12144009 0.12044305 0.12044305 0.1213572  0.1211044  0.12073275\n",
            " 0.12037443 0.12009139 0.11990614 0.11982166 0.11983225 0.11992862\n",
            " 0.12009986 0.12033446 0.12062053 0.12094641]\n",
            "13 day output [[0.12130102]]\n",
            "14 day input [0.05827756 0.05695862 0.06526306 0.06318695 0.05720287 0.05842411\n",
            " 0.05993845 0.0603781  0.0567388  0.06223438 0.06431049 0.07139368\n",
            " 0.07215085 0.07627864 0.08228714 0.08872307 0.08443652 0.09222803\n",
            " 0.08636608 0.092399   0.09156856 0.09322945 0.08900396 0.08995652\n",
            " 0.08614626 0.09195936 0.09293635 0.09213033 0.09015192 0.08990767\n",
            " 0.08497387 0.08761174 0.07615651 0.07676713 0.0807728  0.08192077\n",
            " 0.07371403 0.0714181  0.06374872 0.06912217 0.07517952 0.0722974\n",
            " 0.06882908 0.06843828 0.07483758 0.07024571 0.07432465 0.07383616\n",
            " 0.07371403 0.06987934 0.06824288 0.06743686 0.069342   0.06562943\n",
            " 0.07136925 0.07139368 0.07344536 0.07439793 0.0719066  0.07493527\n",
            " 0.08258024 0.08052855 0.08177422 0.08577988 0.08253139 0.08702555\n",
            " 0.09112891 0.09044502 0.0897367  0.08900396 0.0930829  0.09686874\n",
            " 0.0984075  0.09916467 0.10573494 0.11076645 0.11699477 0.11374628\n",
            " 0.11831371 0.1168238  0.11960823 0.12818133 0.12654487 0.12144009\n",
            " 0.12044305 0.12044305 0.1213572  0.1211044  0.12073275 0.12037443\n",
            " 0.12009139 0.11990614 0.11982166 0.11983225 0.11992862 0.12009986\n",
            " 0.12033446 0.12062053 0.12094641 0.12130102]\n",
            "14 day output [[0.12167413]]\n",
            "15 day input [0.05695862 0.06526306 0.06318695 0.05720287 0.05842411 0.05993845\n",
            " 0.0603781  0.0567388  0.06223438 0.06431049 0.07139368 0.07215085\n",
            " 0.07627864 0.08228714 0.08872307 0.08443652 0.09222803 0.08636608\n",
            " 0.092399   0.09156856 0.09322945 0.08900396 0.08995652 0.08614626\n",
            " 0.09195936 0.09293635 0.09213033 0.09015192 0.08990767 0.08497387\n",
            " 0.08761174 0.07615651 0.07676713 0.0807728  0.08192077 0.07371403\n",
            " 0.0714181  0.06374872 0.06912217 0.07517952 0.0722974  0.06882908\n",
            " 0.06843828 0.07483758 0.07024571 0.07432465 0.07383616 0.07371403\n",
            " 0.06987934 0.06824288 0.06743686 0.069342   0.06562943 0.07136925\n",
            " 0.07139368 0.07344536 0.07439793 0.0719066  0.07493527 0.08258024\n",
            " 0.08052855 0.08177422 0.08577988 0.08253139 0.08702555 0.09112891\n",
            " 0.09044502 0.0897367  0.08900396 0.0930829  0.09686874 0.0984075\n",
            " 0.09916467 0.10573494 0.11076645 0.11699477 0.11374628 0.11831371\n",
            " 0.1168238  0.11960823 0.12818133 0.12654487 0.12144009 0.12044305\n",
            " 0.12044305 0.1213572  0.1211044  0.12073275 0.12037443 0.12009139\n",
            " 0.11990614 0.11982166 0.11983225 0.11992862 0.12009986 0.12033446\n",
            " 0.12062053 0.12094641 0.12130102 0.12167413]\n",
            "15 day output [[0.1220569]]\n",
            "16 day input [0.06526306 0.06318695 0.05720287 0.05842411 0.05993845 0.0603781\n",
            " 0.0567388  0.06223438 0.06431049 0.07139368 0.07215085 0.07627864\n",
            " 0.08228714 0.08872307 0.08443652 0.09222803 0.08636608 0.092399\n",
            " 0.09156856 0.09322945 0.08900396 0.08995652 0.08614626 0.09195936\n",
            " 0.09293635 0.09213033 0.09015192 0.08990767 0.08497387 0.08761174\n",
            " 0.07615651 0.07676713 0.0807728  0.08192077 0.07371403 0.0714181\n",
            " 0.06374872 0.06912217 0.07517952 0.0722974  0.06882908 0.06843828\n",
            " 0.07483758 0.07024571 0.07432465 0.07383616 0.07371403 0.06987934\n",
            " 0.06824288 0.06743686 0.069342   0.06562943 0.07136925 0.07139368\n",
            " 0.07344536 0.07439793 0.0719066  0.07493527 0.08258024 0.08052855\n",
            " 0.08177422 0.08577988 0.08253139 0.08702555 0.09112891 0.09044502\n",
            " 0.0897367  0.08900396 0.0930829  0.09686874 0.0984075  0.09916467\n",
            " 0.10573494 0.11076645 0.11699477 0.11374628 0.11831371 0.1168238\n",
            " 0.11960823 0.12818133 0.12654487 0.12144009 0.12044305 0.12044305\n",
            " 0.1213572  0.1211044  0.12073275 0.12037443 0.12009139 0.11990614\n",
            " 0.11982166 0.11983225 0.11992862 0.12009986 0.12033446 0.12062053\n",
            " 0.12094641 0.12130102 0.12167413 0.1220569 ]\n",
            "16 day output [[0.12244171]]\n",
            "17 day input [0.06318695 0.05720287 0.05842411 0.05993845 0.0603781  0.0567388\n",
            " 0.06223438 0.06431049 0.07139368 0.07215085 0.07627864 0.08228714\n",
            " 0.08872307 0.08443652 0.09222803 0.08636608 0.092399   0.09156856\n",
            " 0.09322945 0.08900396 0.08995652 0.08614626 0.09195936 0.09293635\n",
            " 0.09213033 0.09015192 0.08990767 0.08497387 0.08761174 0.07615651\n",
            " 0.07676713 0.0807728  0.08192077 0.07371403 0.0714181  0.06374872\n",
            " 0.06912217 0.07517952 0.0722974  0.06882908 0.06843828 0.07483758\n",
            " 0.07024571 0.07432465 0.07383616 0.07371403 0.06987934 0.06824288\n",
            " 0.06743686 0.069342   0.06562943 0.07136925 0.07139368 0.07344536\n",
            " 0.07439793 0.0719066  0.07493527 0.08258024 0.08052855 0.08177422\n",
            " 0.08577988 0.08253139 0.08702555 0.09112891 0.09044502 0.0897367\n",
            " 0.08900396 0.0930829  0.09686874 0.0984075  0.09916467 0.10573494\n",
            " 0.11076645 0.11699477 0.11374628 0.11831371 0.1168238  0.11960823\n",
            " 0.12818133 0.12654487 0.12144009 0.12044305 0.12044305 0.1213572\n",
            " 0.1211044  0.12073275 0.12037443 0.12009139 0.11990614 0.11982166\n",
            " 0.11983225 0.11992862 0.12009986 0.12033446 0.12062053 0.12094641\n",
            " 0.12130102 0.12167413 0.1220569  0.12244171]\n",
            "17 day output [[0.12282253]]\n",
            "18 day input [0.05720287 0.05842411 0.05993845 0.0603781  0.0567388  0.06223438\n",
            " 0.06431049 0.07139368 0.07215085 0.07627864 0.08228714 0.08872307\n",
            " 0.08443652 0.09222803 0.08636608 0.092399   0.09156856 0.09322945\n",
            " 0.08900396 0.08995652 0.08614626 0.09195936 0.09293635 0.09213033\n",
            " 0.09015192 0.08990767 0.08497387 0.08761174 0.07615651 0.07676713\n",
            " 0.0807728  0.08192077 0.07371403 0.0714181  0.06374872 0.06912217\n",
            " 0.07517952 0.0722974  0.06882908 0.06843828 0.07483758 0.07024571\n",
            " 0.07432465 0.07383616 0.07371403 0.06987934 0.06824288 0.06743686\n",
            " 0.069342   0.06562943 0.07136925 0.07139368 0.07344536 0.07439793\n",
            " 0.0719066  0.07493527 0.08258024 0.08052855 0.08177422 0.08577988\n",
            " 0.08253139 0.08702555 0.09112891 0.09044502 0.0897367  0.08900396\n",
            " 0.0930829  0.09686874 0.0984075  0.09916467 0.10573494 0.11076645\n",
            " 0.11699477 0.11374628 0.11831371 0.1168238  0.11960823 0.12818133\n",
            " 0.12654487 0.12144009 0.12044305 0.12044305 0.1213572  0.1211044\n",
            " 0.12073275 0.12037443 0.12009139 0.11990614 0.11982166 0.11983225\n",
            " 0.11992862 0.12009986 0.12033446 0.12062053 0.12094641 0.12130102\n",
            " 0.12167413 0.1220569  0.12244171 0.12282253]\n",
            "18 day output [[0.12319479]]\n",
            "19 day input [0.05842411 0.05993845 0.0603781  0.0567388  0.06223438 0.06431049\n",
            " 0.07139368 0.07215085 0.07627864 0.08228714 0.08872307 0.08443652\n",
            " 0.09222803 0.08636608 0.092399   0.09156856 0.09322945 0.08900396\n",
            " 0.08995652 0.08614626 0.09195936 0.09293635 0.09213033 0.09015192\n",
            " 0.08990767 0.08497387 0.08761174 0.07615651 0.07676713 0.0807728\n",
            " 0.08192077 0.07371403 0.0714181  0.06374872 0.06912217 0.07517952\n",
            " 0.0722974  0.06882908 0.06843828 0.07483758 0.07024571 0.07432465\n",
            " 0.07383616 0.07371403 0.06987934 0.06824288 0.06743686 0.069342\n",
            " 0.06562943 0.07136925 0.07139368 0.07344536 0.07439793 0.0719066\n",
            " 0.07493527 0.08258024 0.08052855 0.08177422 0.08577988 0.08253139\n",
            " 0.08702555 0.09112891 0.09044502 0.0897367  0.08900396 0.0930829\n",
            " 0.09686874 0.0984075  0.09916467 0.10573494 0.11076645 0.11699477\n",
            " 0.11374628 0.11831371 0.1168238  0.11960823 0.12818133 0.12654487\n",
            " 0.12144009 0.12044305 0.12044305 0.1213572  0.1211044  0.12073275\n",
            " 0.12037443 0.12009139 0.11990614 0.11982166 0.11983225 0.11992862\n",
            " 0.12009986 0.12033446 0.12062053 0.12094641 0.12130102 0.12167413\n",
            " 0.1220569  0.12244171 0.12282253 0.12319479]\n",
            "19 day output [[0.12355525]]\n",
            "20 day input [0.05993845 0.0603781  0.0567388  0.06223438 0.06431049 0.07139368\n",
            " 0.07215085 0.07627864 0.08228714 0.08872307 0.08443652 0.09222803\n",
            " 0.08636608 0.092399   0.09156856 0.09322945 0.08900396 0.08995652\n",
            " 0.08614626 0.09195936 0.09293635 0.09213033 0.09015192 0.08990767\n",
            " 0.08497387 0.08761174 0.07615651 0.07676713 0.0807728  0.08192077\n",
            " 0.07371403 0.0714181  0.06374872 0.06912217 0.07517952 0.0722974\n",
            " 0.06882908 0.06843828 0.07483758 0.07024571 0.07432465 0.07383616\n",
            " 0.07371403 0.06987934 0.06824288 0.06743686 0.069342   0.06562943\n",
            " 0.07136925 0.07139368 0.07344536 0.07439793 0.0719066  0.07493527\n",
            " 0.08258024 0.08052855 0.08177422 0.08577988 0.08253139 0.08702555\n",
            " 0.09112891 0.09044502 0.0897367  0.08900396 0.0930829  0.09686874\n",
            " 0.0984075  0.09916467 0.10573494 0.11076645 0.11699477 0.11374628\n",
            " 0.11831371 0.1168238  0.11960823 0.12818133 0.12654487 0.12144009\n",
            " 0.12044305 0.12044305 0.1213572  0.1211044  0.12073275 0.12037443\n",
            " 0.12009139 0.11990614 0.11982166 0.11983225 0.11992862 0.12009986\n",
            " 0.12033446 0.12062053 0.12094641 0.12130102 0.12167413 0.1220569\n",
            " 0.12244171 0.12282253 0.12319479 0.12355525]\n",
            "20 day output [[0.123902]]\n",
            "21 day input [0.0603781  0.0567388  0.06223438 0.06431049 0.07139368 0.07215085\n",
            " 0.07627864 0.08228714 0.08872307 0.08443652 0.09222803 0.08636608\n",
            " 0.092399   0.09156856 0.09322945 0.08900396 0.08995652 0.08614626\n",
            " 0.09195936 0.09293635 0.09213033 0.09015192 0.08990767 0.08497387\n",
            " 0.08761174 0.07615651 0.07676713 0.0807728  0.08192077 0.07371403\n",
            " 0.0714181  0.06374872 0.06912217 0.07517952 0.0722974  0.06882908\n",
            " 0.06843828 0.07483758 0.07024571 0.07432465 0.07383616 0.07371403\n",
            " 0.06987934 0.06824288 0.06743686 0.069342   0.06562943 0.07136925\n",
            " 0.07139368 0.07344536 0.07439793 0.0719066  0.07493527 0.08258024\n",
            " 0.08052855 0.08177422 0.08577988 0.08253139 0.08702555 0.09112891\n",
            " 0.09044502 0.0897367  0.08900396 0.0930829  0.09686874 0.0984075\n",
            " 0.09916467 0.10573494 0.11076645 0.11699477 0.11374628 0.11831371\n",
            " 0.1168238  0.11960823 0.12818133 0.12654487 0.12144009 0.12044305\n",
            " 0.12044305 0.1213572  0.1211044  0.12073275 0.12037443 0.12009139\n",
            " 0.11990614 0.11982166 0.11983225 0.11992862 0.12009986 0.12033446\n",
            " 0.12062053 0.12094641 0.12130102 0.12167413 0.1220569  0.12244171\n",
            " 0.12282253 0.12319479 0.12355525 0.123902  ]\n",
            "21 day output [[0.12423413]]\n",
            "22 day input [0.0567388  0.06223438 0.06431049 0.07139368 0.07215085 0.07627864\n",
            " 0.08228714 0.08872307 0.08443652 0.09222803 0.08636608 0.092399\n",
            " 0.09156856 0.09322945 0.08900396 0.08995652 0.08614626 0.09195936\n",
            " 0.09293635 0.09213033 0.09015192 0.08990767 0.08497387 0.08761174\n",
            " 0.07615651 0.07676713 0.0807728  0.08192077 0.07371403 0.0714181\n",
            " 0.06374872 0.06912217 0.07517952 0.0722974  0.06882908 0.06843828\n",
            " 0.07483758 0.07024571 0.07432465 0.07383616 0.07371403 0.06987934\n",
            " 0.06824288 0.06743686 0.069342   0.06562943 0.07136925 0.07139368\n",
            " 0.07344536 0.07439793 0.0719066  0.07493527 0.08258024 0.08052855\n",
            " 0.08177422 0.08577988 0.08253139 0.08702555 0.09112891 0.09044502\n",
            " 0.0897367  0.08900396 0.0930829  0.09686874 0.0984075  0.09916467\n",
            " 0.10573494 0.11076645 0.11699477 0.11374628 0.11831371 0.1168238\n",
            " 0.11960823 0.12818133 0.12654487 0.12144009 0.12044305 0.12044305\n",
            " 0.1213572  0.1211044  0.12073275 0.12037443 0.12009139 0.11990614\n",
            " 0.11982166 0.11983225 0.11992862 0.12009986 0.12033446 0.12062053\n",
            " 0.12094641 0.12130102 0.12167413 0.1220569  0.12244171 0.12282253\n",
            " 0.12319479 0.12355525 0.123902   0.12423413]\n",
            "22 day output [[0.12455163]]\n",
            "23 day input [0.06223438 0.06431049 0.07139368 0.07215085 0.07627864 0.08228714\n",
            " 0.08872307 0.08443652 0.09222803 0.08636608 0.092399   0.09156856\n",
            " 0.09322945 0.08900396 0.08995652 0.08614626 0.09195936 0.09293635\n",
            " 0.09213033 0.09015192 0.08990767 0.08497387 0.08761174 0.07615651\n",
            " 0.07676713 0.0807728  0.08192077 0.07371403 0.0714181  0.06374872\n",
            " 0.06912217 0.07517952 0.0722974  0.06882908 0.06843828 0.07483758\n",
            " 0.07024571 0.07432465 0.07383616 0.07371403 0.06987934 0.06824288\n",
            " 0.06743686 0.069342   0.06562943 0.07136925 0.07139368 0.07344536\n",
            " 0.07439793 0.0719066  0.07493527 0.08258024 0.08052855 0.08177422\n",
            " 0.08577988 0.08253139 0.08702555 0.09112891 0.09044502 0.0897367\n",
            " 0.08900396 0.0930829  0.09686874 0.0984075  0.09916467 0.10573494\n",
            " 0.11076645 0.11699477 0.11374628 0.11831371 0.1168238  0.11960823\n",
            " 0.12818133 0.12654487 0.12144009 0.12044305 0.12044305 0.1213572\n",
            " 0.1211044  0.12073275 0.12037443 0.12009139 0.11990614 0.11982166\n",
            " 0.11983225 0.11992862 0.12009986 0.12033446 0.12062053 0.12094641\n",
            " 0.12130102 0.12167413 0.1220569  0.12244171 0.12282253 0.12319479\n",
            " 0.12355525 0.123902   0.12423413 0.12455163]\n",
            "23 day output [[0.12485518]]\n",
            "24 day input [0.06431049 0.07139368 0.07215085 0.07627864 0.08228714 0.08872307\n",
            " 0.08443652 0.09222803 0.08636608 0.092399   0.09156856 0.09322945\n",
            " 0.08900396 0.08995652 0.08614626 0.09195936 0.09293635 0.09213033\n",
            " 0.09015192 0.08990767 0.08497387 0.08761174 0.07615651 0.07676713\n",
            " 0.0807728  0.08192077 0.07371403 0.0714181  0.06374872 0.06912217\n",
            " 0.07517952 0.0722974  0.06882908 0.06843828 0.07483758 0.07024571\n",
            " 0.07432465 0.07383616 0.07371403 0.06987934 0.06824288 0.06743686\n",
            " 0.069342   0.06562943 0.07136925 0.07139368 0.07344536 0.07439793\n",
            " 0.0719066  0.07493527 0.08258024 0.08052855 0.08177422 0.08577988\n",
            " 0.08253139 0.08702555 0.09112891 0.09044502 0.0897367  0.08900396\n",
            " 0.0930829  0.09686874 0.0984075  0.09916467 0.10573494 0.11076645\n",
            " 0.11699477 0.11374628 0.11831371 0.1168238  0.11960823 0.12818133\n",
            " 0.12654487 0.12144009 0.12044305 0.12044305 0.1213572  0.1211044\n",
            " 0.12073275 0.12037443 0.12009139 0.11990614 0.11982166 0.11983225\n",
            " 0.11992862 0.12009986 0.12033446 0.12062053 0.12094641 0.12130102\n",
            " 0.12167413 0.1220569  0.12244171 0.12282253 0.12319479 0.12355525\n",
            " 0.123902   0.12423413 0.12455163 0.12485518]\n",
            "24 day output [[0.12514596]]\n",
            "25 day input [0.07139368 0.07215085 0.07627864 0.08228714 0.08872307 0.08443652\n",
            " 0.09222803 0.08636608 0.092399   0.09156856 0.09322945 0.08900396\n",
            " 0.08995652 0.08614626 0.09195936 0.09293635 0.09213033 0.09015192\n",
            " 0.08990767 0.08497387 0.08761174 0.07615651 0.07676713 0.0807728\n",
            " 0.08192077 0.07371403 0.0714181  0.06374872 0.06912217 0.07517952\n",
            " 0.0722974  0.06882908 0.06843828 0.07483758 0.07024571 0.07432465\n",
            " 0.07383616 0.07371403 0.06987934 0.06824288 0.06743686 0.069342\n",
            " 0.06562943 0.07136925 0.07139368 0.07344536 0.07439793 0.0719066\n",
            " 0.07493527 0.08258024 0.08052855 0.08177422 0.08577988 0.08253139\n",
            " 0.08702555 0.09112891 0.09044502 0.0897367  0.08900396 0.0930829\n",
            " 0.09686874 0.0984075  0.09916467 0.10573494 0.11076645 0.11699477\n",
            " 0.11374628 0.11831371 0.1168238  0.11960823 0.12818133 0.12654487\n",
            " 0.12144009 0.12044305 0.12044305 0.1213572  0.1211044  0.12073275\n",
            " 0.12037443 0.12009139 0.11990614 0.11982166 0.11983225 0.11992862\n",
            " 0.12009986 0.12033446 0.12062053 0.12094641 0.12130102 0.12167413\n",
            " 0.1220569  0.12244171 0.12282253 0.12319479 0.12355525 0.123902\n",
            " 0.12423413 0.12455163 0.12485518 0.12514596]\n",
            "25 day output [[0.12542544]]\n",
            "26 day input [0.07215085 0.07627864 0.08228714 0.08872307 0.08443652 0.09222803\n",
            " 0.08636608 0.092399   0.09156856 0.09322945 0.08900396 0.08995652\n",
            " 0.08614626 0.09195936 0.09293635 0.09213033 0.09015192 0.08990767\n",
            " 0.08497387 0.08761174 0.07615651 0.07676713 0.0807728  0.08192077\n",
            " 0.07371403 0.0714181  0.06374872 0.06912217 0.07517952 0.0722974\n",
            " 0.06882908 0.06843828 0.07483758 0.07024571 0.07432465 0.07383616\n",
            " 0.07371403 0.06987934 0.06824288 0.06743686 0.069342   0.06562943\n",
            " 0.07136925 0.07139368 0.07344536 0.07439793 0.0719066  0.07493527\n",
            " 0.08258024 0.08052855 0.08177422 0.08577988 0.08253139 0.08702555\n",
            " 0.09112891 0.09044502 0.0897367  0.08900396 0.0930829  0.09686874\n",
            " 0.0984075  0.09916467 0.10573494 0.11076645 0.11699477 0.11374628\n",
            " 0.11831371 0.1168238  0.11960823 0.12818133 0.12654487 0.12144009\n",
            " 0.12044305 0.12044305 0.1213572  0.1211044  0.12073275 0.12037443\n",
            " 0.12009139 0.11990614 0.11982166 0.11983225 0.11992862 0.12009986\n",
            " 0.12033446 0.12062053 0.12094641 0.12130102 0.12167413 0.1220569\n",
            " 0.12244171 0.12282253 0.12319479 0.12355525 0.123902   0.12423413\n",
            " 0.12455163 0.12485518 0.12514596 0.12542544]\n",
            "26 day output [[0.1256954]]\n",
            "27 day input [0.07627864 0.08228714 0.08872307 0.08443652 0.09222803 0.08636608\n",
            " 0.092399   0.09156856 0.09322945 0.08900396 0.08995652 0.08614626\n",
            " 0.09195936 0.09293635 0.09213033 0.09015192 0.08990767 0.08497387\n",
            " 0.08761174 0.07615651 0.07676713 0.0807728  0.08192077 0.07371403\n",
            " 0.0714181  0.06374872 0.06912217 0.07517952 0.0722974  0.06882908\n",
            " 0.06843828 0.07483758 0.07024571 0.07432465 0.07383616 0.07371403\n",
            " 0.06987934 0.06824288 0.06743686 0.069342   0.06562943 0.07136925\n",
            " 0.07139368 0.07344536 0.07439793 0.0719066  0.07493527 0.08258024\n",
            " 0.08052855 0.08177422 0.08577988 0.08253139 0.08702555 0.09112891\n",
            " 0.09044502 0.0897367  0.08900396 0.0930829  0.09686874 0.0984075\n",
            " 0.09916467 0.10573494 0.11076645 0.11699477 0.11374628 0.11831371\n",
            " 0.1168238  0.11960823 0.12818133 0.12654487 0.12144009 0.12044305\n",
            " 0.12044305 0.1213572  0.1211044  0.12073275 0.12037443 0.12009139\n",
            " 0.11990614 0.11982166 0.11983225 0.11992862 0.12009986 0.12033446\n",
            " 0.12062053 0.12094641 0.12130102 0.12167413 0.1220569  0.12244171\n",
            " 0.12282253 0.12319479 0.12355525 0.123902   0.12423413 0.12455163\n",
            " 0.12485518 0.12514596 0.12542544 0.12569541]\n",
            "27 day output [[0.12595752]]\n",
            "28 day input [0.08228714 0.08872307 0.08443652 0.09222803 0.08636608 0.092399\n",
            " 0.09156856 0.09322945 0.08900396 0.08995652 0.08614626 0.09195936\n",
            " 0.09293635 0.09213033 0.09015192 0.08990767 0.08497387 0.08761174\n",
            " 0.07615651 0.07676713 0.0807728  0.08192077 0.07371403 0.0714181\n",
            " 0.06374872 0.06912217 0.07517952 0.0722974  0.06882908 0.06843828\n",
            " 0.07483758 0.07024571 0.07432465 0.07383616 0.07371403 0.06987934\n",
            " 0.06824288 0.06743686 0.069342   0.06562943 0.07136925 0.07139368\n",
            " 0.07344536 0.07439793 0.0719066  0.07493527 0.08258024 0.08052855\n",
            " 0.08177422 0.08577988 0.08253139 0.08702555 0.09112891 0.09044502\n",
            " 0.0897367  0.08900396 0.0930829  0.09686874 0.0984075  0.09916467\n",
            " 0.10573494 0.11076645 0.11699477 0.11374628 0.11831371 0.1168238\n",
            " 0.11960823 0.12818133 0.12654487 0.12144009 0.12044305 0.12044305\n",
            " 0.1213572  0.1211044  0.12073275 0.12037443 0.12009139 0.11990614\n",
            " 0.11982166 0.11983225 0.11992862 0.12009986 0.12033446 0.12062053\n",
            " 0.12094641 0.12130102 0.12167413 0.1220569  0.12244171 0.12282253\n",
            " 0.12319479 0.12355525 0.123902   0.12423413 0.12455163 0.12485518\n",
            " 0.12514596 0.12542544 0.12569541 0.12595752]\n",
            "28 day output [[0.12621346]]\n",
            "29 day input [0.08872307 0.08443652 0.09222803 0.08636608 0.092399   0.09156856\n",
            " 0.09322945 0.08900396 0.08995652 0.08614626 0.09195936 0.09293635\n",
            " 0.09213033 0.09015192 0.08990767 0.08497387 0.08761174 0.07615651\n",
            " 0.07676713 0.0807728  0.08192077 0.07371403 0.0714181  0.06374872\n",
            " 0.06912217 0.07517952 0.0722974  0.06882908 0.06843828 0.07483758\n",
            " 0.07024571 0.07432465 0.07383616 0.07371403 0.06987934 0.06824288\n",
            " 0.06743686 0.069342   0.06562943 0.07136925 0.07139368 0.07344536\n",
            " 0.07439793 0.0719066  0.07493527 0.08258024 0.08052855 0.08177422\n",
            " 0.08577988 0.08253139 0.08702555 0.09112891 0.09044502 0.0897367\n",
            " 0.08900396 0.0930829  0.09686874 0.0984075  0.09916467 0.10573494\n",
            " 0.11076645 0.11699477 0.11374628 0.11831371 0.1168238  0.11960823\n",
            " 0.12818133 0.12654487 0.12144009 0.12044305 0.12044305 0.1213572\n",
            " 0.1211044  0.12073275 0.12037443 0.12009139 0.11990614 0.11982166\n",
            " 0.11983225 0.11992862 0.12009986 0.12033446 0.12062053 0.12094641\n",
            " 0.12130102 0.12167413 0.1220569  0.12244171 0.12282253 0.12319479\n",
            " 0.12355525 0.123902   0.12423413 0.12455163 0.12485518 0.12514596\n",
            " 0.12542544 0.12569541 0.12595752 0.12621346]\n",
            "29 day output [[0.12646481]]\n",
            "[[0.12135720252990723], [0.1211044043302536], [0.12073275446891785], [0.12037442624568939], [0.12009138613939285], [0.11990614235401154], [0.11982166022062302], [0.11983224749565125], [0.11992862075567245], [0.12009985744953156], [0.12033446133136749], [0.12062052637338638], [0.12094641476869583], [0.12130101770162582], [0.12167412787675858], [0.12205690145492554], [0.12244170904159546], [0.12282253056764603], [0.12319479137659073], [0.1235552504658699], [0.12390200048685074], [0.12423412501811981], [0.12455163151025772], [0.124855175614357], [0.12514595687389374], [0.12542544305324554], [0.12569540739059448], [0.12595751881599426], [0.1262134611606598], [0.1264648139476776]]\n"
          ],
          "name": "stdout"
        }
      ]
    },
    {
      "cell_type": "code",
      "metadata": {
        "id": "u6XWIvb8vj9G"
      },
      "source": [
        "\n",
        "day_new=np.arange(1,101)\n",
        "day_pred=np.arange(101,131)\n"
      ],
      "execution_count": 111,
      "outputs": []
    },
    {
      "cell_type": "code",
      "metadata": {
        "id": "XLIfHF0bwUEs"
      },
      "source": [
        "import matplotlib.pyplot as plt"
      ],
      "execution_count": 112,
      "outputs": []
    },
    {
      "cell_type": "code",
      "metadata": {
        "colab": {
          "base_uri": "https://localhost:8080/"
        },
        "id": "F1Qe2SizwWn6",
        "outputId": "dda1c797-91bd-490e-b653-d0272671f336"
      },
      "source": [
        "len(df2)"
      ],
      "execution_count": 113,
      "outputs": [
        {
          "output_type": "execute_result",
          "data": {
            "text/plain": [
              "1257"
            ]
          },
          "metadata": {
            "tags": []
          },
          "execution_count": 113
        }
      ]
    },
    {
      "cell_type": "code",
      "metadata": {
        "colab": {
          "base_uri": "https://localhost:8080/",
          "height": 282
        },
        "id": "3jHpuazVweUa",
        "outputId": "b80ee64e-0d92-45c6-a672-9859b237fa31"
      },
      "source": [
        "df3=df2.tolist()\n",
        "df3.extend(lst_output)\n",
        "plt.plot(df3[1200:])"
      ],
      "execution_count": 125,
      "outputs": [
        {
          "output_type": "execute_result",
          "data": {
            "text/plain": [
              "[<matplotlib.lines.Line2D at 0x7ff1fba6e550>]"
            ]
          },
          "metadata": {
            "tags": []
          },
          "execution_count": 125
        },
        {
          "output_type": "display_data",
          "data": {
            "image/png": "[encoded data removed]",
            "text/plain": [
              "<Figure size 432x288 with 1 Axes>"
            ]
          },
          "metadata": {
            "tags": [],
            "needs_background": "light"
          }
        }
      ]
    },
    {
      "cell_type": "code",
      "metadata": {
        "id": "SQ_pXkDxxF3e"
      },
      "source": [
        "df3=scaler.inverse_transform(df3).tolist()"
      ],
      "execution_count": 122,
      "outputs": []
    },
    {
      "cell_type": "code",
      "metadata": {
        "colab": {
          "base_uri": "https://localhost:8080/",
          "height": 282
        },
        "id": "_74_b-ODxPAi",
        "outputId": "c555598e-fb8c-4d94-e41c-c144d9051e05"
      },
      "source": [
        "plt.plot(df3)"
      ],
      "execution_count": 123,
      "outputs": [
        {
          "output_type": "execute_result",
          "data": {
            "text/plain": [
              "[<matplotlib.lines.Line2D at 0x7ff1fbaee950>]"
            ]
          },
          "metadata": {
            "tags": []
          },
          "execution_count": 123
        },
        {
          "output_type": "display_data",
          "data": {
            "image/png": "[encoded data removed]",
            "text/plain": [
              "<Figure size 432x288 with 1 Axes>"
            ]
          },
          "metadata": {
            "tags": [],
            "needs_background": "light"
          }
        }
      ]
    },
    {
      "cell_type": "code",
      "metadata": {
        "id": "wyrzr9aRxRHP"
      },
      "source": [
        ""
      ],
      "execution_count": null,
      "outputs": []
    }
  ]
}